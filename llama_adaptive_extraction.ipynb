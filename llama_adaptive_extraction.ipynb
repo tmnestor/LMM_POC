{
 "cells": [
  {
   "cell_type": "markdown",
   "id": "cell-0",
   "metadata": {},
   "source": [
    "# Llama Adaptive Bank Statement Extraction\n",
    "\n",
    "Uses multi-turn conversation to:\n",
    "1. **Turn 1**: Classify bank statement structure (flat vs date-grouped)\n",
    "2. **Turn 2**: Apply structure-specific extraction prompt\n",
    "\n",
    "This demonstrates the power of multi-turn for adaptive processing."
   ]
  },
  {
   "cell_type": "code",
   "execution_count": 1,
   "id": "cell-1",
   "metadata": {},
   "outputs": [
    {
     "name": "stdout",
     "output_type": "stream",
     "text": [
      "✅ Imports loaded\n"
     ]
    }
   ],
   "source": [
    "from pathlib import Path\n",
    "import random\n",
    "import yaml\n",
    "\n",
    "import numpy as np\n",
    "import torch\n",
    "from PIL import Image\n",
    "from transformers import AutoProcessor, MllamaForConditionalGeneration\n",
    "\n",
    "def set_seed(seed=42):\n",
    "    random.seed(seed)\n",
    "    np.random.seed(seed)\n",
    "    torch.manual_seed(seed)\n",
    "    if torch.cuda.is_available():\n",
    "        torch.cuda.manual_seed_all(seed)\n",
    "\n",
    "set_seed(42)\n",
    "print(\"✅ Imports loaded\")"
   ]
  },
  {
   "cell_type": "code",
   "execution_count": 2,
   "id": "cell-2",
   "metadata": {},
   "outputs": [
    {
     "name": "stdout",
     "output_type": "stream",
     "text": [
      "🔧 Loading model...\n"
     ]
    },
    {
     "data": {
      "application/vnd.jupyter.widget-view+json": {
       "model_id": "279e3cfe9a7848e98535e1575ec76dc7",
       "version_major": 2,
       "version_minor": 0
      },
      "text/plain": [
       "Loading checkpoint shards:   0%|          | 0/5 [00:00<?, ?it/s]"
      ]
     },
     "metadata": {},
     "output_type": "display_data"
    },
    {
     "name": "stdout",
     "output_type": "stream",
     "text": [
      "✅ Model loaded\n"
     ]
    }
   ],
   "source": [
    "# Load model\n",
    "model_id = \"/home/jovyan/nfs_share/models/Llama-3.2-11B-Vision-Instruct\"\n",
    "print(\"🔧 Loading model...\")\n",
    "\n",
    "model = MllamaForConditionalGeneration.from_pretrained(\n",
    "    model_id,\n",
    "    torch_dtype=torch.bfloat16,\n",
    "    device_map=\"auto\"\n",
    ")\n",
    "processor = AutoProcessor.from_pretrained(model_id)\n",
    "\n",
    "print(\"✅ Model loaded\")"
   ]
  },
  {
   "cell_type": "code",
   "execution_count": 3,
   "id": "cell-3",
   "metadata": {},
   "outputs": [
    {
     "name": "stdout",
     "output_type": "stream",
     "text": [
      "✅ Extraction prompts loaded\n",
      "  - Flat table prompt: 3056 chars\n",
      "  - Date-grouped prompt: 3282 chars\n"
     ]
    }
   ],
   "source": [
    "# Load extraction prompts from YAML\n",
    "prompt_file = Path(\"/home/jovyan/nfs_share/tod/LMM_POC/prompts/generated/llama_bank_statement_prompt.yaml\")\n",
    "\n",
    "with open(prompt_file, 'r') as f:\n",
    "    prompt_data = yaml.safe_load(f)\n",
    "\n",
    "flat_prompt = prompt_data['prompts']['bank_statement_flat']['prompt']\n",
    "grouped_prompt = prompt_data['prompts']['bank_statement_date_grouped']['prompt']\n",
    "\n",
    "print(\"✅ Extraction prompts loaded\")\n",
    "print(f\"  - Flat table prompt: {len(flat_prompt)} chars\")\n",
    "print(f\"  - Date-grouped prompt: {len(grouped_prompt)} chars\")"
   ]
  },
  {
   "cell_type": "code",
   "execution_count": 4,
   "id": "cell-4",
   "metadata": {},
   "outputs": [
    {
     "name": "stdout",
     "output_type": "stream",
     "text": [
      "✅ Image loaded: image_008.png\n",
      "  Size: (900, 1320)\n"
     ]
    }
   ],
   "source": [
    "# Select test image (change this to test different images)\n",
    "# Options: image_003.png (flat), image_008.png (date-grouped), image_009.png (flat)\n",
    "\n",
    "image_name = \"image_008.png\"  # Change to test different structures\n",
    "image_path = f\"/home/jovyan/nfs_share/tod/LMM_POC/evaluation_data/{image_name}\"\n",
    "\n",
    "image = Image.open(image_path)\n",
    "images = [image]  # Store as list for multi-turn\n",
    "\n",
    "print(f\"✅ Image loaded: {image_name}\")\n",
    "print(f\"  Size: {image.size}\")"
   ]
  },
  {
   "cell_type": "code",
   "execution_count": 5,
   "id": "cell-5",
   "metadata": {},
   "outputs": [
    {
     "name": "stdout",
     "output_type": "stream",
     "text": [
      "✅ Chat function defined\n"
     ]
    }
   ],
   "source": [
    "# Chat function using the working multi-turn pattern\n",
    "def chat_with_mllm(model, processor, prompt, images, messages=[], max_new_tokens=2000, do_sample=False):\n",
    "    \"\"\"Multi-turn chat function following Medium article pattern.\"\"\"\n",
    "    if len(messages) == 0:\n",
    "        messages = [{\"role\": \"user\", \"content\": [{\"type\": \"image\"}, {\"type\": \"text\", \"text\": prompt}]}]\n",
    "    else:\n",
    "        messages.append({\"role\": \"user\", \"content\": [{\"type\": \"text\", \"text\": prompt}]})\n",
    "    \n",
    "    text = processor.apply_chat_template(messages, add_generation_prompt=True)\n",
    "    inputs = processor(images=images, text=text, return_tensors=\"pt\").to(model.device)\n",
    "    \n",
    "    generation_args = {\"max_new_tokens\": max_new_tokens, \"do_sample\": do_sample}\n",
    "    generate_ids = model.generate(**inputs, **generation_args)\n",
    "    \n",
    "    # Trim input tokens from output\n",
    "    generate_ids = generate_ids[:, inputs['input_ids'].shape[1]:-1]\n",
    "    generated_texts = processor.decode(generate_ids[0], clean_up_tokenization_spaces=False)\n",
    "    \n",
    "    messages.append({\"role\": \"assistant\", \"content\": [{\"type\": \"text\", \"text\": generated_texts}]})\n",
    "    \n",
    "    return generated_texts, messages\n",
    "\n",
    "print(\"✅ Chat function defined\")"
   ]
  },
  {
   "cell_type": "markdown",
   "id": "cell-6",
   "metadata": {},
   "source": [
    "## Turn 1: Classify Bank Statement Structure"
   ]
  },
  {
   "cell_type": "code",
   "execution_count": 6,
   "id": "cell-7",
   "metadata": {},
   "outputs": [
    {
     "name": "stdout",
     "output_type": "stream",
     "text": [
      "💬 Turn 1: Classifying structure...\n"
     ]
    },
    {
     "name": "stderr",
     "output_type": "stream",
     "text": [
      "/home/jovyan/.conda/envs/unified_vision_processor/lib/python3.11/site-packages/transformers/generation/configuration_utils.py:631: UserWarning: `do_sample` is set to `False`. However, `temperature` is set to `0.6` -- this flag is only used in sample-based generation modes. You should set `do_sample=True` or unset `temperature`.\n",
      "  warnings.warn(\n",
      "/home/jovyan/.conda/envs/unified_vision_processor/lib/python3.11/site-packages/transformers/generation/configuration_utils.py:636: UserWarning: `do_sample` is set to `False`. However, `top_p` is set to `0.9` -- this flag is only used in sample-based generation modes. You should set `do_sample=True` or unset `top_p`.\n",
      "  warnings.warn(\n"
     ]
    },
    {
     "name": "stdout",
     "output_type": "stream",
     "text": [
      "\n",
      "============================================================\n",
      "STRUCTURE CLASSIFICATION:\n",
      "============================================================\n",
      "GROUPED\n",
      "============================================================\n",
      "\n",
      "🎯 Detected structure: date_grouped\n"
     ]
    }
   ],
   "source": [
    "# Structure classification prompt\n",
    "classification_prompt = \"\"\"Analyze this bank statement's structure.\n",
    "\n",
    "Answer with ONLY one word:\n",
    "- FLAT (if transactions are in a continuous table with columns: Date | Description | Debit | Credit | Balance)\n",
    "- GROUPED (if transactions are organized under date headers like \"Thu 04 Sep 2025\" with transactions listed below)\n",
    "\n",
    "Answer (one word only):\"\"\"\n",
    "\n",
    "messages = []\n",
    "print(\"💬 Turn 1: Classifying structure...\")\n",
    "structure_answer, messages = chat_with_mllm(model, processor, classification_prompt, images, messages, max_new_tokens=50)\n",
    "\n",
    "print(\"\\n\" + \"=\"*60)\n",
    "print(\"STRUCTURE CLASSIFICATION:\")\n",
    "print(\"=\"*60)\n",
    "print(structure_answer.strip())\n",
    "print(\"=\"*60)\n",
    "\n",
    "# Parse answer\n",
    "structure_type = structure_answer.strip().upper()\n",
    "if \"FLAT\" in structure_type:\n",
    "    detected_structure = \"flat\"\n",
    "elif \"GROUPED\" in structure_type or \"DATE\" in structure_type:\n",
    "    detected_structure = \"date_grouped\"\n",
    "else:\n",
    "    detected_structure = \"flat\"  # Default fallback\n",
    "\n",
    "print(f\"\\n🎯 Detected structure: {detected_structure}\")"
   ]
  },
  {
   "cell_type": "markdown",
   "id": "cell-8",
   "metadata": {},
   "source": [
    "## Turn 2: Apply Structure-Specific Extraction"
   ]
  },
  {
   "cell_type": "code",
   "execution_count": 7,
   "id": "cell-9",
   "metadata": {},
   "outputs": [
    {
     "name": "stdout",
     "output_type": "stream",
     "text": [
      "💬 Turn 2: Applying Date-Grouped extraction prompt...\n",
      "  Prompt length: 3282 chars\n",
      "\n",
      "============================================================\n",
      "EXTRACTION RESULT (Date-Grouped):\n",
      "============================================================\n",
      "DOCUMENT_TYPE: BANK_STATEMENT\n",
      "STATEMENT_DATE_RANGE: 08/08/2025 to 07/09/2025\n",
      "TRANSACTION_DATES: 07/09/2025 | 08/09/2025 | 04/09/2025 | 03/09/2025 | 02/09/2025 | 01/09/2025 | 31/08/2025 | 29/08/2025 | 27/08/2025 | 26/08/2025 | 24/08/2025 | 23/08/2025 | 22/08/2025 | 20/08/2025 | 19/08/2025 | 18/08/2025 | 17/08/2025 | 14/08/2025 | 13/08/2025 | 11/08/2025 | 10/08/2025 | 09/08/2025 | 06/08/2025 | 05/08/2025 | 04/08/2025\n",
      "LINE_ITEM_DESCRIPTIONS: EFTPOS Cash Out PRICELINE PHARMACY MACKAY QLD | EFTPOS Purchase OFFICEWORKS BUSINESS ROCKHAMPTO... | Mortgage Repayment MORT 8103P16754533 NAB | OSKO Payment to MIKE CHEN 809B4B5773133 | Direct Debit 1539SP4 1608203 MWF 42730 | Salary Payment ATO 28782P60782100 | DD INSURANCE ACME CORP PTY LTD 82321942151853 | Auto Payment UTILITIES AGL 74294 0P85943944 | DIRECT CREDIT SALARY 6080P67812986 | BPAY Payment BILLER60279 CRN 9813018480 | Professional Services Red Energy 8073P31959417 | Card Purchase RED ROOSTER Paramatta SA | Credit Card Payment CC 7259P33283283298 | EFTPOS Cash Out PRICELINE PHARMACY BRISBANE QLD | Card Purchase CHEMIST WAREHOUSE DISCOUNT Richmo... | Fortnightly Pay ATO PAYROLL 91032P35687918 | PAY RUN ACME CORP PTY LTD 99584P07785218 | Salary Payment ATO 30175P32361415 | Online Purchase amazon.com.au AUS | Salary Payment ATO 28773P16041610 | Transfer To Vicks Account NetBank 54381P90841102 | Salary Payment ATO 94514P80490207 | Transfer To Western Port Marina NetBank From Tod | Subscription Netflix 33588P77385123 | Contactless Payment Cinema CAIRNS QLD | Auto Payment UTILITIES Red Energy 15107P21771655 | Contactless Payment Restaurant MACKAY QLD | Fortnightly Pay ATO PAYROLL 36358P70254998 | Centrelink Payment JobSeeker 59392P56090878 | International Transaction Fee | Equipment Purchase OfficeMax Australia 13554P45... | International ATM USA USD | Dividend Payment PREMIUM CORP PTY LTD 7353SP419... | Invoice Payment HARVEY NORMAN FLAGSHIP PTY LTD ... | Online Purchase ebay.com.au AUS | Subscription Spotify Monthly 15369P58427775 | International Transaction Fee | Business Expense IT Equipment 66969P86141679 | Auto Payment UTILITIES Energy Australia 47683P7... | Auto Payment UTILITIES Red Energy 81338P61572286\n",
      "TRANSACTION_AMOUNTS_PAID: $322.18 | $64.33 | $649.79 | $1365.43 | $199.17 | $45.04 | $257.50 | $37.68 | $270.31 | $1957.09 | $221.60 | $222.56 | $5679.21 | $4455.46 | $7951.93 | $6013.70 | $2345.10 | $728.48 | $201.14 | $211.28 | $33.24 | $145.70 | $7201.19 | $2241.39 | $478.86 | $260.71 | $229.39 | $257.95 | $166.22 | $33.83 | $62.18 | $91.04 | $389.57\n",
      "============================================================\n"
     ]
    }
   ],
   "source": [
    "# Select appropriate prompt based on detected structure\n",
    "if detected_structure == \"date_grouped\":\n",
    "    extraction_prompt = grouped_prompt\n",
    "    prompt_name = \"Date-Grouped\"\n",
    "else:\n",
    "    extraction_prompt = flat_prompt\n",
    "    prompt_name = \"Flat Table\"\n",
    "\n",
    "print(f\"💬 Turn 2: Applying {prompt_name} extraction prompt...\")\n",
    "print(f\"  Prompt length: {len(extraction_prompt)} chars\")\n",
    "\n",
    "extraction_result, messages = chat_with_mllm(\n",
    "    model, processor, extraction_prompt, images, messages, max_new_tokens=2000\n",
    ")\n",
    "\n",
    "print(\"\\n\" + \"=\"*60)\n",
    "print(f\"EXTRACTION RESULT ({prompt_name}):\")\n",
    "print(\"=\"*60)\n",
    "print(extraction_result)\n",
    "print(\"=\"*60)"
   ]
  },
  {
   "cell_type": "markdown",
   "id": "cell-10",
   "metadata": {},
   "source": [
    "## Save Results"
   ]
  },
  {
   "cell_type": "code",
   "execution_count": 8,
   "id": "cell-11",
   "metadata": {},
   "outputs": [
    {
     "name": "stdout",
     "output_type": "stream",
     "text": [
      "✅ Results saved to: /home/jovyan/nfs_share/tod/LMM_POC/output/adaptive_extraction_image_008.txt\n"
     ]
    }
   ],
   "source": [
    "# Save extraction results\n",
    "output_dir = Path(\"/home/jovyan/nfs_share/tod/LMM_POC/output\")\n",
    "output_dir.mkdir(exist_ok=True)\n",
    "\n",
    "output_file = output_dir / f\"adaptive_extraction_{image_name.replace('.png', '')}.txt\"\n",
    "\n",
    "with open(output_file, 'w') as f:\n",
    "    f.write(f\"Image: {image_name}\\n\")\n",
    "    f.write(f\"Detected Structure: {detected_structure}\\n\")\n",
    "    f.write(f\"Prompt Used: {prompt_name}\\n\")\n",
    "    f.write(\"\\n\" + \"=\"*60 + \"\\n\")\n",
    "    f.write(\"EXTRACTION RESULT:\\n\")\n",
    "    f.write(\"=\"*60 + \"\\n\")\n",
    "    f.write(extraction_result)\n",
    "\n",
    "print(f\"✅ Results saved to: {output_file}\")"
   ]
  },
  {
   "cell_type": "markdown",
   "id": "cell-12",
   "metadata": {},
   "source": [
    "## Summary & Analysis"
   ]
  },
  {
   "cell_type": "code",
   "execution_count": 9,
   "id": "cell-13",
   "metadata": {},
   "outputs": [
    {
     "name": "stdout",
     "output_type": "stream",
     "text": [
      "\n",
      "📊 ADAPTIVE EXTRACTION SUMMARY\n",
      "============================================================\n",
      "Image: image_008.png\n",
      "Detected Structure: date_grouped\n",
      "Prompt Applied: Date-Grouped\n",
      "Total Conversation Turns: 4\n",
      "\n",
      "Conversation Flow:\n",
      "  1. USER: Analyze this bank statement's structure.\n",
      "\n",
      "Answer with ONLY one word:\n",
      "- FLAT (if ...\n",
      "  2. ASSISTANT: GROUPED\n",
      "  3. USER: You are an expert document analyzer specializing in bank statement extraction.\n",
      "E...\n",
      "  4. ASSISTANT: DOCUMENT_TYPE: BANK_STATEMENT\n",
      "STATEMENT_DATE_RANGE: 08/08/2025 to 07/09/2025\n",
      "TRA...\n",
      "============================================================\n",
      "\n",
      "✅ Extracted 5 fields\n",
      "✅ Multi-turn adaptive extraction complete!\n"
     ]
    }
   ],
   "source": [
    "# Show conversation flow\n",
    "print(\"\\n📊 ADAPTIVE EXTRACTION SUMMARY\")\n",
    "print(\"=\"*60)\n",
    "print(f\"Image: {image_name}\")\n",
    "print(f\"Detected Structure: {detected_structure}\")\n",
    "print(f\"Prompt Applied: {prompt_name}\")\n",
    "print(f\"Total Conversation Turns: {len(messages)}\")\n",
    "print(\"\\nConversation Flow:\")\n",
    "for i, msg in enumerate(messages, 1):\n",
    "    role = msg['role'].upper()\n",
    "    content_preview = \"\"\n",
    "    for c in msg['content']:\n",
    "        if c['type'] == 'text':\n",
    "            text = c['text'].strip()\n",
    "            content_preview = text[:80] + \"...\" if len(text) > 80 else text\n",
    "            break\n",
    "        elif c['type'] == 'image':\n",
    "            content_preview = \"[IMAGE]\"\n",
    "    print(f\"  {i}. {role}: {content_preview}\")\n",
    "print(\"=\"*60)\n",
    "\n",
    "# Parse extraction to count fields\n",
    "field_count = 0\n",
    "for line in extraction_result.split('\\n'):\n",
    "    if ':' in line and not line.strip().startswith('#'):\n",
    "        field_count += 1\n",
    "\n",
    "print(f\"\\n✅ Extracted {field_count} fields\")\n",
    "print(f\"✅ Multi-turn adaptive extraction complete!\")"
   ]
  },
  {
   "cell_type": "markdown",
   "id": "cell-14",
   "metadata": {},
   "source": [
    "## Test Different Images\n",
    "\n",
    "To test different bank statement structures, change `image_name` in cell 4:\n",
    "- `image_003.png` - Flat table format\n",
    "- `image_008.png` - Date-grouped format  \n",
    "- `image_009.png` - Flat table format\n",
    "\n",
    "The notebook will automatically:\n",
    "1. Detect the structure\n",
    "2. Apply the appropriate extraction prompt\n",
    "3. Show the results"
   ]
  }
 ],
 "metadata": {
  "kernelspec": {
   "display_name": "Python (unified_vision_processor)",
   "language": "python",
   "name": "unified_vision_processor"
  },
  "language_info": {
   "codemirror_mode": {
    "name": "ipython",
    "version": 3
   },
   "file_extension": ".py",
   "mimetype": "text/x-python",
   "name": "python",
   "nbconvert_exporter": "python",
   "pygments_lexer": "ipython3",
   "version": "3.11.13"
  }
 },
 "nbformat": 4,
 "nbformat_minor": 5
}
