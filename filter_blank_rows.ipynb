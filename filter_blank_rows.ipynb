{
 "cells": [
  {
   "cell_type": "code",
   "execution_count": null,
   "id": "cell-0",
   "metadata": {},
   "outputs": [],
   "source": [
    "import pandas as pd\n",
    "import numpy as np"
   ]
  },
  {
   "cell_type": "code",
   "execution_count": null,
   "id": "cell-1",
   "metadata": {},
   "outputs": [],
   "source": [
    "# Read CSV file\n",
    "df = pd.read_csv('your_file.csv')\n",
    "\n",
    "# Display the dataframe\n",
    "print(f\"Total rows: {len(df)}\")\n",
    "df.head()"
   ]
  },
  {
   "cell_type": "code",
   "execution_count": null,
   "id": "cell-2",
   "metadata": {},
   "outputs": [],
   "source": "# Filter for rows where image_id is NOT blank, but ALL other columns ARE blank\n# Get all column names except 'image_id'\nother_columns = [col for col in df.columns if col != 'image_id']\n\n# Create filter:\n# - image_id is not null/blank\n# - all other columns are null/blank\nfiltered_df = df[\n    (df['image_id'].notna()) &  # image_id is not blank\n    (df['image_id'] != '') &     # image_id is not empty string\n    (df[other_columns].isna().all(axis=1))  # all other columns are blank\n]\n\nprint(f\"Filtered rows: {len(filtered_df)}\")\nfiltered_df"
  },
  {
   "cell_type": "code",
   "execution_count": null,
   "id": "cell-3",
   "metadata": {},
   "outputs": [],
   "source": "# Alternative: If you want to treat empty strings as blank too in other columns\nfiltered_df_alt = df[\n    (df['image_id'].notna()) &  # image_id is not blank\n    (df['image_id'] != '') &     # image_id is not empty string\n    (df[other_columns].replace('', np.nan).isna().all(axis=1))  # all other columns are blank or empty\n]\n\nprint(f\"Filtered rows (alternative): {len(filtered_df_alt)}\")\nfiltered_df_alt"
  },
  {
   "cell_type": "code",
   "id": "ihsff1yi5rl",
   "source": "# Display an image given its image_id\nfrom pathlib import Path\nfrom PIL import Image\nfrom IPython.display import display\n\n# Get the image_id from the filtered results (or specify manually)\n# Example: Use the first filtered row's image_id\nif len(filtered_df) > 0:\n    image_id = filtered_df.iloc[0]['image_id']\n    \n    # Construct image path (adjust base path as needed)\n    # Common pattern in this codebase: evaluation_data directory\n    image_path = Path('evaluation_data') / image_id\n    \n    # Alternative: if images are elsewhere, adjust the path\n    # image_path = Path('path/to/images') / image_id\n    \n    print(f\"Displaying image: {image_id}\")\n    print(f\"Full path: {image_path}\")\n    \n    # Load and display the image\n    if image_path.exists():\n        img = Image.open(image_path)\n        display(img)\n    else:\n        print(f\"⚠️ Image not found at: {image_path}\")\nelse:\n    print(\"No filtered rows to display\")",
   "metadata": {},
   "execution_count": null,
   "outputs": []
  },
  {
   "cell_type": "code",
   "id": "kjh7mwfvd9",
   "source": "# Read CSV and replace all empty cells with 'NOT_FOUND'\ndf_cleaned = pd.read_csv('your_file.csv')\n\n# Replace NaN/null values with 'NOT_FOUND'\ndf_cleaned = df_cleaned.fillna('NOT_FOUND')\n\n# Also replace empty strings with 'NOT_FOUND'\ndf_cleaned = df_cleaned.replace('', 'NOT_FOUND')\n\nprint(f\"Cleaned {len(df_cleaned)} rows\")\nprint(f\"Sample of cleaned data:\")\ndf_cleaned.head()",
   "metadata": {},
   "execution_count": null,
   "outputs": []
  }
 ],
 "metadata": {
  "kernelspec": {
   "display_name": "Python 3",
   "language": "python",
   "name": "python3"
  },
  "language_info": {
   "name": "python",
   "version": "3.11.0"
  }
 },
 "nbformat": 4,
 "nbformat_minor": 5
}