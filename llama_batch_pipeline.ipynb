{
 "cells": [
  {
   "cell_type": "markdown",
   "id": "cell-0",
   "metadata": {},
   "source": [
    "# Llama Pipeline-Oriented Batch Processing\n",
    "\n",
    "**Transparent pandas-based pipeline for processing images**\n",
    "\n",
    "Clear separation of extraction → parsing → cleaning → evaluation stages:\n",
    "1. **Stage 0**: Classify document type (INVOICE/RECEIPT/BANK_STATEMENT)\n",
    "2. **Stage 1**: Classify structure (if BANK_STATEMENT: FLAT/GROUPED)\n",
    "3. **Stage 2**: Extract field values using document-type-aware prompts\n",
    "4. **Stage 3**: Parse responses (text → structured fields) using `hybrid_parse_response`\n",
    "5. **Stage 4**: Clean and normalize field values using `ExtractionCleaner`\n",
    "6. **Stage 5**: Evaluate against ground truth (optional)\n",
    "\n",
    "**Key Features:**\n",
    "- Inspectable at every stage\n",
    "- Checkpointing support\n",
    "- Scalable to 10,000+ images\n",
    "- Compatible with model_comparison.ipynb"
   ]
  },
  {
   "cell_type": "code",
   "execution_count": 1,
   "id": "cell-1",
   "metadata": {},
   "outputs": [
    {
     "data": {
      "text/html": [
       "<pre style=\"white-space:pre;overflow-x:auto;line-height:normal;font-family:Menlo,'DejaVu Sans Mono',consolas,'Courier New',monospace\"><span style=\"color: #008000; text-decoration-color: #008000\">✅ Imports loaded </span><span style=\"color: #008000; text-decoration-color: #008000; font-weight: bold\">(</span><span style=\"color: #008000; text-decoration-color: #008000\">using pipeline_lib</span><span style=\"color: #008000; text-decoration-color: #008000; font-weight: bold\">)</span>\n",
       "</pre>\n"
      ],
      "text/plain": [
       "\u001b[32m✅ Imports loaded \u001b[0m\u001b[1;32m(\u001b[0m\u001b[32musing pipeline_lib\u001b[0m\u001b[1;32m)\u001b[0m\n"
      ]
     },
     "metadata": {},
     "output_type": "display_data"
    }
   ],
   "source": [
    "#Cell 1\n",
    "import gc\n",
    "import json\n",
    "import random\n",
    "import time\n",
    "from datetime import datetime\n",
    "from pathlib import Path\n",
    "\n",
    "import numpy as np\n",
    "import pandas as pd\n",
    "import torch\n",
    "import yaml\n",
    "from PIL import Image\n",
    "from rich import print as rprint\n",
    "from rich.console import Console\n",
    "from transformers import AutoProcessor, MllamaForConditionalGeneration\n",
    "\n",
    "# Pipeline library imports - NEW lightweight library (replacing common/)\n",
    "from pipeline_lib import (\n",
    "    hybrid_parse_response,\n",
    "    ExtractionCleaner,\n",
    "    load_ground_truth,\n",
    "    calculate_field_accuracy,\n",
    "    stage_3_parsing,\n",
    "    stage_4_cleaning,\n",
    "    stage_5_evaluation,\n",
    "    show_pipeline_memory,\n",
    ")\n",
    "\n",
    "# Initialize console for rich output\n",
    "console = Console()\n",
    "\n",
    "def set_seed(seed=42):\n",
    "    random.seed(seed)\n",
    "    np.random.seed(seed)\n",
    "    torch.manual_seed(seed)\n",
    "    if torch.cuda.is_available():\n",
    "        torch.cuda.manual_seed_all(seed)\n",
    "\n",
    "set_seed(42)\n",
    "rprint(\"[green]✅ Imports loaded (using pipeline_lib)[/green]\")"
   ]
  },
  {
   "cell_type": "markdown",
   "id": "cell-2",
   "metadata": {},
   "source": [
    "## Configuration"
   ]
  },
  {
   "cell_type": "code",
   "execution_count": 2,
   "id": "cell-3",
   "metadata": {},
   "outputs": [
    {
     "data": {
      "text/html": [
       "<pre style=\"white-space:pre;overflow-x:auto;line-height:normal;font-family:Menlo,'DejaVu Sans Mono',consolas,'Courier New',monospace\"><span style=\"color: #008000; text-decoration-color: #008000\">✅ Configuration loaded</span>\n",
       "</pre>\n"
      ],
      "text/plain": [
       "\u001b[32m✅ Configuration loaded\u001b[0m\n"
      ]
     },
     "metadata": {},
     "output_type": "display_data"
    },
    {
     "data": {
      "text/html": [
       "<pre style=\"white-space:pre;overflow-x:auto;line-height:normal;font-family:Menlo,'DejaVu Sans Mono',consolas,'Courier New',monospace\"><span style=\"color: #008080; text-decoration-color: #008080\">  Environment: sandbox</span>\n",
       "</pre>\n"
      ],
      "text/plain": [
       "\u001b[36m  Environment: sandbox\u001b[0m\n"
      ]
     },
     "metadata": {},
     "output_type": "display_data"
    },
    {
     "data": {
      "text/html": [
       "<pre style=\"white-space:pre;overflow-x:auto;line-height:normal;font-family:Menlo,'DejaVu Sans Mono',consolas,'Courier New',monospace\"><span style=\"color: #008080; text-decoration-color: #008080\">  Base path: /home/jovyan/nfs_share/tod</span>\n",
       "</pre>\n"
      ],
      "text/plain": [
       "\u001b[36m  Base path: \u001b[0m\u001b[36m/home/jovyan/nfs_share/\u001b[0m\u001b[36mtod\u001b[0m\n"
      ]
     },
     "metadata": {},
     "output_type": "display_data"
    },
    {
     "data": {
      "text/html": [
       "<pre style=\"white-space:pre;overflow-x:auto;line-height:normal;font-family:Menlo,'DejaVu Sans Mono',consolas,'Courier New',monospace\"><span style=\"color: #008080; text-decoration-color: #008080\">  Output directory: /home/jovyan/nfs_share/tod/LMM_POC/output</span>\n",
       "</pre>\n"
      ],
      "text/plain": [
       "\u001b[36m  Output directory: \u001b[0m\u001b[36m/home/jovyan/nfs_share/tod/LMM_POC/\u001b[0m\u001b[36moutput\u001b[0m\n"
      ]
     },
     "metadata": {},
     "output_type": "display_data"
    },
    {
     "data": {
      "text/html": [
       "<pre style=\"white-space:pre;overflow-x:auto;line-height:normal;font-family:Menlo,'DejaVu Sans Mono',consolas,'Courier New',monospace\"><span style=\"color: #008080; text-decoration-color: #008080\">  Checkpoint directory: /home/jovyan/nfs_share/tod/LMM_POC/output/checkpoints</span>\n",
       "</pre>\n"
      ],
      "text/plain": [
       "\u001b[36m  Checkpoint directory: \u001b[0m\u001b[36m/home/jovyan/nfs_share/tod/LMM_POC/output/\u001b[0m\u001b[36mcheckpoints\u001b[0m\n"
      ]
     },
     "metadata": {},
     "output_type": "display_data"
    },
    {
     "data": {
      "text/html": [
       "<pre style=\"white-space:pre;overflow-x:auto;line-height:normal;font-family:Menlo,'DejaVu Sans Mono',consolas,'Courier New',monospace\"><span style=\"color: #008080; text-decoration-color: #008080\">  Timestamp: 20251023_000640</span>\n",
       "</pre>\n"
      ],
      "text/plain": [
       "\u001b[36m  Timestamp: 20251023_000640\u001b[0m\n"
      ]
     },
     "metadata": {},
     "output_type": "display_data"
    },
    {
     "data": {
      "text/html": [
       "<pre style=\"white-space:pre;overflow-x:auto;line-height:normal;font-family:Menlo,'DejaVu Sans Mono',consolas,'Courier New',monospace\"><span style=\"color: #008080; text-decoration-color: #008080\">  Mode: Evaluation mode</span>\n",
       "</pre>\n"
      ],
      "text/plain": [
       "\u001b[36m  Mode: Evaluation mode\u001b[0m\n"
      ]
     },
     "metadata": {},
     "output_type": "display_data"
    },
    {
     "data": {
      "text/html": [
       "<pre style=\"white-space:pre;overflow-x:auto;line-height:normal;font-family:Menlo,'DejaVu Sans Mono',consolas,'Courier New',monospace\"><span style=\"color: #008080; text-decoration-color: #008080\">  Expected fields: </span><span style=\"color: #008080; text-decoration-color: #008080; font-weight: bold\">17</span>\n",
       "</pre>\n"
      ],
      "text/plain": [
       "\u001b[36m  Expected fields: \u001b[0m\u001b[1;36m17\u001b[0m\n"
      ]
     },
     "metadata": {},
     "output_type": "display_data"
    }
   ],
   "source": [
    "#Cell 2\n",
    "# Environment-specific base paths\n",
    "ENVIRONMENT_BASES = {\n",
    "    'sandbox': '/home/jovyan/nfs_share/tod',\n",
    "    'efs': '/efs/shared/PoC_data'\n",
    "}\n",
    "base_data_path = ENVIRONMENT_BASES['sandbox']\n",
    "\n",
    "CONFIG = {\n",
    "    # Model settings\n",
    "    # 'MODEL_PATH': \"/efs/shared/PTM/Llama-3.2-11B-Vision-Instruct\",\n",
    "    'MODEL_PATH': \"/home/jovyan/nfs_share/models/Llama-3.2-11B-Vision-Instruct\",\n",
    "    \n",
    "    # Data paths - Using base path for consistency\n",
    "    'DATA_DIR': f'{base_data_path}/LMM_POC/evaluation_data',\n",
    "    'GROUND_TRUTH': f'{base_data_path}/LMM_POC/evaluation_data/ground_truth.csv',\n",
    "    \n",
    "    # Prompt files - Using base path for consistency\n",
    "    'PROMPT_FILE_DOCTYPE': f'{base_data_path}/LMM_POC/prompts/document_type_detection.yaml',\n",
    "    'PROMPT_FILE_INVOICE': f'{base_data_path}/LMM_POC/prompts/generated/llama_invoice_prompt.yaml',\n",
    "    'PROMPT_FILE_RECEIPT': f'{base_data_path}/LMM_POC/prompts/generated/llama_receipt_prompt.yaml',\n",
    "    'PROMPT_FILE_BANK': f'{base_data_path}/LMM_POC/prompts/generated/llama_bank_statement_prompt.yaml',\n",
    "    \n",
    "    # Output directory - Using base path for consistency\n",
    "    'OUTPUT_DIR': f'{base_data_path}/LMM_POC/output',\n",
    "    \n",
    "    # Token limits\n",
    "    'MAX_NEW_TOKENS_DOCTYPE': 50,\n",
    "    'MAX_NEW_TOKENS_STRUCTURE': 50,\n",
    "    'MAX_NEW_TOKENS_EXTRACT': 2000,\n",
    "    \n",
    "    # Pipeline control\n",
    "    'INFERENCE_ONLY': False,  # Set to True to skip ground truth evaluation\n",
    "    \n",
    "    # Verbosity control\n",
    "    'VERBOSE': True,  # Show stage-by-stage progress\n",
    "    'SHOW_PROMPTS': False,  # Show actual prompts being used\n",
    "}\n",
    "\n",
    "# Make GROUND_TRUTH conditional based on INFERENCE_ONLY mode\n",
    "if CONFIG['INFERENCE_ONLY']:\n",
    "    CONFIG['GROUND_TRUTH'] = None\n",
    "\n",
    "# Define expected fields (matching ground truth)\n",
    "FIELD_COLUMNS = [\n",
    "    'DOCUMENT_TYPE', 'BUSINESS_ABN', 'SUPPLIER_NAME', 'BUSINESS_ADDRESS',\n",
    "    'PAYER_NAME', 'PAYER_ADDRESS', 'INVOICE_DATE', 'LINE_ITEM_DESCRIPTIONS',\n",
    "    'LINE_ITEM_QUANTITIES', 'LINE_ITEM_PRICES', 'LINE_ITEM_TOTAL_PRICES',\n",
    "    'IS_GST_INCLUDED', 'GST_AMOUNT', 'TOTAL_AMOUNT', 'STATEMENT_DATE_RANGE',\n",
    "    'TRANSACTION_DATES', 'TRANSACTION_AMOUNTS_PAID'\n",
    "]\n",
    "\n",
    "# Create output directory\n",
    "output_dir = Path(CONFIG['OUTPUT_DIR'])\n",
    "output_dir.mkdir(exist_ok=True)\n",
    "\n",
    "# Create checkpoint directory\n",
    "checkpoint_dir = output_dir / 'checkpoints'\n",
    "checkpoint_dir.mkdir(exist_ok=True)\n",
    "\n",
    "# Timestamp for output files\n",
    "TIMESTAMP = datetime.now().strftime(\"%Y%m%d_%H%M%S\")\n",
    "\n",
    "# Initialize extraction cleaner\n",
    "cleaner = ExtractionCleaner(debug=CONFIG['VERBOSE'])\n",
    "\n",
    "rprint(\"[green]✅ Configuration loaded[/green]\")\n",
    "rprint(f\"[cyan]  Environment: {[k for k, v in ENVIRONMENT_BASES.items() if v == base_data_path][0]}[/cyan]\")\n",
    "rprint(f\"[cyan]  Base path: {base_data_path}[/cyan]\")\n",
    "rprint(f\"[cyan]  Output directory: {output_dir}[/cyan]\")\n",
    "rprint(f\"[cyan]  Checkpoint directory: {checkpoint_dir}[/cyan]\")\n",
    "rprint(f\"[cyan]  Timestamp: {TIMESTAMP}[/cyan]\")\n",
    "rprint(f\"[cyan]  Mode: {'Inference-only' if CONFIG['INFERENCE_ONLY'] else 'Evaluation mode'}[/cyan]\")\n",
    "rprint(f\"[cyan]  Expected fields: {len(FIELD_COLUMNS)}[/cyan]\")"
   ]
  },
  {
   "cell_type": "markdown",
   "id": "cell-4",
   "metadata": {},
   "source": [
    "## Load Model"
   ]
  },
  {
   "cell_type": "code",
   "execution_count": 3,
   "id": "cell-5",
   "metadata": {},
   "outputs": [
    {
     "data": {
      "text/html": [
       "<pre style=\"white-space:pre;overflow-x:auto;line-height:normal;font-family:Menlo,'DejaVu Sans Mono',consolas,'Courier New',monospace\"><span style=\"color: #008000; text-decoration-color: #008000; font-weight: bold\">🔧 Loading Llama model...</span>\n",
       "</pre>\n"
      ],
      "text/plain": [
       "\u001b[1;32m🔧 Loading Llama model\u001b[0m\u001b[1;32m...\u001b[0m\n"
      ]
     },
     "metadata": {},
     "output_type": "display_data"
    },
    {
     "data": {
      "application/vnd.jupyter.widget-view+json": {
       "model_id": "2a4b5f326eee47feb4520cf6a89ecde1",
       "version_major": 2,
       "version_minor": 0
      },
      "text/plain": [
       "Loading checkpoint shards:   0%|          | 0/5 [00:00<?, ?it/s]"
      ]
     },
     "metadata": {},
     "output_type": "display_data"
    },
    {
     "data": {
      "text/html": [
       "<pre style=\"white-space:pre;overflow-x:auto;line-height:normal;font-family:Menlo,'DejaVu Sans Mono',consolas,'Courier New',monospace\"><span style=\"color: #000080; text-decoration-color: #000080\">🔄 Multi-GPU Distribution Analysis </span><span style=\"color: #000080; text-decoration-color: #000080; font-weight: bold\">(</span><span style=\"color: #000080; text-decoration-color: #000080; font-weight: bold\">2</span><span style=\"color: #000080; text-decoration-color: #000080\"> GPUs</span><span style=\"color: #000080; text-decoration-color: #000080; font-weight: bold\">)</span><span style=\"color: #000080; text-decoration-color: #000080\">:</span>\n",
       "</pre>\n"
      ],
      "text/plain": [
       "\u001b[34m🔄 Multi-GPU Distribution Analysis \u001b[0m\u001b[1;34m(\u001b[0m\u001b[1;34m2\u001b[0m\u001b[34m GPUs\u001b[0m\u001b[1;34m)\u001b[0m\u001b[34m:\u001b[0m\n"
      ]
     },
     "metadata": {},
     "output_type": "display_data"
    },
    {
     "data": {
      "text/html": [
       "<pre style=\"white-space:pre;overflow-x:auto;line-height:normal;font-family:Menlo,'DejaVu Sans Mono',consolas,'Courier New',monospace\">   GPU <span style=\"color: #008080; text-decoration-color: #008080; font-weight: bold\">0</span> <span style=\"font-weight: bold\">(</span>NVIDIA H200<span style=\"font-weight: bold\">)</span>: <span style=\"color: #008080; text-decoration-color: #008080; font-weight: bold\">9.</span>8GB/150GB <span style=\"font-weight: bold\">(</span><span style=\"color: #008080; text-decoration-color: #008080; font-weight: bold\">6.5</span>%<span style=\"font-weight: bold\">)</span>\n",
       "</pre>\n"
      ],
      "text/plain": [
       "   GPU \u001b[1;36m0\u001b[0m \u001b[1m(\u001b[0mNVIDIA H200\u001b[1m)\u001b[0m: \u001b[1;36m9.\u001b[0m8GB/150GB \u001b[1m(\u001b[0m\u001b[1;36m6.5\u001b[0m%\u001b[1m)\u001b[0m\n"
      ]
     },
     "metadata": {},
     "output_type": "display_data"
    },
    {
     "data": {
      "text/html": [
       "<pre style=\"white-space:pre;overflow-x:auto;line-height:normal;font-family:Menlo,'DejaVu Sans Mono',consolas,'Courier New',monospace\">   GPU <span style=\"color: #008080; text-decoration-color: #008080; font-weight: bold\">1</span> <span style=\"font-weight: bold\">(</span>NVIDIA H200<span style=\"font-weight: bold\">)</span>: <span style=\"color: #008080; text-decoration-color: #008080; font-weight: bold\">11.</span>6GB/150GB <span style=\"font-weight: bold\">(</span><span style=\"color: #008080; text-decoration-color: #008080; font-weight: bold\">7.7</span>%<span style=\"font-weight: bold\">)</span>\n",
       "</pre>\n"
      ],
      "text/plain": [
       "   GPU \u001b[1;36m1\u001b[0m \u001b[1m(\u001b[0mNVIDIA H200\u001b[1m)\u001b[0m: \u001b[1;36m11.\u001b[0m6GB/150GB \u001b[1m(\u001b[0m\u001b[1;36m7.7\u001b[0m%\u001b[1m)\u001b[0m\n"
      ]
     },
     "metadata": {},
     "output_type": "display_data"
    },
    {
     "data": {
      "text/html": [
       "<pre style=\"white-space:pre;overflow-x:auto;line-height:normal;font-family:Menlo,'DejaVu Sans Mono',consolas,'Courier New',monospace\"><span style=\"color: #000080; text-decoration-color: #000080\">📊 Total across all GPUs: </span><span style=\"color: #000080; text-decoration-color: #000080; font-weight: bold\">21.</span><span style=\"color: #000080; text-decoration-color: #000080\">3GB allocated, </span><span style=\"color: #000080; text-decoration-color: #000080; font-weight: bold\">21.</span><span style=\"color: #000080; text-decoration-color: #000080\">3GB reserved, 300GB capacity</span>\n",
       "</pre>\n"
      ],
      "text/plain": [
       "\u001b[34m📊 Total across all GPUs: \u001b[0m\u001b[1;34m21.\u001b[0m\u001b[34m3GB allocated, \u001b[0m\u001b[1;34m21.\u001b[0m\u001b[34m3GB reserved, 300GB capacity\u001b[0m\n"
      ]
     },
     "metadata": {},
     "output_type": "display_data"
    },
    {
     "data": {
      "text/html": [
       "<pre style=\"white-space:pre;overflow-x:auto;line-height:normal;font-family:Menlo,'DejaVu Sans Mono',consolas,'Courier New',monospace\"><span style=\"color: #008000; text-decoration-color: #008000\">✅ Model successfully distributed across GPUs</span>\n",
       "</pre>\n"
      ],
      "text/plain": [
       "\u001b[32m✅ Model successfully distributed across GPUs\u001b[0m\n"
      ]
     },
     "metadata": {},
     "output_type": "display_data"
    },
    {
     "data": {
      "text/html": [
       "<pre style=\"white-space:pre;overflow-x:auto;line-height:normal;font-family:Menlo,'DejaVu Sans Mono',consolas,'Courier New',monospace\">   <span style=\"color: #008080; text-decoration-color: #008080; font-weight: bold\">0</span>: <span style=\"color: #008080; text-decoration-color: #008080; font-weight: bold\">18</span> modules\n",
       "</pre>\n"
      ],
      "text/plain": [
       "   \u001b[1;36m0\u001b[0m: \u001b[1;36m18\u001b[0m modules\n"
      ]
     },
     "metadata": {},
     "output_type": "display_data"
    },
    {
     "data": {
      "text/html": [
       "<pre style=\"white-space:pre;overflow-x:auto;line-height:normal;font-family:Menlo,'DejaVu Sans Mono',consolas,'Courier New',monospace\">   <span style=\"color: #008080; text-decoration-color: #008080; font-weight: bold\">1</span>: <span style=\"color: #008080; text-decoration-color: #008080; font-weight: bold\">28</span> modules\n",
       "</pre>\n"
      ],
      "text/plain": [
       "   \u001b[1;36m1\u001b[0m: \u001b[1;36m28\u001b[0m modules\n"
      ]
     },
     "metadata": {},
     "output_type": "display_data"
    },
    {
     "data": {
      "text/html": [
       "<pre style=\"white-space:pre;overflow-x:auto;line-height:normal;font-family:Menlo,'DejaVu Sans Mono',consolas,'Courier New',monospace\"><span style=\"font-style: italic\">                            🔧 Llama Vision Model Configuration                            </span>\n",
       "┏━━━━━━━━━━━━━━━━━━━━━┳━━━━━━━━━━━━━━━━━━━━━━━━━━━━━━━┳━━━━━━━━━━━━━━━━━━━━━━━━━━━━━━━━━━━┓\n",
       "┃<span style=\"font-weight: bold\"> Setting             </span>┃<span style=\"font-weight: bold\"> Value                         </span>┃<span style=\"font-weight: bold\"> Status                            </span>┃\n",
       "┡━━━━━━━━━━━━━━━━━━━━━╇━━━━━━━━━━━━━━━━━━━━━━━━━━━━━━━╇━━━━━━━━━━━━━━━━━━━━━━━━━━━━━━━━━━━┩\n",
       "│<span style=\"color: #008080; text-decoration-color: #008080\"> Model Path          </span>│<span style=\"color: #808000; text-decoration-color: #808000\"> Llama-3.2-11B-Vision-Instruct </span>│<span style=\"color: #008000; text-decoration-color: #008000\"> ✅ Valid                          </span>│\n",
       "│<span style=\"color: #008080; text-decoration-color: #008080\"> Device Placement    </span>│<span style=\"color: #808000; text-decoration-color: #808000\"> cuda:0                        </span>│<span style=\"color: #008000; text-decoration-color: #008000\"> ✅ Loaded                         </span>│\n",
       "│<span style=\"color: #008080; text-decoration-color: #008080\"> Quantization Method </span>│<span style=\"color: #808000; text-decoration-color: #808000\"> 16-bit                        </span>│<span style=\"color: #008000; text-decoration-color: #008000\"> ✅ 16-bit (Performance Optimized) </span>│\n",
       "│<span style=\"color: #008080; text-decoration-color: #008080\"> Data Type           </span>│<span style=\"color: #808000; text-decoration-color: #808000\"> torch.bfloat16                </span>│<span style=\"color: #008000; text-decoration-color: #008000\"> ✅ Recommended                    </span>│\n",
       "│<span style=\"color: #008080; text-decoration-color: #008080\"> Max New Tokens      </span>│<span style=\"color: #808000; text-decoration-color: #808000\"> 2000                          </span>│<span style=\"color: #008000; text-decoration-color: #008000\"> ✅ Generation Ready               </span>│\n",
       "│<span style=\"color: #008080; text-decoration-color: #008080\"> GPU Configuration   </span>│<span style=\"color: #808000; text-decoration-color: #808000\"> 2x NVIDIA H200 (300GB)        </span>│<span style=\"color: #008000; text-decoration-color: #008000\"> ✅ 300GB Total                    </span>│\n",
       "│<span style=\"color: #008080; text-decoration-color: #008080\"> Model Parameters    </span>│<span style=\"color: #808000; text-decoration-color: #808000\"> 10,670,220,835                </span>│<span style=\"color: #008000; text-decoration-color: #008000\"> ✅ Loaded                         </span>│\n",
       "│<span style=\"color: #008080; text-decoration-color: #008080\"> Memory Optimization </span>│<span style=\"color: #808000; text-decoration-color: #808000\"> Llama Optimized               </span>│<span style=\"color: #008000; text-decoration-color: #008000\"> ✅ V100 Compatible                </span>│\n",
       "└─────────────────────┴───────────────────────────────┴───────────────────────────────────┘\n",
       "</pre>\n"
      ],
      "text/plain": [
       "\u001b[3m                            🔧 Llama Vision Model Configuration                            \u001b[0m\n",
       "┏━━━━━━━━━━━━━━━━━━━━━┳━━━━━━━━━━━━━━━━━━━━━━━━━━━━━━━┳━━━━━━━━━━━━━━━━━━━━━━━━━━━━━━━━━━━┓\n",
       "┃\u001b[1m \u001b[0m\u001b[1mSetting            \u001b[0m\u001b[1m \u001b[0m┃\u001b[1m \u001b[0m\u001b[1mValue                        \u001b[0m\u001b[1m \u001b[0m┃\u001b[1m \u001b[0m\u001b[1mStatus                           \u001b[0m\u001b[1m \u001b[0m┃\n",
       "┡━━━━━━━━━━━━━━━━━━━━━╇━━━━━━━━━━━━━━━━━━━━━━━━━━━━━━━╇━━━━━━━━━━━━━━━━━━━━━━━━━━━━━━━━━━━┩\n",
       "│\u001b[36m \u001b[0m\u001b[36mModel Path         \u001b[0m\u001b[36m \u001b[0m│\u001b[33m \u001b[0m\u001b[33mLlama-3.2-11B-Vision-Instruct\u001b[0m\u001b[33m \u001b[0m│\u001b[32m \u001b[0m\u001b[32m✅ Valid                         \u001b[0m\u001b[32m \u001b[0m│\n",
       "│\u001b[36m \u001b[0m\u001b[36mDevice Placement   \u001b[0m\u001b[36m \u001b[0m│\u001b[33m \u001b[0m\u001b[33mcuda:0                       \u001b[0m\u001b[33m \u001b[0m│\u001b[32m \u001b[0m\u001b[32m✅ Loaded                        \u001b[0m\u001b[32m \u001b[0m│\n",
       "│\u001b[36m \u001b[0m\u001b[36mQuantization Method\u001b[0m\u001b[36m \u001b[0m│\u001b[33m \u001b[0m\u001b[33m16-bit                       \u001b[0m\u001b[33m \u001b[0m│\u001b[32m \u001b[0m\u001b[32m✅ 16-bit (Performance Optimized)\u001b[0m\u001b[32m \u001b[0m│\n",
       "│\u001b[36m \u001b[0m\u001b[36mData Type          \u001b[0m\u001b[36m \u001b[0m│\u001b[33m \u001b[0m\u001b[33mtorch.bfloat16               \u001b[0m\u001b[33m \u001b[0m│\u001b[32m \u001b[0m\u001b[32m✅ Recommended                   \u001b[0m\u001b[32m \u001b[0m│\n",
       "│\u001b[36m \u001b[0m\u001b[36mMax New Tokens     \u001b[0m\u001b[36m \u001b[0m│\u001b[33m \u001b[0m\u001b[33m2000                         \u001b[0m\u001b[33m \u001b[0m│\u001b[32m \u001b[0m\u001b[32m✅ Generation Ready              \u001b[0m\u001b[32m \u001b[0m│\n",
       "│\u001b[36m \u001b[0m\u001b[36mGPU Configuration  \u001b[0m\u001b[36m \u001b[0m│\u001b[33m \u001b[0m\u001b[33m2x NVIDIA H200 (300GB)       \u001b[0m\u001b[33m \u001b[0m│\u001b[32m \u001b[0m\u001b[32m✅ 300GB Total                   \u001b[0m\u001b[32m \u001b[0m│\n",
       "│\u001b[36m \u001b[0m\u001b[36mModel Parameters   \u001b[0m\u001b[36m \u001b[0m│\u001b[33m \u001b[0m\u001b[33m10,670,220,835               \u001b[0m\u001b[33m \u001b[0m│\u001b[32m \u001b[0m\u001b[32m✅ Loaded                        \u001b[0m\u001b[32m \u001b[0m│\n",
       "│\u001b[36m \u001b[0m\u001b[36mMemory Optimization\u001b[0m\u001b[36m \u001b[0m│\u001b[33m \u001b[0m\u001b[33mLlama Optimized              \u001b[0m\u001b[33m \u001b[0m│\u001b[32m \u001b[0m\u001b[32m✅ V100 Compatible               \u001b[0m\u001b[32m \u001b[0m│\n",
       "└─────────────────────┴───────────────────────────────┴───────────────────────────────────┘\n"
      ]
     },
     "metadata": {},
     "output_type": "display_data"
    },
    {
     "data": {
      "text/html": [
       "<pre style=\"white-space:pre;overflow-x:auto;line-height:normal;font-family:Menlo,'DejaVu Sans Mono',consolas,'Courier New',monospace\"><span style=\"color: #008000; text-decoration-color: #008000\">✅ Model loaded</span>\n",
       "</pre>\n"
      ],
      "text/plain": [
       "\u001b[32m✅ Model loaded\u001b[0m\n"
      ]
     },
     "metadata": {},
     "output_type": "display_data"
    }
   ],
   "source": [
    "#Cell 3\n",
    "# Load model with diagnostics\n",
    "from pipeline_lib.model_diagnostics import show_model_diagnostics\n",
    "\n",
    "rprint(\"[bold green]🔧 Loading Llama model...[/bold green]\")\n",
    "\n",
    "model = MllamaForConditionalGeneration.from_pretrained(\n",
    "    CONFIG['MODEL_PATH'],\n",
    "    torch_dtype=torch.bfloat16,\n",
    "    device_map=\"auto\"\n",
    ")\n",
    "processor = AutoProcessor.from_pretrained(CONFIG['MODEL_PATH'])\n",
    "\n",
    "# Show diagnostics (only if VERBOSE is True)\n",
    "show_model_diagnostics(\n",
    "    model, \n",
    "    processor, \n",
    "    CONFIG['MODEL_PATH'], \n",
    "    CONFIG['MAX_NEW_TOKENS_EXTRACT'],\n",
    "    verbose=CONFIG['VERBOSE']\n",
    ")\n",
    "\n",
    "rprint(\"[green]✅ Model loaded[/green]\")"
   ]
  },
  {
   "cell_type": "markdown",
   "id": "cell-6",
   "metadata": {},
   "source": [
    "## Load All Prompts\n",
    "\n",
    "Loading prompts for:\n",
    "- Document type detection\n",
    "- Invoice extraction\n",
    "- Receipt extraction  \n",
    "- Bank statement extraction (flat and grouped variants)"
   ]
  },
  {
   "cell_type": "code",
   "execution_count": 4,
   "id": "cell-7",
   "metadata": {},
   "outputs": [
    {
     "data": {
      "text/html": [
       "<pre style=\"white-space:pre;overflow-x:auto;line-height:normal;font-family:Menlo,'DejaVu Sans Mono',consolas,'Courier New',monospace\"><span style=\"color: #008000; text-decoration-color: #008000\">✅ All prompts loaded</span>\n",
       "</pre>\n"
      ],
      "text/plain": [
       "\u001b[32m✅ All prompts loaded\u001b[0m\n"
      ]
     },
     "metadata": {},
     "output_type": "display_data"
    },
    {
     "data": {
      "text/html": [
       "<pre style=\"white-space:pre;overflow-x:auto;line-height:normal;font-family:Menlo,'DejaVu Sans Mono',consolas,'Courier New',monospace\"><span style=\"color: #008080; text-decoration-color: #008080\">  Document type detection: </span><span style=\"color: #008080; text-decoration-color: #008080; font-weight: bold\">197</span><span style=\"color: #008080; text-decoration-color: #008080\"> chars</span>\n",
       "</pre>\n"
      ],
      "text/plain": [
       "\u001b[36m  Document type detection: \u001b[0m\u001b[1;36m197\u001b[0m\u001b[36m chars\u001b[0m\n"
      ]
     },
     "metadata": {},
     "output_type": "display_data"
    },
    {
     "data": {
      "text/html": [
       "<pre style=\"white-space:pre;overflow-x:auto;line-height:normal;font-family:Menlo,'DejaVu Sans Mono',consolas,'Courier New',monospace\"><span style=\"color: #008080; text-decoration-color: #008080\">  Invoice extraction: </span><span style=\"color: #008080; text-decoration-color: #008080; font-weight: bold\">2138</span><span style=\"color: #008080; text-decoration-color: #008080\"> chars</span>\n",
       "</pre>\n"
      ],
      "text/plain": [
       "\u001b[36m  Invoice extraction: \u001b[0m\u001b[1;36m2138\u001b[0m\u001b[36m chars\u001b[0m\n"
      ]
     },
     "metadata": {},
     "output_type": "display_data"
    },
    {
     "data": {
      "text/html": [
       "<pre style=\"white-space:pre;overflow-x:auto;line-height:normal;font-family:Menlo,'DejaVu Sans Mono',consolas,'Courier New',monospace\"><span style=\"color: #008080; text-decoration-color: #008080\">  Receipt extraction: </span><span style=\"color: #008080; text-decoration-color: #008080; font-weight: bold\">2138</span><span style=\"color: #008080; text-decoration-color: #008080\"> chars</span>\n",
       "</pre>\n"
      ],
      "text/plain": [
       "\u001b[36m  Receipt extraction: \u001b[0m\u001b[1;36m2138\u001b[0m\u001b[36m chars\u001b[0m\n"
      ]
     },
     "metadata": {},
     "output_type": "display_data"
    },
    {
     "data": {
      "text/html": [
       "<pre style=\"white-space:pre;overflow-x:auto;line-height:normal;font-family:Menlo,'DejaVu Sans Mono',consolas,'Courier New',monospace\"><span style=\"color: #008080; text-decoration-color: #008080\">  Bank flat extraction: </span><span style=\"color: #008080; text-decoration-color: #008080; font-weight: bold\">3056</span><span style=\"color: #008080; text-decoration-color: #008080\"> chars</span>\n",
       "</pre>\n"
      ],
      "text/plain": [
       "\u001b[36m  Bank flat extraction: \u001b[0m\u001b[1;36m3056\u001b[0m\u001b[36m chars\u001b[0m\n"
      ]
     },
     "metadata": {},
     "output_type": "display_data"
    },
    {
     "data": {
      "text/html": [
       "<pre style=\"white-space:pre;overflow-x:auto;line-height:normal;font-family:Menlo,'DejaVu Sans Mono',consolas,'Courier New',monospace\"><span style=\"color: #008080; text-decoration-color: #008080\">  Bank grouped extraction: </span><span style=\"color: #008080; text-decoration-color: #008080; font-weight: bold\">3282</span><span style=\"color: #008080; text-decoration-color: #008080\"> chars</span>\n",
       "</pre>\n"
      ],
      "text/plain": [
       "\u001b[36m  Bank grouped extraction: \u001b[0m\u001b[1;36m3282\u001b[0m\u001b[36m chars\u001b[0m\n"
      ]
     },
     "metadata": {},
     "output_type": "display_data"
    }
   ],
   "source": [
    "#Cell 4\n",
    "# Load all prompts\n",
    "\n",
    "# Document type detection prompt\n",
    "with open(CONFIG['PROMPT_FILE_DOCTYPE'], 'r') as f:\n",
    "    doctype_data = yaml.safe_load(f)\n",
    "    DOCTYPE_PROMPT = doctype_data['prompts']['detection']['prompt']\n",
    "\n",
    "# Invoice extraction prompt\n",
    "with open(CONFIG['PROMPT_FILE_INVOICE'], 'r') as f:\n",
    "    invoice_data = yaml.safe_load(f)\n",
    "    INVOICE_PROMPT = invoice_data['prompts']['invoice']['prompt']\n",
    "\n",
    "# Receipt extraction prompt\n",
    "with open(CONFIG['PROMPT_FILE_RECEIPT'], 'r') as f:\n",
    "    receipt_data = yaml.safe_load(f)\n",
    "    RECEIPT_PROMPT = receipt_data['prompts']['receipt']['prompt']\n",
    "\n",
    "# Bank statement extraction prompts\n",
    "with open(CONFIG['PROMPT_FILE_BANK'], 'r') as f:\n",
    "    bank_data = yaml.safe_load(f)\n",
    "    BANK_PROMPTS = {\n",
    "        'flat': bank_data['prompts']['bank_statement_flat']['prompt'],\n",
    "        'date_grouped': bank_data['prompts']['bank_statement_date_grouped']['prompt']\n",
    "    }\n",
    "\n",
    "# Bank statement structure classification prompt\n",
    "STRUCTURE_CLASSIFICATION_PROMPT = \"\"\"Look at how dates are displayed in this bank statement's transaction list.\n",
    "\n",
    "Answer with ONLY one word:\n",
    "- FLAT (if dates appear as the FIRST COLUMN in a table row, like: \"05/05/2025 | Purchase | $22.50\")\n",
    "- GROUPED (if dates appear as SECTION HEADERS above transactions, like: \"Thu 05 Sep 2025\" followed by indented transaction details below)\n",
    "\n",
    "The key difference: FLAT has dates IN the table columns, GROUPED has dates AS headers ABOVE the rows.\n",
    "\n",
    "Answer (one word only):\"\"\"\n",
    "\n",
    "rprint(\"[green]✅ All prompts loaded[/green]\")\n",
    "rprint(f\"[cyan]  Document type detection: {len(DOCTYPE_PROMPT)} chars[/cyan]\")\n",
    "rprint(f\"[cyan]  Invoice extraction: {len(INVOICE_PROMPT)} chars[/cyan]\")\n",
    "rprint(f\"[cyan]  Receipt extraction: {len(RECEIPT_PROMPT)} chars[/cyan]\")\n",
    "rprint(f\"[cyan]  Bank flat extraction: {len(BANK_PROMPTS['flat'])} chars[/cyan]\")\n",
    "rprint(f\"[cyan]  Bank grouped extraction: {len(BANK_PROMPTS['date_grouped'])} chars[/cyan]\")"
   ]
  },
  {
   "cell_type": "markdown",
   "id": "cell-8",
   "metadata": {},
   "source": [
    "## Multi-Turn Chat Function"
   ]
  },
  {
   "cell_type": "code",
   "execution_count": 5,
   "id": "cell-9",
   "metadata": {},
   "outputs": [
    {
     "data": {
      "text/html": [
       "<pre style=\"white-space:pre;overflow-x:auto;line-height:normal;font-family:Menlo,'DejaVu Sans Mono',consolas,'Courier New',monospace\"><span style=\"color: #008000; text-decoration-color: #008000\">✅ Chat function defined</span>\n",
       "</pre>\n"
      ],
      "text/plain": [
       "\u001b[32m✅ Chat function defined\u001b[0m\n"
      ]
     },
     "metadata": {},
     "output_type": "display_data"
    }
   ],
   "source": [
    "#Cell 5\n",
    "def chat_with_mllm(model, processor, prompt, images, messages=None, max_new_tokens=2000, do_sample=False):\n",
    "    \"\"\"Multi-turn chat using working pattern from Medium article.\"\"\"\n",
    "    if messages is None:\n",
    "        messages = []\n",
    "    \n",
    "    if len(messages) == 0:\n",
    "        messages = [{\"role\": \"user\", \"content\": [{\"type\": \"image\"}, {\"type\": \"text\", \"text\": prompt}]}]\n",
    "    else:\n",
    "        messages.append({\"role\": \"user\", \"content\": [{\"type\": \"text\", \"text\": prompt}]})\n",
    "    \n",
    "    text = processor.apply_chat_template(messages, add_generation_prompt=True)\n",
    "    inputs = processor(images=images, text=text, return_tensors=\"pt\").to(model.device)\n",
    "    \n",
    "    # Deterministic generation: explicitly disable sampling parameters\n",
    "    generation_args = {\n",
    "        \"max_new_tokens\": max_new_tokens,\n",
    "        \"do_sample\": do_sample,\n",
    "        \"temperature\": None if not do_sample else 0.6,\n",
    "        \"top_p\": None if not do_sample else 0.9\n",
    "    }\n",
    "    generate_ids = model.generate(**inputs, **generation_args)\n",
    "    \n",
    "    # Trim input tokens from output\n",
    "    generate_ids = generate_ids[:, inputs['input_ids'].shape[1]:-1]\n",
    "    generated_texts = processor.decode(generate_ids[0], clean_up_tokenization_spaces=False)\n",
    "    \n",
    "    messages.append({\"role\": \"assistant\", \"content\": [{\"type\": \"text\", \"text\": generated_texts}]})\n",
    "    \n",
    "    return generated_texts, messages\n",
    "\n",
    "rprint(\"[green]✅ Chat function defined[/green]\")"
   ]
  },
  {
   "cell_type": "markdown",
   "id": "cell-10",
   "metadata": {},
   "source": [
    "## Parser Functions\n",
    "\n",
    "Functions to parse VLM responses:\n",
    "- Document type classification\n",
    "- Bank statement structure classification\n",
    "- Field extraction parsing"
   ]
  },
  {
   "cell_type": "code",
   "execution_count": 6,
   "id": "cell-11",
   "metadata": {},
   "outputs": [
    {
     "data": {
      "text/html": [
       "<pre style=\"white-space:pre;overflow-x:auto;line-height:normal;font-family:Menlo,'DejaVu Sans Mono',consolas,'Courier New',monospace\"><span style=\"color: #008000; text-decoration-color: #008000\">✅ Parser functions defined</span>\n",
       "</pre>\n"
      ],
      "text/plain": [
       "\u001b[32m✅ Parser functions defined\u001b[0m\n"
      ]
     },
     "metadata": {},
     "output_type": "display_data"
    }
   ],
   "source": [
    "#Cell 6\n",
    "def parse_document_type(response):\n",
    "    \"\"\"Parse document type from VLM response.\"\"\"\n",
    "    response = response.strip().upper()\n",
    "    if \"INVOICE\" in response:\n",
    "        return \"INVOICE\"\n",
    "    elif \"RECEIPT\" in response:\n",
    "        return \"RECEIPT\"\n",
    "    elif \"BANK\" in response or \"STATEMENT\" in response:\n",
    "        return \"BANK_STATEMENT\"\n",
    "    else:\n",
    "        return \"INVOICE\"  # Default fallback\n",
    "\n",
    "def parse_structure_type(response):\n",
    "    \"\"\"Parse bank statement structure type from VLM response.\"\"\"\n",
    "    response = response.strip().upper()\n",
    "    if \"FLAT\" in response:\n",
    "        return \"flat\"\n",
    "    elif \"GROUPED\" in response or \"DATE\" in response:\n",
    "        return \"date_grouped\"\n",
    "    else:\n",
    "        return \"flat\"  # Default fallback\n",
    "\n",
    "def parse_extraction(extraction_text):\n",
    "    \"\"\"Parse extraction text into field dictionary.\"\"\"\n",
    "    extracted_fields = {}\n",
    "    \n",
    "    for line in extraction_text.split('\\n'):\n",
    "        line = line.strip()\n",
    "        if ':' in line and not line.startswith('#'):\n",
    "            parts = line.split(':', 1)\n",
    "            if len(parts) == 2:\n",
    "                field_name = parts[0].strip()\n",
    "                field_value = parts[1].strip()\n",
    "                extracted_fields[field_name] = field_value if field_value else 'NOT_FOUND'\n",
    "    \n",
    "    return extracted_fields\n",
    "\n",
    "rprint(\"[green]✅ Parser functions defined[/green]\")"
   ]
  },
  {
   "cell_type": "code",
   "execution_count": 7,
   "id": "image-discovery",
   "metadata": {},
   "outputs": [
    {
     "data": {
      "text/html": [
       "<pre style=\"white-space:pre;overflow-x:auto;line-height:normal;font-family:Menlo,'DejaVu Sans Mono',consolas,'Courier New',monospace\"><span style=\"color: #008000; text-decoration-color: #008000\">✅ Found </span><span style=\"color: #008000; text-decoration-color: #008000; font-weight: bold\">9</span><span style=\"color: #008000; text-decoration-color: #008000\"> images to process</span>\n",
       "</pre>\n"
      ],
      "text/plain": [
       "\u001b[32m✅ Found \u001b[0m\u001b[1;32m9\u001b[0m\u001b[32m images to process\u001b[0m\n"
      ]
     },
     "metadata": {},
     "output_type": "display_data"
    },
    {
     "data": {
      "text/html": [
       "<pre style=\"white-space:pre;overflow-x:auto;line-height:normal;font-family:Menlo,'DejaVu Sans Mono',consolas,'Courier New',monospace\"><span style=\"color: #000080; text-decoration-color: #000080; font-weight: bold\">Images to process:</span>\n",
       "</pre>\n"
      ],
      "text/plain": [
       "\u001b[1;34mImages to process:\u001b[0m\n"
      ]
     },
     "metadata": {},
     "output_type": "display_data"
    },
    {
     "data": {
      "text/html": [
       "<pre style=\"white-space:pre;overflow-x:auto;line-height:normal;font-family:Menlo,'DejaVu Sans Mono',consolas,'Courier New',monospace\"><span style=\"color: #008080; text-decoration-color: #008080\">  - image_001.png</span>\n",
       "</pre>\n"
      ],
      "text/plain": [
       "\u001b[36m  - image_001.png\u001b[0m\n"
      ]
     },
     "metadata": {},
     "output_type": "display_data"
    },
    {
     "data": {
      "text/html": [
       "<pre style=\"white-space:pre;overflow-x:auto;line-height:normal;font-family:Menlo,'DejaVu Sans Mono',consolas,'Courier New',monospace\"><span style=\"color: #008080; text-decoration-color: #008080\">  - image_002.png</span>\n",
       "</pre>\n"
      ],
      "text/plain": [
       "\u001b[36m  - image_002.png\u001b[0m\n"
      ]
     },
     "metadata": {},
     "output_type": "display_data"
    },
    {
     "data": {
      "text/html": [
       "<pre style=\"white-space:pre;overflow-x:auto;line-height:normal;font-family:Menlo,'DejaVu Sans Mono',consolas,'Courier New',monospace\"><span style=\"color: #008080; text-decoration-color: #008080\">  - image_003.png</span>\n",
       "</pre>\n"
      ],
      "text/plain": [
       "\u001b[36m  - image_003.png\u001b[0m\n"
      ]
     },
     "metadata": {},
     "output_type": "display_data"
    },
    {
     "data": {
      "text/html": [
       "<pre style=\"white-space:pre;overflow-x:auto;line-height:normal;font-family:Menlo,'DejaVu Sans Mono',consolas,'Courier New',monospace\"><span style=\"color: #008080; text-decoration-color: #008080\">  - image_004.png</span>\n",
       "</pre>\n"
      ],
      "text/plain": [
       "\u001b[36m  - image_004.png\u001b[0m\n"
      ]
     },
     "metadata": {},
     "output_type": "display_data"
    },
    {
     "data": {
      "text/html": [
       "<pre style=\"white-space:pre;overflow-x:auto;line-height:normal;font-family:Menlo,'DejaVu Sans Mono',consolas,'Courier New',monospace\"><span style=\"color: #008080; text-decoration-color: #008080\">  - image_005.png</span>\n",
       "</pre>\n"
      ],
      "text/plain": [
       "\u001b[36m  - image_005.png\u001b[0m\n"
      ]
     },
     "metadata": {},
     "output_type": "display_data"
    },
    {
     "data": {
      "text/html": [
       "<pre style=\"white-space:pre;overflow-x:auto;line-height:normal;font-family:Menlo,'DejaVu Sans Mono',consolas,'Courier New',monospace\"><span style=\"color: #008080; text-decoration-color: #008080\">  - image_006.png</span>\n",
       "</pre>\n"
      ],
      "text/plain": [
       "\u001b[36m  - image_006.png\u001b[0m\n"
      ]
     },
     "metadata": {},
     "output_type": "display_data"
    },
    {
     "data": {
      "text/html": [
       "<pre style=\"white-space:pre;overflow-x:auto;line-height:normal;font-family:Menlo,'DejaVu Sans Mono',consolas,'Courier New',monospace\"><span style=\"color: #008080; text-decoration-color: #008080\">  - image_007.png</span>\n",
       "</pre>\n"
      ],
      "text/plain": [
       "\u001b[36m  - image_007.png\u001b[0m\n"
      ]
     },
     "metadata": {},
     "output_type": "display_data"
    },
    {
     "data": {
      "text/html": [
       "<pre style=\"white-space:pre;overflow-x:auto;line-height:normal;font-family:Menlo,'DejaVu Sans Mono',consolas,'Courier New',monospace\"><span style=\"color: #008080; text-decoration-color: #008080\">  - image_008.png</span>\n",
       "</pre>\n"
      ],
      "text/plain": [
       "\u001b[36m  - image_008.png\u001b[0m\n"
      ]
     },
     "metadata": {},
     "output_type": "display_data"
    },
    {
     "data": {
      "text/html": [
       "<pre style=\"white-space:pre;overflow-x:auto;line-height:normal;font-family:Menlo,'DejaVu Sans Mono',consolas,'Courier New',monospace\"><span style=\"color: #008080; text-decoration-color: #008080\">  - image_009.png</span>\n",
       "</pre>\n"
      ],
      "text/plain": [
       "\u001b[36m  - image_009.png\u001b[0m\n"
      ]
     },
     "metadata": {},
     "output_type": "display_data"
    }
   ],
   "source": [
    "#Cell 7\n",
    "# Discover all images (no filtering by document type)\n",
    "data_dir = Path(CONFIG[\"DATA_DIR\"])\n",
    "image_files = sorted(data_dir.glob(\"*.png\"))\n",
    "\n",
    "rprint(f\"[green]✅ Found {len(image_files)} images to process[/green]\")\n",
    "\n",
    "rprint(\"[bold blue]Images to process:[/bold blue]\")\n",
    "for img in image_files:\n",
    "    rprint(f\"[cyan]  - {img.name}[/cyan]\")"
   ]
  },
  {
   "cell_type": "markdown",
   "id": "q2rncf5lxkk",
   "metadata": {},
   "source": [
    "## Pipeline Stage 0-2 Functions\n",
    "\n",
    "Define pipeline stages as functions that can be applied to DataFrame rows using pandas `.apply()`"
   ]
  },
  {
   "cell_type": "code",
   "execution_count": 8,
   "id": "0qe3ebq3h4mb",
   "metadata": {},
   "outputs": [],
   "source": [
    "#Cell 8\n",
    "def stage_0_doctype_detection(row):\n",
    "    \"\"\"\n",
    "    Stage 0: Document type detection.\n",
    "    \n",
    "    Args:\n",
    "        row: DataFrame row with 'image_path' column\n",
    "    \n",
    "    Returns:\n",
    "        dict: {'raw_response': str, 'processing_time': float, 'messages': list}\n",
    "    \"\"\"\n",
    "    image_path = row['image_path']\n",
    "    image = Image.open(image_path)\n",
    "    images = [image]\n",
    "    messages = []\n",
    "    \n",
    "    start_time = time.time()\n",
    "    \n",
    "    doctype_answer, messages = chat_with_mllm(\n",
    "        model, processor, DOCTYPE_PROMPT, images, messages,\n",
    "        max_new_tokens=CONFIG['MAX_NEW_TOKENS_DOCTYPE']\n",
    "    )\n",
    "    \n",
    "    processing_time = time.time() - start_time\n",
    "    image.close()\n",
    "    \n",
    "    # GPU cleanup\n",
    "    if torch.cuda.is_available():\n",
    "        torch.cuda.empty_cache()\n",
    "    \n",
    "    return {\n",
    "        'raw_response': doctype_answer,\n",
    "        'processing_time': processing_time,\n",
    "        'messages': messages\n",
    "    }\n",
    "\n",
    "\n",
    "def stage_1_structure_classification(row):\n",
    "    \"\"\"\n",
    "    Stage 1: Structure classification for bank statements.\n",
    "    \n",
    "    Args:\n",
    "        row: DataFrame row with 'image_path', 'document_type', 'messages_after_stage0'\n",
    "    \n",
    "    Returns:\n",
    "        dict or None: {'raw_response': str, 'processing_time': float, 'messages': list}\n",
    "                     or None if not a bank statement\n",
    "    \"\"\"\n",
    "    if row['document_type'] != 'BANK_STATEMENT':\n",
    "        return None\n",
    "    \n",
    "    image_path = row['image_path']\n",
    "    image = Image.open(image_path)\n",
    "    images = [image]\n",
    "    messages = row['messages_after_stage0'].copy()\n",
    "    \n",
    "    start_time = time.time()\n",
    "    \n",
    "    structure_answer, messages = chat_with_mllm(\n",
    "        model, processor, STRUCTURE_CLASSIFICATION_PROMPT, images, messages,\n",
    "        max_new_tokens=CONFIG['MAX_NEW_TOKENS_STRUCTURE']\n",
    "    )\n",
    "    \n",
    "    processing_time = time.time() - start_time\n",
    "    image.close()\n",
    "    \n",
    "    # GPU cleanup\n",
    "    if torch.cuda.is_available():\n",
    "        torch.cuda.empty_cache()\n",
    "    \n",
    "    return {\n",
    "        'raw_response': structure_answer,\n",
    "        'processing_time': processing_time,\n",
    "        'messages': messages\n",
    "    }\n",
    "\n",
    "\n",
    "def stage_2_extraction(row):\n",
    "    \"\"\"\n",
    "    Stage 2: Field extraction with document-type-aware prompts.\n",
    "    \n",
    "    Args:\n",
    "        row: DataFrame row with all previous stage data\n",
    "    \n",
    "    Returns:\n",
    "        dict: {'raw_response': str, 'processing_time': float, 'prompt_used': str}\n",
    "    \"\"\"\n",
    "    image_path = row['image_path']\n",
    "    document_type = row['document_type']\n",
    "    structure_type = row['structure_type']\n",
    "    \n",
    "    # Determine which prompt to use\n",
    "    if document_type == 'BANK_STATEMENT':\n",
    "        extraction_prompt = BANK_PROMPTS[structure_type]\n",
    "        prompt_key = f\"bank_statement_{structure_type}\"\n",
    "        messages = row['messages_after_stage1'].copy()\n",
    "    elif document_type == 'INVOICE':\n",
    "        extraction_prompt = INVOICE_PROMPT\n",
    "        prompt_key = \"invoice\"\n",
    "        messages = row['messages_after_stage0'].copy()\n",
    "    elif document_type == 'RECEIPT':\n",
    "        extraction_prompt = RECEIPT_PROMPT\n",
    "        prompt_key = \"receipt\"\n",
    "        messages = row['messages_after_stage0'].copy()\n",
    "    else:\n",
    "        # Fallback\n",
    "        extraction_prompt = INVOICE_PROMPT\n",
    "        prompt_key = \"invoice_fallback\"\n",
    "        messages = row['messages_after_stage0'].copy()\n",
    "    \n",
    "    image = Image.open(image_path)\n",
    "    images = [image]\n",
    "    \n",
    "    start_time = time.time()\n",
    "    \n",
    "    extraction_result, messages = chat_with_mllm(\n",
    "        model, processor, extraction_prompt, images, messages,\n",
    "        max_new_tokens=CONFIG['MAX_NEW_TOKENS_EXTRACT']\n",
    "    )\n",
    "    \n",
    "    processing_time = time.time() - start_time\n",
    "    image.close()\n",
    "    \n",
    "    # GPU cleanup\n",
    "    if torch.cuda.is_available():\n",
    "        torch.cuda.empty_cache()\n",
    "    \n",
    "    return {\n",
    "        'raw_response': extraction_result,\n",
    "        'processing_time': processing_time,\n",
    "        'prompt_used': prompt_key\n",
    "    }\n",
    "\n",
    "\n",
    "# rprint(\"[green]✅ Pipeline stage functions 0-2 defined[/green]\")"
   ]
  },
  {
   "cell_type": "markdown",
   "id": "e5354152",
   "metadata": {},
   "source": [
    "## Pipeline Stage 3-5 Functions\n",
    "- now imported from pipeline_lib"
   ]
  },
  {
   "cell_type": "code",
   "execution_count": 9,
   "id": "dlj24df2l16",
   "metadata": {},
   "outputs": [
    {
     "data": {
      "text/html": [
       "<pre style=\"white-space:pre;overflow-x:auto;line-height:normal;font-family:Menlo,'DejaVu Sans Mono',consolas,'Courier New',monospace\"><span style=\"color: #008000; text-decoration-color: #008000\">✅ Pipeline stage functions imported from pipeline_lib</span>\n",
       "</pre>\n"
      ],
      "text/plain": [
       "\u001b[32m✅ Pipeline stage functions imported from pipeline_lib\u001b[0m\n"
      ]
     },
     "metadata": {},
     "output_type": "display_data"
    }
   ],
   "source": [
    "#Cell 9\n",
    "# Pipeline Stage Functions\n",
    "#\n",
    "# Stage 3-5 functions are now imported from pipeline_lib.stages\n",
    "#\n",
    "# Usage:\n",
    "#   df[\"parsed_fields\"] = df[\"extraction_response\"].apply(\n",
    "#       lambda x: stage_3_parsing(x, expected_fields=FIELD_COLUMNS)\n",
    "#   )\n",
    "#\n",
    "#   df[\"cleaned_fields\"] = df[\"parsed_fields\"].apply(\n",
    "#       lambda x: stage_4_cleaning(x, cleaner=cleaner)\n",
    "#   )\n",
    "#\n",
    "#   df[\"evaluation\"] = df.apply(\n",
    "#       lambda row: stage_5_evaluation(row, ground_truth, expected_fields=FIELD_COLUMNS),\n",
    "#       axis=1\n",
    "#   )\n",
    "\n",
    "rprint(\"[green]✅ Pipeline stage functions imported from pipeline_lib[/green]\")"
   ]
  },
  {
   "cell_type": "markdown",
   "id": "26301200",
   "metadata": {},
   "source": [
    "## Full Pipeline Function \n",
    "- run all stages sequentially on a DataFrame of images"
   ]
  },
  {
   "cell_type": "code",
   "execution_count": 10,
   "id": "cell-12",
   "metadata": {},
   "outputs": [
    {
     "data": {
      "text/html": [
       "<pre style=\"white-space:pre;overflow-x:auto;line-height:normal;font-family:Menlo,'DejaVu Sans Mono',consolas,'Courier New',monospace\">\n",
       "<span style=\"color: #008000; text-decoration-color: #008000; font-weight: bold\">🚀 Starting batch pipeline processing...</span>\n",
       "</pre>\n"
      ],
      "text/plain": [
       "\n",
       "\u001b[1;32m🚀 Starting batch pipeline processing\u001b[0m\u001b[1;32m...\u001b[0m\n"
      ]
     },
     "metadata": {},
     "output_type": "display_data"
    },
    {
     "data": {
      "text/html": [
       "<pre style=\"white-space:pre;overflow-x:auto;line-height:normal;font-family:Menlo,'DejaVu Sans Mono',consolas,'Courier New',monospace\"><span style=\"color: #008080; text-decoration-color: #008080\">  Total images: </span><span style=\"color: #008080; text-decoration-color: #008080; font-weight: bold\">9</span>\n",
       "</pre>\n"
      ],
      "text/plain": [
       "\u001b[36m  Total images: \u001b[0m\u001b[1;36m9\u001b[0m\n"
      ]
     },
     "metadata": {},
     "output_type": "display_data"
    },
    {
     "data": {
      "text/html": [
       "<pre style=\"white-space:pre;overflow-x:auto;line-height:normal;font-family:Menlo,'DejaVu Sans Mono',consolas,'Courier New',monospace\"><span style=\"color: #008080; text-decoration-color: #008080\">  Batch size: </span><span style=\"color: #008080; text-decoration-color: #008080; font-weight: bold\">1000</span>\n",
       "</pre>\n"
      ],
      "text/plain": [
       "\u001b[36m  Batch size: \u001b[0m\u001b[1;36m1000\u001b[0m\n"
      ]
     },
     "metadata": {},
     "output_type": "display_data"
    },
    {
     "data": {
      "text/html": [
       "<pre style=\"white-space:pre;overflow-x:auto;line-height:normal;font-family:Menlo,'DejaVu Sans Mono',consolas,'Courier New',monospace\"><span style=\"color: #008080; text-decoration-color: #008080\">  Number of batches: </span><span style=\"color: #008080; text-decoration-color: #008080; font-weight: bold\">1</span>\n",
       "\n",
       "</pre>\n"
      ],
      "text/plain": [
       "\u001b[36m  Number of batches: \u001b[0m\u001b[1;36m1\u001b[0m\n",
       "\n"
      ]
     },
     "metadata": {},
     "output_type": "display_data"
    },
    {
     "data": {
      "text/html": [
       "<pre style=\"white-space:pre;overflow-x:auto;line-height:normal;font-family:Menlo,'DejaVu Sans Mono',consolas,'Courier New',monospace\"><span style=\"color: #00ff00; text-decoration-color: #00ff00\">────────────────────────────────────────────── </span><span style=\"color: #800080; text-decoration-color: #800080; font-weight: bold\">Batch </span><span style=\"color: #800080; text-decoration-color: #800080; font-weight: bold\">1</span><span style=\"color: #800080; text-decoration-color: #800080; font-weight: bold\">/</span><span style=\"color: #800080; text-decoration-color: #800080; font-weight: bold\">1</span><span style=\"color: #800080; text-decoration-color: #800080; font-weight: bold\"> (</span><span style=\"color: #800080; text-decoration-color: #800080; font-weight: bold\">9</span><span style=\"color: #800080; text-decoration-color: #800080; font-weight: bold\"> images)</span><span style=\"color: #00ff00; text-decoration-color: #00ff00\"> ───────────────────────────────────────────────</span>\n",
       "</pre>\n"
      ],
      "text/plain": [
       "\u001b[92m────────────────────────────────────────────── \u001b[0m\u001b[1;35mBatch \u001b[0m\u001b[1;35m1\u001b[0m\u001b[1;35m/\u001b[0m\u001b[1;35m1\u001b[0m\u001b[1;35m \u001b[0m\u001b[1;35m(\u001b[0m\u001b[1;35m9\u001b[0m\u001b[1;35m images\u001b[0m\u001b[1;35m)\u001b[0m\u001b[92m ───────────────────────────────────────────────\u001b[0m\n"
      ]
     },
     "metadata": {},
     "output_type": "display_data"
    },
    {
     "data": {
      "text/html": [
       "<pre style=\"white-space:pre;overflow-x:auto;line-height:normal;font-family:Menlo,'DejaVu Sans Mono',consolas,'Courier New',monospace\"><span style=\"color: #00ff00; text-decoration-color: #00ff00\">──────────────────────────────────────── </span><span style=\"color: #008080; text-decoration-color: #008080; font-weight: bold\">Stage </span><span style=\"color: #008080; text-decoration-color: #008080; font-weight: bold\">0</span><span style=\"color: #008080; text-decoration-color: #008080; font-weight: bold\">: Document Type Detection</span><span style=\"color: #00ff00; text-decoration-color: #00ff00\"> ─────────────────────────────────────────</span>\n",
       "</pre>\n"
      ],
      "text/plain": [
       "\u001b[92m──────────────────────────────────────── \u001b[0m\u001b[1;36mStage \u001b[0m\u001b[1;36m0\u001b[0m\u001b[1;36m: Document Type Detection\u001b[0m\u001b[92m ─────────────────────────────────────────\u001b[0m\n"
      ]
     },
     "metadata": {},
     "output_type": "display_data"
    },
    {
     "data": {
      "application/vnd.jupyter.widget-view+json": {
       "model_id": "c7cdcf647dfa472ca3659450377e0c60",
       "version_major": 2,
       "version_minor": 0
      },
      "text/plain": [
       "Stage 0: Doc Type:   0%|          | 0/9 [00:00<?, ?it/s]"
      ]
     },
     "metadata": {},
     "output_type": "display_data"
    },
    {
     "data": {
      "text/html": [
       "<pre style=\"white-space:pre;overflow-x:auto;line-height:normal;font-family:Menlo,'DejaVu Sans Mono',consolas,'Courier New',monospace\"><span style=\"color: #008000; text-decoration-color: #008000\">✅ Stage </span><span style=\"color: #008000; text-decoration-color: #008000; font-weight: bold\">0</span><span style=\"color: #008000; text-decoration-color: #008000\"> complete: </span><span style=\"color: #008000; text-decoration-color: #008000; font-weight: bold\">9</span><span style=\"color: #008000; text-decoration-color: #008000\"> documents classified</span>\n",
       "</pre>\n"
      ],
      "text/plain": [
       "\u001b[32m✅ Stage \u001b[0m\u001b[1;32m0\u001b[0m\u001b[32m complete: \u001b[0m\u001b[1;32m9\u001b[0m\u001b[32m documents classified\u001b[0m\n"
      ]
     },
     "metadata": {},
     "output_type": "display_data"
    },
    {
     "data": {
      "text/html": [
       "<pre style=\"white-space:pre;overflow-x:auto;line-height:normal;font-family:Menlo,'DejaVu Sans Mono',consolas,'Courier New',monospace\"><span style=\"color: #008080; text-decoration-color: #008080\">   Invoices: </span><span style=\"color: #008080; text-decoration-color: #008080; font-weight: bold\">3</span>\n",
       "</pre>\n"
      ],
      "text/plain": [
       "\u001b[36m   Invoices: \u001b[0m\u001b[1;36m3\u001b[0m\n"
      ]
     },
     "metadata": {},
     "output_type": "display_data"
    },
    {
     "data": {
      "text/html": [
       "<pre style=\"white-space:pre;overflow-x:auto;line-height:normal;font-family:Menlo,'DejaVu Sans Mono',consolas,'Courier New',monospace\"><span style=\"color: #008080; text-decoration-color: #008080\">   Receipts: </span><span style=\"color: #008080; text-decoration-color: #008080; font-weight: bold\">3</span>\n",
       "</pre>\n"
      ],
      "text/plain": [
       "\u001b[36m   Receipts: \u001b[0m\u001b[1;36m3\u001b[0m\n"
      ]
     },
     "metadata": {},
     "output_type": "display_data"
    },
    {
     "data": {
      "text/html": [
       "<pre style=\"white-space:pre;overflow-x:auto;line-height:normal;font-family:Menlo,'DejaVu Sans Mono',consolas,'Courier New',monospace\"><span style=\"color: #008080; text-decoration-color: #008080\">   Bank Statements: </span><span style=\"color: #008080; text-decoration-color: #008080; font-weight: bold\">3</span>\n",
       "</pre>\n"
      ],
      "text/plain": [
       "\u001b[36m   Bank Statements: \u001b[0m\u001b[1;36m3\u001b[0m\n"
      ]
     },
     "metadata": {},
     "output_type": "display_data"
    },
    {
     "data": {
      "text/html": [
       "<pre style=\"white-space:pre;overflow-x:auto;line-height:normal;font-family:Menlo,'DejaVu Sans Mono',consolas,'Courier New',monospace\"><span style=\"color: #7f7f7f; text-decoration-color: #7f7f7f\">   💾 Stage </span><span style=\"color: #7fbfbf; text-decoration-color: #7fbfbf; font-weight: bold\">0</span><span style=\"color: #7f7f7f; text-decoration-color: #7f7f7f\">: </span><span style=\"color: #bfbf7f; text-decoration-color: #bfbf7f\">DataFrame</span><span style=\"color: #7f7f7f; text-decoration-color: #7f7f7f\">=</span><span style=\"color: #7fbfbf; text-decoration-color: #7fbfbf; font-weight: bold\">3.</span><span style=\"color: #7f7f7f; text-decoration-color: #7f7f7f\">6KB, </span><span style=\"color: #bfbf7f; text-decoration-color: #bfbf7f\">GPU</span><span style=\"color: #7f7f7f; text-decoration-color: #7f7f7f\">=</span><span style=\"color: #7fbfbf; text-decoration-color: #7fbfbf; font-weight: bold\">9.</span><span style=\"color: #7f7f7f; text-decoration-color: #7f7f7f\">8GB </span><span style=\"color: #7f7f7f; text-decoration-color: #7f7f7f; font-weight: bold\">(</span><span style=\"color: #7f7f7f; text-decoration-color: #7f7f7f\">reserved </span><span style=\"color: #7fbfbf; text-decoration-color: #7fbfbf; font-weight: bold\">9.</span><span style=\"color: #7f7f7f; text-decoration-color: #7f7f7f\">8GB</span><span style=\"color: #7f7f7f; text-decoration-color: #7f7f7f; font-weight: bold\">)</span>\n",
       "</pre>\n"
      ],
      "text/plain": [
       "\u001b[2m   💾 Stage \u001b[0m\u001b[1;2;36m0\u001b[0m\u001b[2m: \u001b[0m\u001b[2;33mDataFrame\u001b[0m\u001b[2m=\u001b[0m\u001b[1;2;36m3\u001b[0m\u001b[1;2;36m.\u001b[0m\u001b[2m6KB, \u001b[0m\u001b[2;33mGPU\u001b[0m\u001b[2m=\u001b[0m\u001b[1;2;36m9\u001b[0m\u001b[1;2;36m.\u001b[0m\u001b[2m8GB \u001b[0m\u001b[1;2m(\u001b[0m\u001b[2mreserved \u001b[0m\u001b[1;2;36m9.\u001b[0m\u001b[2m8GB\u001b[0m\u001b[1;2m)\u001b[0m\n"
      ]
     },
     "metadata": {},
     "output_type": "display_data"
    },
    {
     "data": {
      "text/html": [
       "<pre style=\"white-space:pre;overflow-x:auto;line-height:normal;font-family:Menlo,'DejaVu Sans Mono',consolas,'Courier New',monospace\"><span style=\"color: #00ff00; text-decoration-color: #00ff00\">──────────────────────────────────────── </span><span style=\"color: #008080; text-decoration-color: #008080; font-weight: bold\">Stage </span><span style=\"color: #008080; text-decoration-color: #008080; font-weight: bold\">1</span><span style=\"color: #008080; text-decoration-color: #008080; font-weight: bold\">: Structure Classification</span><span style=\"color: #00ff00; text-decoration-color: #00ff00\"> ────────────────────────────────────────</span>\n",
       "</pre>\n"
      ],
      "text/plain": [
       "\u001b[92m──────────────────────────────────────── \u001b[0m\u001b[1;36mStage \u001b[0m\u001b[1;36m1\u001b[0m\u001b[1;36m: Structure Classification\u001b[0m\u001b[92m ────────────────────────────────────────\u001b[0m\n"
      ]
     },
     "metadata": {},
     "output_type": "display_data"
    },
    {
     "data": {
      "application/vnd.jupyter.widget-view+json": {
       "model_id": "f9447eefd1e54f9d816d7f272046e34b",
       "version_major": 2,
       "version_minor": 0
      },
      "text/plain": [
       "Stage 1: Structure:   0%|          | 0/9 [00:00<?, ?it/s]"
      ]
     },
     "metadata": {},
     "output_type": "display_data"
    },
    {
     "data": {
      "text/html": [
       "<pre style=\"white-space:pre;overflow-x:auto;line-height:normal;font-family:Menlo,'DejaVu Sans Mono',consolas,'Courier New',monospace\"><span style=\"color: #008000; text-decoration-color: #008000\">✅ Stage </span><span style=\"color: #008000; text-decoration-color: #008000; font-weight: bold\">1</span><span style=\"color: #008000; text-decoration-color: #008000\"> complete: </span><span style=\"color: #008000; text-decoration-color: #008000; font-weight: bold\">3</span><span style=\"color: #008000; text-decoration-color: #008000\"> bank statements classified</span>\n",
       "</pre>\n"
      ],
      "text/plain": [
       "\u001b[32m✅ Stage \u001b[0m\u001b[1;32m1\u001b[0m\u001b[32m complete: \u001b[0m\u001b[1;32m3\u001b[0m\u001b[32m bank statements classified\u001b[0m\n"
      ]
     },
     "metadata": {},
     "output_type": "display_data"
    },
    {
     "data": {
      "text/html": [
       "<pre style=\"white-space:pre;overflow-x:auto;line-height:normal;font-family:Menlo,'DejaVu Sans Mono',consolas,'Courier New',monospace\"><span style=\"color: #008080; text-decoration-color: #008080\">   Flat: </span><span style=\"color: #008080; text-decoration-color: #008080; font-weight: bold\">1</span>\n",
       "</pre>\n"
      ],
      "text/plain": [
       "\u001b[36m   Flat: \u001b[0m\u001b[1;36m1\u001b[0m\n"
      ]
     },
     "metadata": {},
     "output_type": "display_data"
    },
    {
     "data": {
      "text/html": [
       "<pre style=\"white-space:pre;overflow-x:auto;line-height:normal;font-family:Menlo,'DejaVu Sans Mono',consolas,'Courier New',monospace\"><span style=\"color: #008080; text-decoration-color: #008080\">   Date-grouped: </span><span style=\"color: #008080; text-decoration-color: #008080; font-weight: bold\">2</span>\n",
       "</pre>\n"
      ],
      "text/plain": [
       "\u001b[36m   Date-grouped: \u001b[0m\u001b[1;36m2\u001b[0m\n"
      ]
     },
     "metadata": {},
     "output_type": "display_data"
    },
    {
     "data": {
      "text/html": [
       "<pre style=\"white-space:pre;overflow-x:auto;line-height:normal;font-family:Menlo,'DejaVu Sans Mono',consolas,'Courier New',monospace\"><span style=\"color: #7f7f7f; text-decoration-color: #7f7f7f\">   💾 Stage </span><span style=\"color: #7fbfbf; text-decoration-color: #7fbfbf; font-weight: bold\">1</span><span style=\"color: #7f7f7f; text-decoration-color: #7f7f7f\">: </span><span style=\"color: #bfbf7f; text-decoration-color: #bfbf7f\">DataFrame</span><span style=\"color: #7f7f7f; text-decoration-color: #7f7f7f\">=</span><span style=\"color: #7fbfbf; text-decoration-color: #7fbfbf; font-weight: bold\">4.</span><span style=\"color: #7f7f7f; text-decoration-color: #7f7f7f\">9KB, </span><span style=\"color: #bfbf7f; text-decoration-color: #bfbf7f\">GPU</span><span style=\"color: #7f7f7f; text-decoration-color: #7f7f7f\">=</span><span style=\"color: #7fbfbf; text-decoration-color: #7fbfbf; font-weight: bold\">9.</span><span style=\"color: #7f7f7f; text-decoration-color: #7f7f7f\">8GB </span><span style=\"color: #7f7f7f; text-decoration-color: #7f7f7f; font-weight: bold\">(</span><span style=\"color: #7f7f7f; text-decoration-color: #7f7f7f\">reserved </span><span style=\"color: #7fbfbf; text-decoration-color: #7fbfbf; font-weight: bold\">9.</span><span style=\"color: #7f7f7f; text-decoration-color: #7f7f7f\">8GB</span><span style=\"color: #7f7f7f; text-decoration-color: #7f7f7f; font-weight: bold\">)</span>\n",
       "</pre>\n"
      ],
      "text/plain": [
       "\u001b[2m   💾 Stage \u001b[0m\u001b[1;2;36m1\u001b[0m\u001b[2m: \u001b[0m\u001b[2;33mDataFrame\u001b[0m\u001b[2m=\u001b[0m\u001b[1;2;36m4\u001b[0m\u001b[1;2;36m.\u001b[0m\u001b[2m9KB, \u001b[0m\u001b[2;33mGPU\u001b[0m\u001b[2m=\u001b[0m\u001b[1;2;36m9\u001b[0m\u001b[1;2;36m.\u001b[0m\u001b[2m8GB \u001b[0m\u001b[1;2m(\u001b[0m\u001b[2mreserved \u001b[0m\u001b[1;2;36m9.\u001b[0m\u001b[2m8GB\u001b[0m\u001b[1;2m)\u001b[0m\n"
      ]
     },
     "metadata": {},
     "output_type": "display_data"
    },
    {
     "data": {
      "text/html": [
       "<pre style=\"white-space:pre;overflow-x:auto;line-height:normal;font-family:Menlo,'DejaVu Sans Mono',consolas,'Courier New',monospace\"><span style=\"color: #00ff00; text-decoration-color: #00ff00\">───────────────────────────────────── </span><span style=\"color: #008080; text-decoration-color: #008080; font-weight: bold\">Stage </span><span style=\"color: #008080; text-decoration-color: #008080; font-weight: bold\">2</span><span style=\"color: #008080; text-decoration-color: #008080; font-weight: bold\">: Document-Type-Aware Extraction</span><span style=\"color: #00ff00; text-decoration-color: #00ff00\"> ─────────────────────────────────────</span>\n",
       "</pre>\n"
      ],
      "text/plain": [
       "\u001b[92m───────────────────────────────────── \u001b[0m\u001b[1;36mStage \u001b[0m\u001b[1;36m2\u001b[0m\u001b[1;36m: Document-Type-Aware Extraction\u001b[0m\u001b[92m ─────────────────────────────────────\u001b[0m\n"
      ]
     },
     "metadata": {},
     "output_type": "display_data"
    },
    {
     "data": {
      "application/vnd.jupyter.widget-view+json": {
       "model_id": "6086d787419f49029c073b5b5290ed34",
       "version_major": 2,
       "version_minor": 0
      },
      "text/plain": [
       "Stage 2: Extraction:   0%|          | 0/9 [00:00<?, ?it/s]"
      ]
     },
     "metadata": {},
     "output_type": "display_data"
    },
    {
     "data": {
      "text/html": [
       "<pre style=\"white-space:pre;overflow-x:auto;line-height:normal;font-family:Menlo,'DejaVu Sans Mono',consolas,'Courier New',monospace\"><span style=\"color: #008000; text-decoration-color: #008000\">✅ Stage </span><span style=\"color: #008000; text-decoration-color: #008000; font-weight: bold\">2</span><span style=\"color: #008000; text-decoration-color: #008000\"> complete: </span><span style=\"color: #008000; text-decoration-color: #008000; font-weight: bold\">9</span><span style=\"color: #008000; text-decoration-color: #008000\"> extractions done</span>\n",
       "</pre>\n"
      ],
      "text/plain": [
       "\u001b[32m✅ Stage \u001b[0m\u001b[1;32m2\u001b[0m\u001b[32m complete: \u001b[0m\u001b[1;32m9\u001b[0m\u001b[32m extractions done\u001b[0m\n"
      ]
     },
     "metadata": {},
     "output_type": "display_data"
    },
    {
     "data": {
      "text/html": [
       "<pre style=\"white-space:pre;overflow-x:auto;line-height:normal;font-family:Menlo,'DejaVu Sans Mono',consolas,'Courier New',monospace\"><span style=\"color: #008080; text-decoration-color: #008080\">   Average extraction time: </span><span style=\"color: #008080; text-decoration-color: #008080; font-weight: bold\">9.</span><span style=\"color: #008080; text-decoration-color: #008080\">24s</span>\n",
       "</pre>\n"
      ],
      "text/plain": [
       "\u001b[36m   Average extraction time: \u001b[0m\u001b[1;36m9.\u001b[0m\u001b[36m24s\u001b[0m\n"
      ]
     },
     "metadata": {},
     "output_type": "display_data"
    },
    {
     "data": {
      "text/html": [
       "<pre style=\"white-space:pre;overflow-x:auto;line-height:normal;font-family:Menlo,'DejaVu Sans Mono',consolas,'Courier New',monospace\"><span style=\"color: #008080; text-decoration-color: #008080\">   Total time </span><span style=\"color: #008080; text-decoration-color: #008080; font-weight: bold\">(</span><span style=\"color: #008080; text-decoration-color: #008080\">avg</span><span style=\"color: #008080; text-decoration-color: #008080; font-weight: bold\">)</span><span style=\"color: #008080; text-decoration-color: #008080\">: </span><span style=\"color: #008080; text-decoration-color: #008080; font-weight: bold\">10.</span><span style=\"color: #008080; text-decoration-color: #008080\">10s</span>\n",
       "</pre>\n"
      ],
      "text/plain": [
       "\u001b[36m   Total time \u001b[0m\u001b[1;36m(\u001b[0m\u001b[36mavg\u001b[0m\u001b[1;36m)\u001b[0m\u001b[36m: \u001b[0m\u001b[1;36m10.\u001b[0m\u001b[36m10s\u001b[0m\n"
      ]
     },
     "metadata": {},
     "output_type": "display_data"
    },
    {
     "data": {
      "text/html": [
       "<pre style=\"white-space:pre;overflow-x:auto;line-height:normal;font-family:Menlo,'DejaVu Sans Mono',consolas,'Courier New',monospace\"><span style=\"color: #7f7f7f; text-decoration-color: #7f7f7f\">   💾 Stage </span><span style=\"color: #7fbfbf; text-decoration-color: #7fbfbf; font-weight: bold\">2</span><span style=\"color: #7f7f7f; text-decoration-color: #7f7f7f\">: </span><span style=\"color: #bfbf7f; text-decoration-color: #bfbf7f\">DataFrame</span><span style=\"color: #7f7f7f; text-decoration-color: #7f7f7f\">=</span><span style=\"color: #7fbfbf; text-decoration-color: #7fbfbf; font-weight: bold\">13.</span><span style=\"color: #7f7f7f; text-decoration-color: #7f7f7f\">2KB, </span><span style=\"color: #bfbf7f; text-decoration-color: #bfbf7f\">GPU</span><span style=\"color: #7f7f7f; text-decoration-color: #7f7f7f\">=</span><span style=\"color: #7fbfbf; text-decoration-color: #7fbfbf; font-weight: bold\">9.</span><span style=\"color: #7f7f7f; text-decoration-color: #7f7f7f\">8GB </span><span style=\"color: #7f7f7f; text-decoration-color: #7f7f7f; font-weight: bold\">(</span><span style=\"color: #7f7f7f; text-decoration-color: #7f7f7f\">reserved </span><span style=\"color: #7fbfbf; text-decoration-color: #7fbfbf; font-weight: bold\">9.</span><span style=\"color: #7f7f7f; text-decoration-color: #7f7f7f\">8GB</span><span style=\"color: #7f7f7f; text-decoration-color: #7f7f7f; font-weight: bold\">)</span>\n",
       "</pre>\n"
      ],
      "text/plain": [
       "\u001b[2m   💾 Stage \u001b[0m\u001b[1;2;36m2\u001b[0m\u001b[2m: \u001b[0m\u001b[2;33mDataFrame\u001b[0m\u001b[2m=\u001b[0m\u001b[1;2;36m13\u001b[0m\u001b[1;2;36m.\u001b[0m\u001b[2m2KB, \u001b[0m\u001b[2;33mGPU\u001b[0m\u001b[2m=\u001b[0m\u001b[1;2;36m9\u001b[0m\u001b[1;2;36m.\u001b[0m\u001b[2m8GB \u001b[0m\u001b[1;2m(\u001b[0m\u001b[2mreserved \u001b[0m\u001b[1;2;36m9.\u001b[0m\u001b[2m8GB\u001b[0m\u001b[1;2m)\u001b[0m\n"
      ]
     },
     "metadata": {},
     "output_type": "display_data"
    },
    {
     "data": {
      "text/html": [
       "<pre style=\"white-space:pre;overflow-x:auto;line-height:normal;font-family:Menlo,'DejaVu Sans Mono',consolas,'Courier New',monospace\"><span style=\"color: #00ff00; text-decoration-color: #00ff00\">──────────────────────────────────────── </span><span style=\"color: #008080; text-decoration-color: #008080; font-weight: bold\">Stage </span><span style=\"color: #008080; text-decoration-color: #008080; font-weight: bold\">3</span><span style=\"color: #008080; text-decoration-color: #008080; font-weight: bold\">: Parsing (Text → Fields)</span><span style=\"color: #00ff00; text-decoration-color: #00ff00\"> ─────────────────────────────────────────</span>\n",
       "</pre>\n"
      ],
      "text/plain": [
       "\u001b[92m──────────────────────────────────────── \u001b[0m\u001b[1;36mStage \u001b[0m\u001b[1;36m3\u001b[0m\u001b[1;36m: Parsing \u001b[0m\u001b[1;36m(\u001b[0m\u001b[1;36mText → Fields\u001b[0m\u001b[1;36m)\u001b[0m\u001b[92m ─────────────────────────────────────────\u001b[0m\n"
      ]
     },
     "metadata": {},
     "output_type": "display_data"
    },
    {
     "data": {
      "application/vnd.jupyter.widget-view+json": {
       "model_id": "f0858addc4cf47e6a5f08f2a1fe560fb",
       "version_major": 2,
       "version_minor": 0
      },
      "text/plain": [
       "Stage 3: Parsing:   0%|          | 0/9 [00:00<?, ?it/s]"
      ]
     },
     "metadata": {},
     "output_type": "display_data"
    },
    {
     "data": {
      "text/html": [
       "<pre style=\"white-space:pre;overflow-x:auto;line-height:normal;font-family:Menlo,'DejaVu Sans Mono',consolas,'Courier New',monospace\"><span style=\"color: #008000; text-decoration-color: #008000\">✅ Stage </span><span style=\"color: #008000; text-decoration-color: #008000; font-weight: bold\">3</span><span style=\"color: #008000; text-decoration-color: #008000\"> complete: </span><span style=\"color: #008000; text-decoration-color: #008000; font-weight: bold\">9</span><span style=\"color: #008000; text-decoration-color: #008000\"> responses parsed</span>\n",
       "</pre>\n"
      ],
      "text/plain": [
       "\u001b[32m✅ Stage \u001b[0m\u001b[1;32m3\u001b[0m\u001b[32m complete: \u001b[0m\u001b[1;32m9\u001b[0m\u001b[32m responses parsed\u001b[0m\n"
      ]
     },
     "metadata": {},
     "output_type": "display_data"
    },
    {
     "data": {
      "text/html": [
       "<pre style=\"white-space:pre;overflow-x:auto;line-height:normal;font-family:Menlo,'DejaVu Sans Mono',consolas,'Courier New',monospace\"><span style=\"color: #008080; text-decoration-color: #008080\">   Average fields found: </span><span style=\"color: #008080; text-decoration-color: #008080; font-weight: bold\">11.0</span><span style=\"color: #008080; text-decoration-color: #008080\">/</span><span style=\"color: #008080; text-decoration-color: #008080; font-weight: bold\">17</span>\n",
       "</pre>\n"
      ],
      "text/plain": [
       "\u001b[36m   Average fields found: \u001b[0m\u001b[1;36m11.0\u001b[0m\u001b[36m/\u001b[0m\u001b[1;36m17\u001b[0m\n"
      ]
     },
     "metadata": {},
     "output_type": "display_data"
    },
    {
     "data": {
      "text/html": [
       "<pre style=\"white-space:pre;overflow-x:auto;line-height:normal;font-family:Menlo,'DejaVu Sans Mono',consolas,'Courier New',monospace\"><span style=\"color: #7f7f7f; text-decoration-color: #7f7f7f\">   💾 Stage </span><span style=\"color: #7fbfbf; text-decoration-color: #7fbfbf; font-weight: bold\">3</span><span style=\"color: #7f7f7f; text-decoration-color: #7f7f7f\">: </span><span style=\"color: #bfbf7f; text-decoration-color: #bfbf7f\">DataFrame</span><span style=\"color: #7f7f7f; text-decoration-color: #7f7f7f\">=</span><span style=\"color: #7fbfbf; text-decoration-color: #7fbfbf; font-weight: bold\">20.</span><span style=\"color: #7f7f7f; text-decoration-color: #7f7f7f\">6KB, </span><span style=\"color: #bfbf7f; text-decoration-color: #bfbf7f\">GPU</span><span style=\"color: #7f7f7f; text-decoration-color: #7f7f7f\">=</span><span style=\"color: #7fbfbf; text-decoration-color: #7fbfbf; font-weight: bold\">9.</span><span style=\"color: #7f7f7f; text-decoration-color: #7f7f7f\">8GB </span><span style=\"color: #7f7f7f; text-decoration-color: #7f7f7f; font-weight: bold\">(</span><span style=\"color: #7f7f7f; text-decoration-color: #7f7f7f\">reserved </span><span style=\"color: #7fbfbf; text-decoration-color: #7fbfbf; font-weight: bold\">9.</span><span style=\"color: #7f7f7f; text-decoration-color: #7f7f7f\">8GB</span><span style=\"color: #7f7f7f; text-decoration-color: #7f7f7f; font-weight: bold\">)</span>\n",
       "</pre>\n"
      ],
      "text/plain": [
       "\u001b[2m   💾 Stage \u001b[0m\u001b[1;2;36m3\u001b[0m\u001b[2m: \u001b[0m\u001b[2;33mDataFrame\u001b[0m\u001b[2m=\u001b[0m\u001b[1;2;36m20\u001b[0m\u001b[1;2;36m.\u001b[0m\u001b[2m6KB, \u001b[0m\u001b[2;33mGPU\u001b[0m\u001b[2m=\u001b[0m\u001b[1;2;36m9\u001b[0m\u001b[1;2;36m.\u001b[0m\u001b[2m8GB \u001b[0m\u001b[1;2m(\u001b[0m\u001b[2mreserved \u001b[0m\u001b[1;2;36m9.\u001b[0m\u001b[2m8GB\u001b[0m\u001b[1;2m)\u001b[0m\n"
      ]
     },
     "metadata": {},
     "output_type": "display_data"
    },
    {
     "data": {
      "text/html": [
       "<pre style=\"white-space:pre;overflow-x:auto;line-height:normal;font-family:Menlo,'DejaVu Sans Mono',consolas,'Courier New',monospace\"><span style=\"color: #00ff00; text-decoration-color: #00ff00\">──────────────────────────────────────── </span><span style=\"color: #008080; text-decoration-color: #008080; font-weight: bold\">Stage </span><span style=\"color: #008080; text-decoration-color: #008080; font-weight: bold\">4</span><span style=\"color: #008080; text-decoration-color: #008080; font-weight: bold\">: Cleaning &amp; Normalization</span><span style=\"color: #00ff00; text-decoration-color: #00ff00\"> ────────────────────────────────────────</span>\n",
       "</pre>\n"
      ],
      "text/plain": [
       "\u001b[92m──────────────────────────────────────── \u001b[0m\u001b[1;36mStage \u001b[0m\u001b[1;36m4\u001b[0m\u001b[1;36m: Cleaning & Normalization\u001b[0m\u001b[92m ────────────────────────────────────────\u001b[0m\n"
      ]
     },
     "metadata": {},
     "output_type": "display_data"
    },
    {
     "data": {
      "application/vnd.jupyter.widget-view+json": {
       "model_id": "3c7dd63660dd4e558f21cc4e444ad723",
       "version_major": 2,
       "version_minor": 0
      },
      "text/plain": [
       "Stage 4: Cleaning:   0%|          | 0/9 [00:00<?, ?it/s]"
      ]
     },
     "metadata": {},
     "output_type": "display_data"
    },
    {
     "name": "stdout",
     "output_type": "stream",
     "text": [
      "🧹 CLEANER CALLED: DOCUMENT_TYPE: 'RECEIPT' -> 'RECEIPT'\n",
      "🧹 CLEANER CALLED: BUSINESS_ABN: '08 082 698 025' -> '08 082 698 025'\n",
      "🧹 CLEANER CALLED: SUPPLIER_NAME: 'Liberty Oil' -> 'Liberty Oil'\n",
      "🧹 CLEANER CALLED: BUSINESS_ADDRESS: '481 Bourke Street  Perth WA 6000' -> 🏠 Address cleaned: '481 Bourke Street  Perth WA 6000' -> '481 Bourke Street Perth WA 6000'\n",
      "'481 Bourke Street Perth WA 6000'\n",
      "🧹 CLEANER CALLED: PAYER_NAME: 'Robert Taylor' -> 'Robert Taylor'\n",
      "🧹 CLEANER CALLED: PAYER_ADDRESS: '243 Adelaide Street  Perth WA 6000' -> 🏠 Address cleaned: '243 Adelaide Street  Perth WA 6000' -> '243 Adelaide Street Perth WA 6000'\n",
      "'243 Adelaide Street Perth WA 6000'\n",
      "🧹 CLEANER CALLED: INVOICE_DATE: '05/08/2025' -> '05/08/2025'\n",
      "🧹 CLEANER CALLED: LINE_ITEM_DESCRIPTIONS: 'Car Wash | Coffee Large | Unleaded Petrol | Car Wash | Diesel' -> 'Car Wash | Coffee Large | Unleaded Petrol | Car Wash | Diesel'\n",
      "🧹 CLEANER CALLED: LINE_ITEM_QUANTITIES: '3 | 1 | 1 | 2 | 3' -> '3 | 1 | 1 | 2 | 3'\n",
      "🧹 CLEANER CALLED: LINE_ITEM_PRICES: '$15.00 | $4.50 | $1.65 | $15.00 | $1.70' -> '$15.00 | $4.50 | $1.65 | $15.00 | $1.70'\n",
      "🧹 CLEANER CALLED: LINE_ITEM_TOTAL_PRICES: '$45.00 | $4.50 | $1.65 | $30.00 | $5.10' -> '$45.00 | $4.50 | $1.65 | $30.00 | $5.10'\n",
      "🧹 CLEANER CALLED: IS_GST_INCLUDED: 'true' -> 'true'\n",
      "🧹 CLEANER CALLED: GST_AMOUNT: '$8.62' -> '$8.62'\n",
      "🧹 CLEANER CALLED: TOTAL_AMOUNT: '$94.87' -> '$94.87'\n",
      "🧹 Cleaned 14/17 fields\n",
      "🧹 CLEANER CALLED: DOCUMENT_TYPE: 'RECEIPT' -> 'RECEIPT'\n",
      "🧹 CLEANER CALLED: BUSINESS_ABN: '298 483 258' -> '298 483 258'\n",
      "🧹 CLEANER CALLED: SUPPLIER_NAME: 'Ampol Limited' -> 'Ampol Limited'\n",
      "🧹 CLEANER CALLED: BUSINESS_ADDRESS: '680 Collins Street  Darwin NT 0800' -> 🏠 Address cleaned: '680 Collins Street  Darwin NT 0800' -> '680 Collins Street Darwin NT 0800'\n",
      "'680 Collins Street Darwin NT 0800'\n",
      "🧹 CLEANER CALLED: PAYER_NAME: 'Sophie Martin' -> 'Sophie Martin'\n",
      "🧹 CLEANER CALLED: PAYER_ADDRESS: '487 Collins Street  Hobart TAS 7000' -> 🏠 Address cleaned: '487 Collins Street  Hobart TAS 7000' -> '487 Collins Street Hobart TAS 7000'\n",
      "'487 Collins Street Hobart TAS 7000'\n",
      "🧹 CLEANER CALLED: INVOICE_DATE: '18/07/2025' -> '18/07/2025'\n",
      "🧹 CLEANER CALLED: LINE_ITEM_DESCRIPTIONS: 'Energy Drink | Premium Unleaded | Coffee Large | Premium Unleaded | Car Wash | Premium Unleaded' -> 'Energy Drink | Premium Unleaded | Coffee Large | Premium Unleaded | Car Wash | Premium Unleaded'\n",
      "🧹 CLEANER CALLED: LINE_ITEM_QUANTITIES: '1 | 1 | 2 | 2 | 2 | 2' -> '1 | 1 | 2 | 2 | 2 | 2'\n",
      "🧹 CLEANER CALLED: LINE_ITEM_PRICES: '$4.20 | $1.75 | $4.50 | $1.75 | $15.00 | $1.75' -> '$4.20 | $1.75 | $4.50 | $1.75 | $15.00 | $1.75'\n",
      "🧹 CLEANER CALLED: LINE_ITEM_TOTAL_PRICES: '$4.20 | $1.75 | $9.00 | $3.50 | $30.00 | $3.50' -> '$4.20 | $1.75 | $9.00 | $3.50 | $30.00 | $3.50'\n",
      "🧹 CLEANER CALLED: IS_GST_INCLUDED: 'true' -> 'true'\n",
      "🧹 CLEANER CALLED: GST_AMOUNT: '$5.20' -> '$5.20'\n",
      "🧹 CLEANER CALLED: TOTAL_AMOUNT: '$57.15' -> '$57.15'\n",
      "🧹 Cleaned 14/17 fields\n",
      "🧹 CLEANER CALLED: DOCUMENT_TYPE: 'BANK_STATEMENT' -> 'BANK_STATEMENT'\n",
      "🧹 CLEANER CALLED: LINE_ITEM_DESCRIPTIONS: 'ONLINE PURCHASE AMAZON AU | EFTPOS PURCHASE COLES EXP | EFTPOS PURCHASE COLES EXP | DIRECT CREDIT SA...' -> 'ONLINE PURCHASE AMAZON AU | EFTPOS PURCHASE COLES EXP | EFTPOS PURCHASE COLES EXP | DIRECT CREDIT SA...'\n",
      "🧹 CLEANER CALLED: STATEMENT_DATE_RANGE: '03/05/2025 to 10/05/2025' -> '03/05/2025 to 10/05/2025'\n",
      "🧹 CLEANER CALLED: TRANSACTION_DATES: '03/05/2025 | 04/05/2025 | 05/05/2025 | 06/05/2025 | 07/05/2025 | 08/05/2025 | 09/05/2025 | 10/05/202...' -> '03/05/2025 | 04/05/2025 | 05/05/2025 | 06/05/2025 | 07/05/2025 | 08/05/2025 | 09/05/2025 | 10/05/202...'\n",
      "🧹 CLEANER CALLED: TRANSACTION_AMOUNTS_PAID: '$288.03 | $22.50 | $114.66 | $187.59 | $112.50 | $5.16 | $146.72' -> '$288.03 | $22.50 | $114.66 | $187.59 | $112.50 | $5.16 | $146.72'\n",
      "🧹 Cleaned 5/17 fields\n",
      "🧹 CLEANER CALLED: DOCUMENT_TYPE: 'RECEIPT' -> 'RECEIPT'\n",
      "🧹 CLEANER CALLED: BUSINESS_ABN: '66 658 925 499' -> '66 658 925 499'\n",
      "🧹 CLEANER CALLED: SUPPLIER_NAME: 'Liberty Oil' -> 'Liberty Oil'\n",
      "🧹 CLEANER CALLED: BUSINESS_ADDRESS: '993 Pitt Street  Darwin NT 0800' -> 🏠 Address cleaned: '993 Pitt Street  Darwin NT 0800' -> '993 Pitt Street Darwin NT 0800'\n",
      "'993 Pitt Street Darwin NT 0800'\n",
      "🧹 CLEANER CALLED: PAYER_NAME: 'William Harris' -> 'William Harris'\n",
      "🧹 CLEANER CALLED: PAYER_ADDRESS: '52 Bourke Street  Darwin NT 0800' -> 🏠 Address cleaned: '52 Bourke Street  Darwin NT 0800' -> '52 Bourke Street Darwin NT 0800'\n",
      "'52 Bourke Street Darwin NT 0800'\n",
      "🧹 CLEANER CALLED: INVOICE_DATE: '19/07/2025' -> '19/07/2025'\n",
      "🧹 CLEANER CALLED: LINE_ITEM_DESCRIPTIONS: 'Premium Unleaded | Diesel | Unleaded Petrol' -> 'Premium Unleaded | Diesel | Unleaded Petrol'\n",
      "🧹 CLEANER CALLED: LINE_ITEM_QUANTITIES: '1 | 2 | 3' -> '1 | 2 | 3'\n",
      "🧹 CLEANER CALLED: LINE_ITEM_PRICES: '$1.75 | $1.70 | $1.65' -> '$1.75 | $1.70 | $1.65'\n",
      "🧹 CLEANER CALLED: LINE_ITEM_TOTAL_PRICES: '$1.75 | $3.40 | $4.95' -> '$1.75 | $3.40 | $4.95'\n",
      "🧹 CLEANER CALLED: IS_GST_INCLUDED: 'true' -> 'true'\n",
      "🧹 CLEANER CALLED: GST_AMOUNT: '$1.01' -> '$1.01'\n",
      "🧹 CLEANER CALLED: TOTAL_AMOUNT: '$11.11' -> '$11.11'\n",
      "🧹 Cleaned 14/17 fields\n",
      "🧹 CLEANER CALLED: DOCUMENT_TYPE: 'INVOICE' -> 'INVOICE'\n",
      "🧹 CLEANER CALLED: BUSINESS_ABN: '73 154 562 747' -> '73 154 562 747'\n",
      "🧹 CLEANER CALLED: SUPPLIER_NAME: 'Aussie Office Supplies Pty Ltd' -> 'Aussie Office Supplies Pty Ltd'\n",
      "🧹 CLEANER CALLED: BUSINESS_ADDRESS: '123 Collins Street  Melbourne VIC 3000' -> 🏠 Address cleaned: '123 Collins Street  Melbourne VIC 3000' -> '123 Collins Street Melbourne VIC 3000'\n",
      "'123 Collins Street Melbourne VIC 3000'\n",
      "🧹 CLEANER CALLED: PAYER_NAME: 'Perth Building Materials' -> 'Perth Building Materials'\n",
      "🧹 CLEANER CALLED: PAYER_ADDRESS: '456 George Street  Sydney NSW 2000' -> 🏠 Address cleaned: '456 George Street  Sydney NSW 2000' -> '456 George Street Sydney NSW 2000'\n",
      "'456 George Street Sydney NSW 2000'\n",
      "🧹 CLEANER CALLED: INVOICE_DATE: '06/08/2025' -> '06/08/2025'\n",
      "🧹 CLEANER CALLED: LINE_ITEM_DESCRIPTIONS: 'Wireless Mouse | Desk Lamp | Wireless Mouse | Printer Paper | Monitor Stand' -> 'Wireless Mouse | Desk Lamp | Wireless Mouse | Printer Paper | Monitor Stand'\n",
      "🧹 CLEANER CALLED: LINE_ITEM_QUANTITIES: '3 | 3 | 2 | 3 | 1' -> '3 | 3 | 2 | 3 | 1'\n",
      "🧹 CLEANER CALLED: LINE_ITEM_PRICES: '$490.12 | $38.84 | $431.58 | $138.58 | $1968.24' -> '$490.12 | $38.84 | $431.58 | $138.58 | $1968.24'\n",
      "🧹 CLEANER CALLED: LINE_ITEM_TOTAL_PRICES: '$1470.35 | $116.53 | $863.17 | $415.74 | $1968.24' -> '$1470.35 | $116.53 | $863.17 | $415.74 | $1968.24'\n",
      "🧹 CLEANER CALLED: IS_GST_INCLUDED: 'true' -> 'true'\n",
      "🧹 CLEANER CALLED: GST_AMOUNT: '$439.46' -> '$439.46'\n",
      "🧹 CLEANER CALLED: TOTAL_AMOUNT: '$4834.03' -> '$4834.03'\n",
      "🧹 Cleaned 14/17 fields\n",
      "🧹 CLEANER CALLED: DOCUMENT_TYPE: 'INVOICE' -> 'INVOICE'\n",
      "🧹 CLEANER CALLED: BUSINESS_ABN: '26 668 321 195' -> '26 668 321 195'\n",
      "🧹 CLEANER CALLED: SUPPLIER_NAME: 'Maritime Mechanics' -> 'Maritime Mechanics'\n",
      "🧹 CLEANER CALLED: BUSINESS_ADDRESS: '1/92 Watt Road  Mornington  VIC 3931 - P: (03) 5973 4755' -> 🏠 Address cleaned: '1/92 Watt Road  Mornington  VIC 3931 - P: (03) 5973 4755' -> '1/92 Watt Road Mornington VIC 3931'\n",
      "'1/92 Watt Road Mornington VIC 3931'\n",
      "🧹 CLEANER CALLED: PAYER_NAME: 'Tod Nestor' -> 'Tod Nestor'\n",
      "🧹 CLEANER CALLED: PAYER_ADDRESS: '29 Frederick Street  FERNTREE GULLY VIC 3156' -> 🏠 Address cleaned: '29 Frederick Street  FERNTREE GULLY VIC 3156' -> '29 Frederick Street FERNTREE GULLY VIC 3156'\n",
      "'29 Frederick Street FERNTREE GULLY VIC 3156'\n",
      "🧹 CLEANER CALLED: INVOICE_DATE: '27/08/2025' -> '27/08/2025'\n",
      "🧹 CLEANER CALLED: LINE_ITEM_DESCRIPTIONS: 'VRS Kit | Pushrods | Ex Valve | Injector Nozzle | Labour - To Date | Labour - To Complete | Freight ...' -> 'VRS Kit | Pushrods | Ex Valve | Injector Nozzle | Labour - To Date | Labour - To Complete | Freight ...'\n",
      "🧹 CLEANER CALLED: LINE_ITEM_QUANTITIES: '1.0 | 2.0 | 1.0 | 1.0 | 5.5 | 8.5 | 1.0' -> '1.0 | 2.0 | 1.0 | 1.0 | 5.5 | 8.5 | 1.0'\n",
      "🧹 CLEANER CALLED: LINE_ITEM_PRICES: '$356.25 | $86.87 | $181.25 | $478.60 | $180.00 | $180.00 | $40.00' -> '$356.25 | $86.87 | $181.25 | $478.60 | $180.00 | $180.00 | $40.00'\n",
      "🧹 CLEANER CALLED: LINE_ITEM_TOTAL_PRICES: '$356.25 | $173.74 | $181.25 | $478.60 | $990.00 | $1,530.00 | $40.00' -> '$356.25 | $173.74 | $181.25 | $478.60 | $990.00 | $1530.00 | $40.00'\n",
      "🧹 CLEANER CALLED: IS_GST_INCLUDED: 'true' -> 'true'\n",
      "🧹 CLEANER CALLED: GST_AMOUNT: '$374.98' -> '$374.98'\n",
      "🧹 CLEANER CALLED: TOTAL_AMOUNT: '$4,124.82' -> '$4124.82'\n",
      "🧹 Cleaned 14/17 fields\n",
      "🧹 CLEANER CALLED: DOCUMENT_TYPE: 'INVOICE' -> 'INVOICE'\n",
      "🧹 CLEANER CALLED: BUSINESS_ABN: '64 086 174 781' -> '64 086 174 781'\n",
      "🧹 CLEANER CALLED: SUPPLIER_NAME: 'Telstra Limited' -> 'Telstra Limited'\n",
      "🧹 CLEANER CALLED: BUSINESS_ADDRESS: 'ABN 64 086 174 781' -> 'ABN 64 086 174 781'\n",
      "🧹 CLEANER CALLED: PAYER_NAME: 'Mr Maurice Nestor' -> 'Mr Maurice Nestor'\n",
      "🧹 CLEANER CALLED: PAYER_ADDRESS: '29 Frederick Street  FERNTREE GULLY VIC 3156' -> 🏠 Address cleaned: '29 Frederick Street  FERNTREE GULLY VIC 3156' -> '29 Frederick Street FERNTREE GULLY VIC 3156'\n",
      "'29 Frederick Street FERNTREE GULLY VIC 3156'\n",
      "🧹 CLEANER CALLED: INVOICE_DATE: '16/07/2025' -> '16/07/2025'\n",
      "🧹 CLEANER CALLED: LINE_ITEM_DESCRIPTIONS: 'Mobile service 0428 521 734 | Mobile data service 0459 246 813 | Mobile data service 0409 760 513 | ...' -> 'Mobile service 0428 521 734 | Mobile data service 0459 246 813 | Mobile data service 0409 760 513 | ...'\n",
      "🧹 CLEANER CALLED: LINE_ITEM_QUANTITIES: '1 | 1 | 1 | 1' -> '1 | 1 | 1 | 1'\n",
      "🧹 CLEANER CALLED: LINE_ITEM_PRICES: '$45.00 | $30.00 | $25.00 | $20.00' -> '$45.00 | $30.00 | $25.00 | $20.00'\n",
      "🧹 CLEANER CALLED: LINE_ITEM_TOTAL_PRICES: '$45.00 | $30.00 | $25.00 | $20.00' -> '$45.00 | $30.00 | $25.00 | $20.00'\n",
      "🧹 CLEANER CALLED: IS_GST_INCLUDED: 'true' -> 'true'\n",
      "🧹 CLEANER CALLED: GST_AMOUNT: '$10.91' -> '$10.91'\n",
      "🧹 CLEANER CALLED: TOTAL_AMOUNT: '$120.00' -> '$120.00'\n",
      "🧹 Cleaned 14/17 fields\n",
      "🧹 CLEANER CALLED: DOCUMENT_TYPE: 'BANK_STATEMENT' -> 'BANK_STATEMENT'\n",
      "🧹 CLEANER CALLED: LINE_ITEM_DESCRIPTIONS: 'EFTPOS Cash Out PRICELINE PHARMACY MACKAY QLD | EFTPOS Purchase OFFICEWORKS BUSINESS ROCKHAMPTO... |...' -> 'EFTPOS Cash Out PRICELINE PHARMACY MACKAY QLD | EFTPOS Purchase OFFICEWORKS BUSINESS ROCKHAMPTO... |...'\n",
      "🧹 CLEANER CALLED: STATEMENT_DATE_RANGE: '08/08/2025 to 07/09/2025' -> '08/08/2025 to 07/09/2025'\n",
      "🧹 CLEANER CALLED: TRANSACTION_DATES: '07/09/2025 | 08/09/2025 | 04/09/2025 | 03/09/2025 | 02/09/2025 | 01/09/2025 | 31/08/2025 | 29/08/202...' -> '07/09/2025 | 08/09/2025 | 04/09/2025 | 03/09/2025 | 02/09/2025 | 01/09/2025 | 31/08/2025 | 29/08/202...'\n",
      "🧹 CLEANER CALLED: TRANSACTION_AMOUNTS_PAID: '$322.18 | $64.33 | $649.79 | $1365.43 | $199.17 | $45.04 | $257.50 | $37.68 | $2457.87 | $270.31 | $...' -> '$322.18 | $64.33 | $649.79 | $1365.43 | $199.17 | $45.04 | $257.50 | $37.68 | $2457.87 | $270.31 | $...'\n",
      "🧹 Cleaned 5/17 fields\n",
      "🧹 CLEANER CALLED: DOCUMENT_TYPE: 'BANK_STATEMENT' -> 'BANK_STATEMENT'\n",
      "🧹 CLEANER CALLED: LINE_ITEM_DESCRIPTIONS: 'Direct Debit DOMINO'S PTY LTD | Monthly Service Fee | Monthly Service Fee | Wdi ATM WBC WESTPAC GLEN...' -> 'Direct Debit DOMINO'S PTY LTD | Monthly Service Fee | Monthly Service Fee | Wdi ATM WBC WESTPAC GLEN...'\n",
      "🧹 CLEANER CALLED: STATEMENT_DATE_RANGE: '07 Aug 2025 to 06 Sep 2025' -> '07 Aug 2025 to 06 Sep 2025'\n",
      "🧹 CLEANER CALLED: TRANSACTION_DATES: '04/09/2025 | 01/09/2025 | 29/08/2025 | 27/08/2025 | 23/08/2025 | 21/08/2025 | 19/08/2025 | 17/08/202...' -> '04/09/2025 | 01/09/2025 | 29/08/2025 | 27/08/2025 | 23/08/2025 | 21/08/2025 | 19/08/2025 | 17/08/202...'\n",
      "🧹 CLEANER CALLED: TRANSACTION_AMOUNTS_PAID: '$117.57 | $17.89 | $18.87 | $241.14 | $251.33 | $98.53 | $1918.75 | $7836.75 | $276.31 | $61.68 | $3...' -> '$117.57 | $17.89 | $18.87 | $241.14 | $251.33 | $98.53 | $1918.75 | $7836.75 | $276.31 | $61.68 | $3...'\n",
      "🧹 Cleaned 5/17 fields\n"
     ]
    },
    {
     "data": {
      "text/html": [
       "<pre style=\"white-space:pre;overflow-x:auto;line-height:normal;font-family:Menlo,'DejaVu Sans Mono',consolas,'Courier New',monospace\"><span style=\"color: #008000; text-decoration-color: #008000\">✅ Stage </span><span style=\"color: #008000; text-decoration-color: #008000; font-weight: bold\">4</span><span style=\"color: #008000; text-decoration-color: #008000\"> complete: </span><span style=\"color: #008000; text-decoration-color: #008000; font-weight: bold\">9</span><span style=\"color: #008000; text-decoration-color: #008000\"> field sets cleaned</span>\n",
       "</pre>\n"
      ],
      "text/plain": [
       "\u001b[32m✅ Stage \u001b[0m\u001b[1;32m4\u001b[0m\u001b[32m complete: \u001b[0m\u001b[1;32m9\u001b[0m\u001b[32m field sets cleaned\u001b[0m\n"
      ]
     },
     "metadata": {},
     "output_type": "display_data"
    },
    {
     "data": {
      "text/html": [
       "<pre style=\"white-space:pre;overflow-x:auto;line-height:normal;font-family:Menlo,'DejaVu Sans Mono',consolas,'Courier New',monospace\"><span style=\"color: #008080; text-decoration-color: #008080\">   Average fields cleaned: </span><span style=\"color: #008080; text-decoration-color: #008080; font-weight: bold\">11.0</span><span style=\"color: #008080; text-decoration-color: #008080\">/</span><span style=\"color: #008080; text-decoration-color: #008080; font-weight: bold\">17</span>\n",
       "</pre>\n"
      ],
      "text/plain": [
       "\u001b[36m   Average fields cleaned: \u001b[0m\u001b[1;36m11.0\u001b[0m\u001b[36m/\u001b[0m\u001b[1;36m17\u001b[0m\n"
      ]
     },
     "metadata": {},
     "output_type": "display_data"
    },
    {
     "data": {
      "text/html": [
       "<pre style=\"white-space:pre;overflow-x:auto;line-height:normal;font-family:Menlo,'DejaVu Sans Mono',consolas,'Courier New',monospace\"><span style=\"color: #7f7f7f; text-decoration-color: #7f7f7f\">   💾 Stage </span><span style=\"color: #7fbfbf; text-decoration-color: #7fbfbf; font-weight: bold\">4</span><span style=\"color: #7f7f7f; text-decoration-color: #7f7f7f\">: </span><span style=\"color: #bfbf7f; text-decoration-color: #bfbf7f\">DataFrame</span><span style=\"color: #7f7f7f; text-decoration-color: #7f7f7f\">=</span><span style=\"color: #7fbfbf; text-decoration-color: #7fbfbf; font-weight: bold\">27.</span><span style=\"color: #7f7f7f; text-decoration-color: #7f7f7f\">7KB, </span><span style=\"color: #bfbf7f; text-decoration-color: #bfbf7f\">GPU</span><span style=\"color: #7f7f7f; text-decoration-color: #7f7f7f\">=</span><span style=\"color: #7fbfbf; text-decoration-color: #7fbfbf; font-weight: bold\">9.</span><span style=\"color: #7f7f7f; text-decoration-color: #7f7f7f\">8GB </span><span style=\"color: #7f7f7f; text-decoration-color: #7f7f7f; font-weight: bold\">(</span><span style=\"color: #7f7f7f; text-decoration-color: #7f7f7f\">reserved </span><span style=\"color: #7fbfbf; text-decoration-color: #7fbfbf; font-weight: bold\">9.</span><span style=\"color: #7f7f7f; text-decoration-color: #7f7f7f\">8GB</span><span style=\"color: #7f7f7f; text-decoration-color: #7f7f7f; font-weight: bold\">)</span>\n",
       "</pre>\n"
      ],
      "text/plain": [
       "\u001b[2m   💾 Stage \u001b[0m\u001b[1;2;36m4\u001b[0m\u001b[2m: \u001b[0m\u001b[2;33mDataFrame\u001b[0m\u001b[2m=\u001b[0m\u001b[1;2;36m27\u001b[0m\u001b[1;2;36m.\u001b[0m\u001b[2m7KB, \u001b[0m\u001b[2;33mGPU\u001b[0m\u001b[2m=\u001b[0m\u001b[1;2;36m9\u001b[0m\u001b[1;2;36m.\u001b[0m\u001b[2m8GB \u001b[0m\u001b[1;2m(\u001b[0m\u001b[2mreserved \u001b[0m\u001b[1;2;36m9.\u001b[0m\u001b[2m8GB\u001b[0m\u001b[1;2m)\u001b[0m\n"
      ]
     },
     "metadata": {},
     "output_type": "display_data"
    },
    {
     "data": {
      "text/html": [
       "<pre style=\"white-space:pre;overflow-x:auto;line-height:normal;font-family:Menlo,'DejaVu Sans Mono',consolas,'Courier New',monospace\"><span style=\"color: #00ff00; text-decoration-color: #00ff00\">───────────────────────────────────────── </span><span style=\"color: #008080; text-decoration-color: #008080; font-weight: bold\">Stage </span><span style=\"color: #008080; text-decoration-color: #008080; font-weight: bold\">5</span><span style=\"color: #008080; text-decoration-color: #008080; font-weight: bold\">: Evaluation (Optional)</span><span style=\"color: #00ff00; text-decoration-color: #00ff00\"> ──────────────────────────────────────────</span>\n",
       "</pre>\n"
      ],
      "text/plain": [
       "\u001b[92m───────────────────────────────────────── \u001b[0m\u001b[1;36mStage \u001b[0m\u001b[1;36m5\u001b[0m\u001b[1;36m: Evaluation \u001b[0m\u001b[1;36m(\u001b[0m\u001b[1;36mOptional\u001b[0m\u001b[1;36m)\u001b[0m\u001b[92m ──────────────────────────────────────────\u001b[0m\n"
      ]
     },
     "metadata": {},
     "output_type": "display_data"
    },
    {
     "data": {
      "text/html": [
       "<pre style=\"white-space:pre;overflow-x:auto;line-height:normal;font-family:Menlo,'DejaVu Sans Mono',consolas,'Courier New',monospace\"><span style=\"color: #008080; text-decoration-color: #008080\">Loading ground truth for evaluation...</span>\n",
       "</pre>\n"
      ],
      "text/plain": [
       "\u001b[36mLoading ground truth for evaluation\u001b[0m\u001b[36m...\u001b[0m\n"
      ]
     },
     "metadata": {},
     "output_type": "display_data"
    },
    {
     "data": {
      "text/html": [
       "<pre style=\"white-space:pre;overflow-x:auto;line-height:normal;font-family:Menlo,'DejaVu Sans Mono',consolas,'Courier New',monospace\"><span style=\"color: #008000; text-decoration-color: #008000\">✅ Ground truth loaded for </span><span style=\"color: #008000; text-decoration-color: #008000; font-weight: bold\">9</span><span style=\"color: #008000; text-decoration-color: #008000\"> images</span>\n",
       "</pre>\n"
      ],
      "text/plain": [
       "\u001b[32m✅ Ground truth loaded for \u001b[0m\u001b[1;32m9\u001b[0m\u001b[32m images\u001b[0m\n"
      ]
     },
     "metadata": {},
     "output_type": "display_data"
    },
    {
     "data": {
      "application/vnd.jupyter.widget-view+json": {
       "model_id": "1b192e576e584cceb39a5e72d268b0b6",
       "version_major": 2,
       "version_minor": 0
      },
      "text/plain": [
       "Stage 5: Evaluation:   0%|          | 0/9 [00:00<?, ?it/s]"
      ]
     },
     "metadata": {},
     "output_type": "display_data"
    },
    {
     "data": {
      "text/html": [
       "<pre style=\"white-space:pre;overflow-x:auto;line-height:normal;font-family:Menlo,'DejaVu Sans Mono',consolas,'Courier New',monospace\"><span style=\"color: #008000; text-decoration-color: #008000\">✅ Stage </span><span style=\"color: #008000; text-decoration-color: #008000; font-weight: bold\">5</span><span style=\"color: #008000; text-decoration-color: #008000\"> complete: </span><span style=\"color: #008000; text-decoration-color: #008000; font-weight: bold\">9</span><span style=\"color: #008000; text-decoration-color: #008000\"> extractions evaluated</span>\n",
       "</pre>\n"
      ],
      "text/plain": [
       "\u001b[32m✅ Stage \u001b[0m\u001b[1;32m5\u001b[0m\u001b[32m complete: \u001b[0m\u001b[1;32m9\u001b[0m\u001b[32m extractions evaluated\u001b[0m\n"
      ]
     },
     "metadata": {},
     "output_type": "display_data"
    },
    {
     "data": {
      "text/html": [
       "<pre style=\"white-space:pre;overflow-x:auto;line-height:normal;font-family:Menlo,'DejaVu Sans Mono',consolas,'Courier New',monospace\"><span style=\"color: #008080; text-decoration-color: #008080\">   Average accuracy: </span><span style=\"color: #008080; text-decoration-color: #008080; font-weight: bold\">72.22</span><span style=\"color: #008080; text-decoration-color: #008080\">%</span>\n",
       "</pre>\n"
      ],
      "text/plain": [
       "\u001b[36m   Average accuracy: \u001b[0m\u001b[1;36m72.22\u001b[0m\u001b[36m%\u001b[0m\n"
      ]
     },
     "metadata": {},
     "output_type": "display_data"
    },
    {
     "data": {
      "text/html": [
       "<pre style=\"white-space:pre;overflow-x:auto;line-height:normal;font-family:Menlo,'DejaVu Sans Mono',consolas,'Courier New',monospace\"><span style=\"color: #008080; text-decoration-color: #008080\">   Median accuracy: </span><span style=\"color: #008080; text-decoration-color: #008080; font-weight: bold\">85.71</span><span style=\"color: #008080; text-decoration-color: #008080\">%</span>\n",
       "</pre>\n"
      ],
      "text/plain": [
       "\u001b[36m   Median accuracy: \u001b[0m\u001b[1;36m85.71\u001b[0m\u001b[36m%\u001b[0m\n"
      ]
     },
     "metadata": {},
     "output_type": "display_data"
    },
    {
     "data": {
      "text/html": [
       "<pre style=\"white-space:pre;overflow-x:auto;line-height:normal;font-family:Menlo,'DejaVu Sans Mono',consolas,'Courier New',monospace\"><span style=\"color: #7f7f7f; text-decoration-color: #7f7f7f\">   💾 Stage </span><span style=\"color: #7fbfbf; text-decoration-color: #7fbfbf; font-weight: bold\">5</span><span style=\"color: #7f7f7f; text-decoration-color: #7f7f7f\">: </span><span style=\"color: #bfbf7f; text-decoration-color: #bfbf7f\">DataFrame</span><span style=\"color: #7f7f7f; text-decoration-color: #7f7f7f\">=</span><span style=\"color: #7fbfbf; text-decoration-color: #7fbfbf; font-weight: bold\">30.</span><span style=\"color: #7f7f7f; text-decoration-color: #7f7f7f\">0KB, </span><span style=\"color: #bfbf7f; text-decoration-color: #bfbf7f\">GPU</span><span style=\"color: #7f7f7f; text-decoration-color: #7f7f7f\">=</span><span style=\"color: #7fbfbf; text-decoration-color: #7fbfbf; font-weight: bold\">9.</span><span style=\"color: #7f7f7f; text-decoration-color: #7f7f7f\">8GB </span><span style=\"color: #7f7f7f; text-decoration-color: #7f7f7f; font-weight: bold\">(</span><span style=\"color: #7f7f7f; text-decoration-color: #7f7f7f\">reserved </span><span style=\"color: #7fbfbf; text-decoration-color: #7fbfbf; font-weight: bold\">9.</span><span style=\"color: #7f7f7f; text-decoration-color: #7f7f7f\">8GB</span><span style=\"color: #7f7f7f; text-decoration-color: #7f7f7f; font-weight: bold\">)</span>\n",
       "</pre>\n"
      ],
      "text/plain": [
       "\u001b[2m   💾 Stage \u001b[0m\u001b[1;2;36m5\u001b[0m\u001b[2m: \u001b[0m\u001b[2;33mDataFrame\u001b[0m\u001b[2m=\u001b[0m\u001b[1;2;36m30\u001b[0m\u001b[1;2;36m.\u001b[0m\u001b[2m0KB, \u001b[0m\u001b[2;33mGPU\u001b[0m\u001b[2m=\u001b[0m\u001b[1;2;36m9\u001b[0m\u001b[1;2;36m.\u001b[0m\u001b[2m8GB \u001b[0m\u001b[1;2m(\u001b[0m\u001b[2mreserved \u001b[0m\u001b[1;2;36m9.\u001b[0m\u001b[2m8GB\u001b[0m\u001b[1;2m)\u001b[0m\n"
      ]
     },
     "metadata": {},
     "output_type": "display_data"
    },
    {
     "data": {
      "text/html": [
       "<pre style=\"white-space:pre;overflow-x:auto;line-height:normal;font-family:Menlo,'DejaVu Sans Mono',consolas,'Courier New',monospace\"><span style=\"color: #008000; text-decoration-color: #008000\">✅ Batch </span><span style=\"color: #008000; text-decoration-color: #008000; font-weight: bold\">1</span><span style=\"color: #008000; text-decoration-color: #008000\"> checkpoint saved: batch_0001_20251023_000640.pkl</span>\n",
       "</pre>\n"
      ],
      "text/plain": [
       "\u001b[32m✅ Batch \u001b[0m\u001b[1;32m1\u001b[0m\u001b[32m checkpoint saved: batch_0001_20251023_000640.pkl\u001b[0m\n"
      ]
     },
     "metadata": {},
     "output_type": "display_data"
    },
    {
     "data": {
      "text/html": [
       "<pre style=\"white-space:pre;overflow-x:auto;line-height:normal;font-family:Menlo,'DejaVu Sans Mono',consolas,'Courier New',monospace\"><span style=\"color: #00ff00; text-decoration-color: #00ff00\">────────────────────────────────────────────── </span><span style=\"color: #008000; text-decoration-color: #008000; font-weight: bold\">Combining All Batches</span><span style=\"color: #00ff00; text-decoration-color: #00ff00\"> ──────────────────────────────────────────────</span>\n",
       "</pre>\n"
      ],
      "text/plain": [
       "\u001b[92m────────────────────────────────────────────── \u001b[0m\u001b[1;32mCombining All Batches\u001b[0m\u001b[92m ──────────────────────────────────────────────\u001b[0m\n"
      ]
     },
     "metadata": {},
     "output_type": "display_data"
    },
    {
     "data": {
      "text/html": [
       "<pre style=\"white-space:pre;overflow-x:auto;line-height:normal;font-family:Menlo,'DejaVu Sans Mono',consolas,'Courier New',monospace\"><span style=\"color: #008000; text-decoration-color: #008000; font-weight: bold\">✅ All </span><span style=\"color: #008000; text-decoration-color: #008000; font-weight: bold\">9</span><span style=\"color: #008000; text-decoration-color: #008000; font-weight: bold\"> images processed through pipeline</span>\n",
       "</pre>\n"
      ],
      "text/plain": [
       "\u001b[1;32m✅ All \u001b[0m\u001b[1;32m9\u001b[0m\u001b[1;32m images processed through pipeline\u001b[0m\n"
      ]
     },
     "metadata": {},
     "output_type": "display_data"
    },
    {
     "data": {
      "text/html": [
       "<pre style=\"white-space:pre;overflow-x:auto;line-height:normal;font-family:Menlo,'DejaVu Sans Mono',consolas,'Courier New',monospace\"><span style=\"color: #008080; text-decoration-color: #008080\">   Total processing time: </span><span style=\"color: #008080; text-decoration-color: #008080; font-weight: bold\">90.</span><span style=\"color: #008080; text-decoration-color: #008080\">87s</span>\n",
       "</pre>\n"
      ],
      "text/plain": [
       "\u001b[36m   Total processing time: \u001b[0m\u001b[1;36m90.\u001b[0m\u001b[36m87s\u001b[0m\n"
      ]
     },
     "metadata": {},
     "output_type": "display_data"
    },
    {
     "data": {
      "text/html": [
       "<pre style=\"white-space:pre;overflow-x:auto;line-height:normal;font-family:Menlo,'DejaVu Sans Mono',consolas,'Courier New',monospace\"><span style=\"color: #008080; text-decoration-color: #008080\">   Average per image: </span><span style=\"color: #008080; text-decoration-color: #008080; font-weight: bold\">10.</span><span style=\"color: #008080; text-decoration-color: #008080\">10s</span>\n",
       "</pre>\n"
      ],
      "text/plain": [
       "\u001b[36m   Average per image: \u001b[0m\u001b[1;36m10.\u001b[0m\u001b[36m10s\u001b[0m\n"
      ]
     },
     "metadata": {},
     "output_type": "display_data"
    },
    {
     "data": {
      "text/html": [
       "<pre style=\"white-space:pre;overflow-x:auto;line-height:normal;font-family:Menlo,'DejaVu Sans Mono',consolas,'Courier New',monospace\"><span style=\"color: #008000; text-decoration-color: #008000\">✅ Final combined checkpoint: final_combined_20251023_000640.pkl</span>\n",
       "</pre>\n"
      ],
      "text/plain": [
       "\u001b[32m✅ Final combined checkpoint: final_combined_20251023_000640.pkl\u001b[0m\n"
      ]
     },
     "metadata": {},
     "output_type": "display_data"
    },
    {
     "data": {
      "text/html": [
       "<pre style=\"white-space:pre;overflow-x:auto;line-height:normal;font-family:Menlo,'DejaVu Sans Mono',consolas,'Courier New',monospace\"><span style=\"color: #00ff00; text-decoration-color: #00ff00\">──────────────────────────────────────────────── </span><span style=\"color: #008000; text-decoration-color: #008000; font-weight: bold\">Pipeline Complete</span><span style=\"color: #00ff00; text-decoration-color: #00ff00\"> ────────────────────────────────────────────────</span>\n",
       "</pre>\n"
      ],
      "text/plain": [
       "\u001b[92m──────────────────────────────────────────────── \u001b[0m\u001b[1;32mPipeline Complete\u001b[0m\u001b[92m ────────────────────────────────────────────────\u001b[0m\n"
      ]
     },
     "metadata": {},
     "output_type": "display_data"
    }
   ],
   "source": [
    "#Cell 10\n",
    "# ============================================================================\n",
    "# BATCH PROCESSING CONFIGURATION\n",
    "# ============================================================================\n",
    "BATCH_SIZE = 1000  # Process images in batches (configurable)\n",
    "\n",
    "# ============================================================================\n",
    "# INITIALIZE PROCESSING\n",
    "# ============================================================================\n",
    "from tqdm.auto import tqdm\n",
    "\n",
    "all_image_files = image_files  # All images to process\n",
    "total_images = len(all_image_files)\n",
    "num_batches = (total_images + BATCH_SIZE - 1) // BATCH_SIZE\n",
    "\n",
    "rprint(f\"\\n[bold green]🚀 Starting batch pipeline processing...[/bold green]\")\n",
    "rprint(f\"[cyan]  Total images: {total_images}[/cyan]\")\n",
    "rprint(f\"[cyan]  Batch size: {BATCH_SIZE}[/cyan]\")\n",
    "rprint(f\"[cyan]  Number of batches: {num_batches}[/cyan]\\n\")\n",
    "\n",
    "# Store all batch results\n",
    "all_results = []\n",
    "\n",
    "# ============================================================================\n",
    "# PROCESS EACH BATCH\n",
    "# ============================================================================\n",
    "for batch_num in range(num_batches):\n",
    "    batch_start = batch_num * BATCH_SIZE\n",
    "    batch_end = min(batch_start + BATCH_SIZE, total_images)\n",
    "    batch_files = all_image_files[batch_start:batch_end]\n",
    "    batch_size = len(batch_files)\n",
    "    \n",
    "    console.rule(f\"[bold magenta]Batch {batch_num + 1}/{num_batches} ({batch_size} images)[/bold magenta]\")\n",
    "    \n",
    "    # Initialize DataFrame for this batch\n",
    "    df = pd.DataFrame({'image_path': [str(p) for p in batch_files]})\n",
    "    df['image_name'] = df['image_path'].apply(lambda x: Path(x).name)\n",
    "    \n",
    "    # ------------------------------------------------------------------------\n",
    "    # STAGE 0: Document Type Detection (GPU - use tqdm for OOM control)\n",
    "    # ------------------------------------------------------------------------\n",
    "    console.rule(\"[bold cyan]Stage 0: Document Type Detection[/bold cyan]\")\n",
    "    \n",
    "    doctype_results = []\n",
    "    for idx, row in tqdm(df.iterrows(), total=len(df), desc=\"Stage 0: Doc Type\"):\n",
    "        doctype_results.append(stage_0_doctype_detection(row))\n",
    "    df['doctype_raw'] = doctype_results\n",
    "    \n",
    "    # Extract components\n",
    "    df['doctype_response'] = df['doctype_raw'].apply(lambda x: x['raw_response'])\n",
    "    df['doctype_time'] = df['doctype_raw'].apply(lambda x: x['processing_time'])\n",
    "    df['messages_after_stage0'] = df['doctype_raw'].apply(lambda x: x['messages'])\n",
    "    \n",
    "    # Parse document type\n",
    "    df['document_type'] = df['doctype_response'].apply(parse_document_type)\n",
    "    \n",
    "    # Summary\n",
    "    doctype_counts = df['document_type'].value_counts().to_dict()\n",
    "    rprint(f\"[green]✅ Stage 0 complete: {len(df)} documents classified[/green]\")\n",
    "    rprint(f\"[cyan]   Invoices: {doctype_counts.get('INVOICE', 0)}[/cyan]\")\n",
    "    rprint(f\"[cyan]   Receipts: {doctype_counts.get('RECEIPT', 0)}[/cyan]\")\n",
    "    rprint(f\"[cyan]   Bank Statements: {doctype_counts.get('BANK_STATEMENT', 0)}[/cyan]\")\n",
    "    show_pipeline_memory(df, \"Stage 0\")\n",
    "    \n",
    "    # ------------------------------------------------------------------------\n",
    "    # STAGE 1: Structure Classification (GPU - use tqdm for OOM control)\n",
    "    # ------------------------------------------------------------------------\n",
    "    console.rule(\"[bold cyan]Stage 1: Structure Classification[/bold cyan]\")\n",
    "    \n",
    "    structure_results = []\n",
    "    for idx, row in tqdm(df.iterrows(), total=len(df), desc=\"Stage 1: Structure\"):\n",
    "        structure_results.append(stage_1_structure_classification(row))\n",
    "    df['structure_raw'] = structure_results\n",
    "    \n",
    "    # Extract components (handle None for non-bank-statements)\n",
    "    df['structure_response'] = df['structure_raw'].apply(\n",
    "        lambda x: x['raw_response'] if x else 'N/A'\n",
    "    )\n",
    "    df['structure_time'] = df['structure_raw'].apply(\n",
    "        lambda x: x['processing_time'] if x else 0\n",
    "    )\n",
    "    df['messages_after_stage1'] = df['structure_raw'].apply(\n",
    "        lambda x: x['messages'] if x else None\n",
    "    )\n",
    "    \n",
    "    # Parse structure type\n",
    "    df['structure_type'] = df['structure_response'].apply(parse_structure_type)\n",
    "    \n",
    "    # Summary\n",
    "    bank_count = (df['document_type'] == 'BANK_STATEMENT').sum()\n",
    "    structure_counts = df[df['document_type'] == 'BANK_STATEMENT']['structure_type'].value_counts().to_dict()\n",
    "    rprint(f\"[green]✅ Stage 1 complete: {bank_count} bank statements classified[/green]\")\n",
    "    if bank_count > 0:\n",
    "        rprint(f\"[cyan]   Flat: {structure_counts.get('flat', 0)}[/cyan]\")\n",
    "        rprint(f\"[cyan]   Date-grouped: {structure_counts.get('date_grouped', 0)}[/cyan]\")\n",
    "    show_pipeline_memory(df, \"Stage 1\")\n",
    "    \n",
    "    # ------------------------------------------------------------------------\n",
    "    # STAGE 2: Extraction (GPU - CRITICAL: Manual loop for OOM control)\n",
    "    # ------------------------------------------------------------------------\n",
    "    console.rule(\"[bold cyan]Stage 2: Document-Type-Aware Extraction[/bold cyan]\")\n",
    "    \n",
    "    extraction_results = []\n",
    "    for idx, row in tqdm(df.iterrows(), total=len(df), desc=\"Stage 2: Extraction\"):\n",
    "        extraction_results.append(stage_2_extraction(row))\n",
    "        \n",
    "        # CRITICAL: Periodic garbage collection for GPU OOM control\n",
    "        if (idx + 1) % 3 == 0:\n",
    "            gc.collect()\n",
    "    \n",
    "    df['extraction_raw'] = extraction_results\n",
    "    \n",
    "    # Extract components\n",
    "    df['extraction_response'] = df['extraction_raw'].apply(lambda x: x['raw_response'])\n",
    "    df['extraction_time'] = df['extraction_raw'].apply(lambda x: x['processing_time'])\n",
    "    df['prompt_used'] = df['extraction_raw'].apply(lambda x: x['prompt_used'])\n",
    "    \n",
    "    # Calculate total processing time\n",
    "    df['total_time'] = df['doctype_time'] + df['structure_time'] + df['extraction_time']\n",
    "    \n",
    "    rprint(f\"[green]✅ Stage 2 complete: {len(df)} extractions done[/green]\")\n",
    "    rprint(f\"[cyan]   Average extraction time: {df['extraction_time'].mean():.2f}s[/cyan]\")\n",
    "    rprint(f\"[cyan]   Total time (avg): {df['total_time'].mean():.2f}s[/cyan]\")\n",
    "    show_pipeline_memory(df, \"Stage 2\")\n",
    "    \n",
    "    # ------------------------------------------------------------------------\n",
    "    # STAGE 3: Parsing (CPU - safe to use progress_apply)\n",
    "    # ------------------------------------------------------------------------\n",
    "    console.rule(\"[bold cyan]Stage 3: Parsing (Text → Fields)[/bold cyan]\")\n",
    "    \n",
    "    tqdm.pandas(desc=\"Stage 3: Parsing\")\n",
    "    df['parsed_fields'] = df['extraction_response'].progress_apply(\n",
    "        lambda x: stage_3_parsing(x, expected_fields=FIELD_COLUMNS)\n",
    "    )\n",
    "    \n",
    "    # Count fields found\n",
    "    df['fields_found'] = df['parsed_fields'].apply(\n",
    "        lambda x: sum(1 for v in x.values() if v != 'NOT_FOUND')\n",
    "    )\n",
    "    \n",
    "    rprint(f\"[green]✅ Stage 3 complete: {len(df)} responses parsed[/green]\")\n",
    "    rprint(f\"[cyan]   Average fields found: {df['fields_found'].mean():.1f}/{len(FIELD_COLUMNS)}[/cyan]\")\n",
    "    show_pipeline_memory(df, \"Stage 3\")\n",
    "    \n",
    "    # ------------------------------------------------------------------------\n",
    "    # STAGE 4: Cleaning (CPU - safe to use progress_apply)\n",
    "    # ------------------------------------------------------------------------\n",
    "    console.rule(\"[bold cyan]Stage 4: Cleaning & Normalization[/bold cyan]\")\n",
    "    \n",
    "    tqdm.pandas(desc=\"Stage 4: Cleaning\")\n",
    "    df['cleaned_fields'] = df['parsed_fields'].progress_apply(\n",
    "        lambda x: stage_4_cleaning(x, cleaner=cleaner)\n",
    "    )\n",
    "    \n",
    "    # Count fields after cleaning\n",
    "    df['fields_cleaned'] = df['cleaned_fields'].apply(\n",
    "        lambda x: sum(1 for v in x.values() if v != 'NOT_FOUND')\n",
    "    )\n",
    "    \n",
    "    rprint(f\"[green]✅ Stage 4 complete: {len(df)} field sets cleaned[/green]\")\n",
    "    rprint(f\"[cyan]   Average fields cleaned: {df['fields_cleaned'].mean():.1f}/{len(FIELD_COLUMNS)}[/cyan]\")\n",
    "    show_pipeline_memory(df, \"Stage 4\")\n",
    "    \n",
    "    # ------------------------------------------------------------------------\n",
    "    # STAGE 5: Evaluation (CPU - safe to use progress_apply)\n",
    "    # ------------------------------------------------------------------------\n",
    "    console.rule(\"[bold cyan]Stage 5: Evaluation (Optional)[/bold cyan]\")\n",
    "    \n",
    "    # Load ground truth if available\n",
    "    if not CONFIG['INFERENCE_ONLY'] and CONFIG.get('GROUND_TRUTH'):\n",
    "        if batch_num == 0:  # Load ground truth only once\n",
    "            rprint(\"[cyan]Loading ground truth for evaluation...[/cyan]\")\n",
    "            ground_truth = load_ground_truth(CONFIG['GROUND_TRUTH'], verbose=False)\n",
    "            rprint(f\"[green]✅ Ground truth loaded for {len(ground_truth)} images[/green]\")\n",
    "        \n",
    "        # Apply evaluation with progress bar\n",
    "        tqdm.pandas(desc=\"Stage 5: Evaluation\")\n",
    "        df['evaluation'] = df.progress_apply(\n",
    "            lambda row: stage_5_evaluation(row, ground_truth, expected_fields=FIELD_COLUMNS),\n",
    "            axis=1\n",
    "        )\n",
    "        \n",
    "        # Extract accuracy metrics\n",
    "        df['overall_accuracy'] = df['evaluation'].apply(\n",
    "            lambda x: x.get('overall_accuracy', 0) * 100 if x and 'error' not in x else None\n",
    "        )\n",
    "        df['fields_matched'] = df['evaluation'].apply(\n",
    "            lambda x: x.get('fields_matched', 0) if x and 'error' not in x else None\n",
    "        )\n",
    "        df['fields_extracted'] = df['evaluation'].apply(\n",
    "            lambda x: x.get('fields_extracted', 0) if x and 'error' not in x else None\n",
    "        )\n",
    "        \n",
    "        rprint(f\"[green]✅ Stage 5 complete: {len(df)} extractions evaluated[/green]\")\n",
    "        rprint(f\"[cyan]   Average accuracy: {df['overall_accuracy'].mean():.2f}%[/cyan]\")\n",
    "        rprint(f\"[cyan]   Median accuracy: {df['overall_accuracy'].median():.2f}%[/cyan]\")\n",
    "    else:\n",
    "        df['evaluation'] = None\n",
    "        df['overall_accuracy'] = None\n",
    "        df['fields_matched'] = None\n",
    "        df['fields_extracted'] = None\n",
    "        if batch_num == 0:\n",
    "            rprint(\"[yellow]⚠️  Inference-only mode - skipping evaluation[/yellow]\")\n",
    "    \n",
    "    show_pipeline_memory(df, \"Stage 5\")\n",
    "    \n",
    "    # ------------------------------------------------------------------------\n",
    "    # SAVE BATCH CHECKPOINT\n",
    "    # ------------------------------------------------------------------------\n",
    "    batch_checkpoint = checkpoint_dir / f'batch_{batch_num + 1:04d}_{TIMESTAMP}.pkl'\n",
    "    df.to_pickle(batch_checkpoint)\n",
    "    rprint(f\"[green]✅ Batch {batch_num + 1} checkpoint saved: {batch_checkpoint.name}[/green]\")\n",
    "    \n",
    "    # Store batch result\n",
    "    all_results.append(df)\n",
    "    \n",
    "    # ------------------------------------------------------------------------\n",
    "    # MEMORY CLEANUP BETWEEN BATCHES\n",
    "    # ------------------------------------------------------------------------\n",
    "    if batch_num < num_batches - 1:  # Not the last batch\n",
    "        rprint(\"[yellow]🧹 Cleaning up memory before next batch...[/yellow]\")\n",
    "        del df\n",
    "        gc.collect()\n",
    "        if torch.cuda.is_available():\n",
    "            torch.cuda.empty_cache()\n",
    "        rprint(\"[green]✅ Memory cleanup complete[/green]\\n\")\n",
    "\n",
    "# ============================================================================\n",
    "# COMBINE ALL BATCHES\n",
    "# ============================================================================\n",
    "console.rule(\"[bold green]Combining All Batches[/bold green]\")\n",
    "\n",
    "df = pd.concat(all_results, ignore_index=True)\n",
    "\n",
    "rprint(f\"[bold green]✅ All {len(df)} images processed through pipeline[/bold green]\")\n",
    "rprint(f\"[cyan]   Total processing time: {df['total_time'].sum():.2f}s[/cyan]\")\n",
    "rprint(f\"[cyan]   Average per image: {df['total_time'].mean():.2f}s[/cyan]\")\n",
    "\n",
    "# Final checkpoint with combined data\n",
    "final_checkpoint = checkpoint_dir / f'final_combined_{TIMESTAMP}.pkl'\n",
    "df.to_pickle(final_checkpoint)\n",
    "rprint(f\"[green]✅ Final combined checkpoint: {final_checkpoint.name}[/green]\")\n",
    "\n",
    "console.rule(\"[bold green]Pipeline Complete[/bold green]\")"
   ]
  },
  {
   "cell_type": "markdown",
   "id": "0e1300cc",
   "metadata": {},
   "source": [
    "## Export results"
   ]
  },
  {
   "cell_type": "code",
   "execution_count": 11,
   "id": "xl0quiwnpv",
   "metadata": {},
   "outputs": [
    {
     "data": {
      "text/html": [
       "<pre style=\"white-space:pre;overflow-x:auto;line-height:normal;font-family:Menlo,'DejaVu Sans Mono',consolas,'Courier New',monospace\"><span style=\"color: #00ff00; text-decoration-color: #00ff00\">──────────────────────────────────────────────── </span><span style=\"color: #000080; text-decoration-color: #000080; font-weight: bold\">Exporting Results</span><span style=\"color: #00ff00; text-decoration-color: #00ff00\"> ────────────────────────────────────────────────</span>\n",
       "</pre>\n"
      ],
      "text/plain": [
       "\u001b[92m──────────────────────────────────────────────── \u001b[0m\u001b[1;34mExporting Results\u001b[0m\u001b[92m ────────────────────────────────────────────────\u001b[0m\n"
      ]
     },
     "metadata": {},
     "output_type": "display_data"
    },
    {
     "data": {
      "text/html": [
       "<pre style=\"white-space:pre;overflow-x:auto;line-height:normal;font-family:Menlo,'DejaVu Sans Mono',consolas,'Courier New',monospace\"><span style=\"color: #008000; text-decoration-color: #008000\">✅ CSV exported: /home/jovyan/nfs_share/tod/LMM_POC/output/llama_pipeline_results_20251023_000640.csv</span>\n",
       "</pre>\n"
      ],
      "text/plain": [
       "\u001b[32m✅ CSV exported: \u001b[0m\u001b[32m/home/jovyan/nfs_share/tod/LMM_POC/output/\u001b[0m\u001b[32mllama_pipeline_results_20251023_000640.csv\u001b[0m\n"
      ]
     },
     "metadata": {},
     "output_type": "display_data"
    },
    {
     "data": {
      "text/html": [
       "<pre style=\"white-space:pre;overflow-x:auto;line-height:normal;font-family:Menlo,'DejaVu Sans Mono',consolas,'Courier New',monospace\"><span style=\"color: #008080; text-decoration-color: #008080\">   Rows: </span><span style=\"color: #008080; text-decoration-color: #008080; font-weight: bold\">9</span>\n",
       "</pre>\n"
      ],
      "text/plain": [
       "\u001b[36m   Rows: \u001b[0m\u001b[1;36m9\u001b[0m\n"
      ]
     },
     "metadata": {},
     "output_type": "display_data"
    },
    {
     "data": {
      "text/html": [
       "<pre style=\"white-space:pre;overflow-x:auto;line-height:normal;font-family:Menlo,'DejaVu Sans Mono',consolas,'Courier New',monospace\"><span style=\"color: #008080; text-decoration-color: #008080\">   Columns: </span><span style=\"color: #008080; text-decoration-color: #008080; font-weight: bold\">27</span>\n",
       "</pre>\n"
      ],
      "text/plain": [
       "\u001b[36m   Columns: \u001b[0m\u001b[1;36m27\u001b[0m\n"
      ]
     },
     "metadata": {},
     "output_type": "display_data"
    },
    {
     "data": {
      "text/html": [
       "<pre style=\"white-space:pre;overflow-x:auto;line-height:normal;font-family:Menlo,'DejaVu Sans Mono',consolas,'Courier New',monospace\"><span style=\"color: #008080; text-decoration-color: #008080\">   Pattern: *llama*pipeline*results*.csv </span><span style=\"color: #008080; text-decoration-color: #008080; font-weight: bold\">(</span><span style=\"color: #008080; text-decoration-color: #008080\">compatible with model_comparison.ipynb</span><span style=\"color: #008080; text-decoration-color: #008080; font-weight: bold\">)</span>\n",
       "</pre>\n"
      ],
      "text/plain": [
       "\u001b[36m   Pattern: *llama*pipeline*results*.csv \u001b[0m\u001b[1;36m(\u001b[0m\u001b[36mcompatible with model_comparison.ipynb\u001b[0m\u001b[1;36m)\u001b[0m\n"
      ]
     },
     "metadata": {},
     "output_type": "display_data"
    },
    {
     "data": {
      "text/html": [
       "<pre style=\"white-space:pre;overflow-x:auto;line-height:normal;font-family:Menlo,'DejaVu Sans Mono',consolas,'Courier New',monospace\"><span style=\"color: #008000; text-decoration-color: #008000\">✅ JSON exported: /home/jovyan/nfs_share/tod/LMM_POC/output/llama_pipeline_full_20251023_000640.json</span>\n",
       "</pre>\n"
      ],
      "text/plain": [
       "\u001b[32m✅ JSON exported: \u001b[0m\u001b[32m/home/jovyan/nfs_share/tod/LMM_POC/output/\u001b[0m\u001b[32mllama_pipeline_full_20251023_000640.json\u001b[0m\n"
      ]
     },
     "metadata": {},
     "output_type": "display_data"
    },
    {
     "data": {
      "text/html": [
       "<pre style=\"white-space:pre;overflow-x:auto;line-height:normal;font-family:Menlo,'DejaVu Sans Mono',consolas,'Courier New',monospace\"><span style=\"color: #008080; text-decoration-color: #008080\">   Full pipeline data saved for all </span><span style=\"color: #008080; text-decoration-color: #008080; font-weight: bold\">9</span><span style=\"color: #008080; text-decoration-color: #008080\"> images</span>\n",
       "</pre>\n"
      ],
      "text/plain": [
       "\u001b[36m   Full pipeline data saved for all \u001b[0m\u001b[1;36m9\u001b[0m\u001b[36m images\u001b[0m\n"
      ]
     },
     "metadata": {},
     "output_type": "display_data"
    },
    {
     "data": {
      "text/html": [
       "<pre style=\"white-space:pre;overflow-x:auto;line-height:normal;font-family:Menlo,'DejaVu Sans Mono',consolas,'Courier New',monospace\">\n",
       "<span style=\"color: #000080; text-decoration-color: #000080; font-weight: bold\">📋 Sample Exported Data:</span>\n",
       "</pre>\n"
      ],
      "text/plain": [
       "\n",
       "\u001b[1;34m📋 Sample Exported Data:\u001b[0m\n"
      ]
     },
     "metadata": {},
     "output_type": "display_data"
    },
    {
     "data": {
      "text/html": [
       "<pre style=\"white-space:pre;overflow-x:auto;line-height:normal;font-family:Menlo,'DejaVu Sans Mono',consolas,'Courier New',monospace\">   image_file  document_type  overall_accuracy  total_time  fields_cleaned\n",
       "image_001.png        RECEIPT         <span style=\"color: #008080; text-decoration-color: #008080; font-weight: bold\">92.857143</span>    <span style=\"color: #008080; text-decoration-color: #008080; font-weight: bold\">6.852843</span>              <span style=\"color: #008080; text-decoration-color: #008080; font-weight: bold\">14</span>\n",
       "image_002.png        RECEIPT         <span style=\"color: #008080; text-decoration-color: #008080; font-weight: bold\">85.714286</span>    <span style=\"color: #008080; text-decoration-color: #008080; font-weight: bold\">6.862468</span>              <span style=\"color: #008080; text-decoration-color: #008080; font-weight: bold\">14</span>\n",
       "image_003.png BANK_STATEMENT         <span style=\"color: #008080; text-decoration-color: #008080; font-weight: bold\">28.571429</span>    <span style=\"color: #008080; text-decoration-color: #008080; font-weight: bold\">6.709012</span>               <span style=\"color: #008080; text-decoration-color: #008080; font-weight: bold\">5</span>\n",
       "</pre>\n"
      ],
      "text/plain": [
       "   image_file  document_type  overall_accuracy  total_time  fields_cleaned\n",
       "image_001.png        RECEIPT         \u001b[1;36m92.857143\u001b[0m    \u001b[1;36m6.852843\u001b[0m              \u001b[1;36m14\u001b[0m\n",
       "image_002.png        RECEIPT         \u001b[1;36m85.714286\u001b[0m    \u001b[1;36m6.862468\u001b[0m              \u001b[1;36m14\u001b[0m\n",
       "image_003.png BANK_STATEMENT         \u001b[1;36m28.571429\u001b[0m    \u001b[1;36m6.709012\u001b[0m               \u001b[1;36m5\u001b[0m\n"
      ]
     },
     "metadata": {},
     "output_type": "display_data"
    }
   ],
   "source": [
    "#Cell 11\n",
    "# ============================================================================\n",
    "# EXPORT RESULTS WITH EXPANDED FIELDS\n",
    "# ============================================================================\n",
    "console.rule(\"[bold blue]Exporting Results[/bold blue]\")\n",
    "\n",
    "# Create export data with individual field columns\n",
    "export_data = []\n",
    "\n",
    "for idx, row in df.iterrows():\n",
    "    record = {\n",
    "        'image_file': row['image_name'],\n",
    "        'document_type': row['document_type'],\n",
    "        'structure_type': row['structure_type'],\n",
    "        'prompt_used': row['prompt_used'],\n",
    "        'total_time': row['total_time'],\n",
    "        'fields_found': row['fields_found'],\n",
    "        'fields_cleaned': row['fields_cleaned'],\n",
    "    }\n",
    "    \n",
    "    # Add all cleaned field values as individual columns\n",
    "    cleaned = row['cleaned_fields']\n",
    "    for field in FIELD_COLUMNS:\n",
    "        record[field] = cleaned.get(field, 'NOT_FOUND')\n",
    "    \n",
    "    # Add evaluation metrics if available\n",
    "    if row['evaluation'] is not None and row['overall_accuracy'] is not None:\n",
    "        record['overall_accuracy'] = row['overall_accuracy']\n",
    "        record['fields_matched'] = row['fields_matched']\n",
    "        record['fields_extracted'] = row['fields_extracted']\n",
    "    \n",
    "    export_data.append(record)\n",
    "\n",
    "export_df = pd.DataFrame(export_data)\n",
    "\n",
    "# Save CSV (compatible with model_comparison.ipynb)\n",
    "csv_output = output_dir / f\"llama_pipeline_results_{TIMESTAMP}.csv\"\n",
    "export_df.to_csv(csv_output, index=False)\n",
    "\n",
    "rprint(f\"[green]✅ CSV exported: {csv_output}[/green]\")\n",
    "rprint(f\"[cyan]   Rows: {len(export_df)}[/cyan]\")\n",
    "rprint(f\"[cyan]   Columns: {len(export_df.columns)}[/cyan]\")\n",
    "rprint(f\"[cyan]   Pattern: *llama*pipeline*results*.csv (compatible with model_comparison.ipynb)[/cyan]\")\n",
    "\n",
    "# Save detailed JSON with full pipeline data\n",
    "json_data = []\n",
    "\n",
    "for idx, row in df.iterrows():\n",
    "    record = {\n",
    "        'image_file': row['image_name'],\n",
    "        'pipeline_stages': {\n",
    "            'stage_0_doctype': {\n",
    "                'raw_response': row['doctype_response'],\n",
    "                'document_type': row['document_type'],\n",
    "                'processing_time': row['doctype_time']\n",
    "            },\n",
    "            'stage_1_structure': {\n",
    "                'raw_response': row['structure_response'],\n",
    "                'structure_type': row['structure_type'],\n",
    "                'processing_time': row['structure_time']\n",
    "            },\n",
    "            'stage_2_extraction': {\n",
    "                'raw_response': row['extraction_response'],\n",
    "                'prompt_used': row['prompt_used'],\n",
    "                'processing_time': row['extraction_time']\n",
    "            },\n",
    "            'stage_3_parsing': {\n",
    "                'parsed_fields': row['parsed_fields']\n",
    "            },\n",
    "            'stage_4_cleaning': {\n",
    "                'cleaned_fields': row['cleaned_fields']\n",
    "            }\n",
    "        },\n",
    "        'total_processing_time': row['total_time']\n",
    "    }\n",
    "    \n",
    "    if row['evaluation'] is not None:\n",
    "        record['stage_5_evaluation'] = row['evaluation']\n",
    "    \n",
    "    json_data.append(record)\n",
    "\n",
    "json_output = output_dir / f\"llama_pipeline_full_{TIMESTAMP}.json\"\n",
    "with open(json_output, 'w') as f:\n",
    "    json.dump(json_data, f, indent=2)\n",
    "\n",
    "rprint(f\"[green]✅ JSON exported: {json_output}[/green]\")\n",
    "rprint(f\"[cyan]   Full pipeline data saved for all {len(json_data)} images[/cyan]\")\n",
    "\n",
    "# Display sample of exported data\n",
    "rprint(\"\\n[bold blue]📋 Sample Exported Data:[/bold blue]\")\n",
    "if not CONFIG['INFERENCE_ONLY']:\n",
    "    sample_cols = ['image_file', 'document_type', 'overall_accuracy', 'total_time', 'fields_cleaned']\n",
    "else:\n",
    "    sample_cols = ['image_file', 'document_type', 'total_time', 'fields_cleaned']\n",
    "\n",
    "rprint(export_df[sample_cols].head(3).to_string(index=False))"
   ]
  },
  {
   "cell_type": "markdown",
   "id": "fe528e70",
   "metadata": {},
   "source": [
    "## Pipeline Debugging Utilities\n",
    "\n",
    "Functions to inspect and debug the pipeline at any stage"
   ]
  },
  {
   "cell_type": "code",
   "execution_count": 12,
   "id": "htn7mi9xi6t",
   "metadata": {},
   "outputs": [
    {
     "data": {
      "text/html": [
       "<pre style=\"white-space:pre;overflow-x:auto;line-height:normal;font-family:Menlo,'DejaVu Sans Mono',consolas,'Courier New',monospace\"><span style=\"color: #008000; text-decoration-color: #008000\">✅ Debugging utilities defined</span>\n",
       "</pre>\n"
      ],
      "text/plain": [
       "\u001b[32m✅ Debugging utilities defined\u001b[0m\n"
      ]
     },
     "metadata": {},
     "output_type": "display_data"
    }
   ],
   "source": [
    "#Cell 12\n",
    "def inspect_pipeline(df, image_name, stages=['all']):\n",
    "    \"\"\"\n",
    "    Inspect all pipeline stages for a specific image.\n",
    "    \n",
    "    Args:\n",
    "        df: DataFrame with pipeline results\n",
    "        image_name: Name of image to inspect (e.g., 'image_003.png')\n",
    "        stages: List of stages to show or 'all'\n",
    "    \"\"\"\n",
    "    row = df[df['image_name'] == image_name].iloc[0]\n",
    "    \n",
    "    print(f\"\\n{'='*80}\")\n",
    "    print(f\"🔍 Pipeline Inspection: {image_name}\")\n",
    "    print(f\"{'='*80}\")\n",
    "    \n",
    "    if 'all' in stages or 'doctype' in stages:\n",
    "        print(f\"\\n[STAGE 0: Document Type Detection]\")\n",
    "        print(f\"Response: {row['doctype_response']}\")\n",
    "        print(f\"Parsed: {row['document_type']}\")\n",
    "        print(f\"Time: {row['doctype_time']:.2f}s\")\n",
    "    \n",
    "    if 'all' in stages or 'structure' in stages:\n",
    "        print(f\"\\n[STAGE 1: Structure Classification]\")\n",
    "        print(f\"Response: {row['structure_response']}\")\n",
    "        print(f\"Parsed: {row['structure_type']}\")\n",
    "        print(f\"Time: {row['structure_time']:.2f}s\")\n",
    "    \n",
    "    if 'all' in stages or 'extraction' in stages:\n",
    "        print(f\"\\n[STAGE 2: Extraction]\")\n",
    "        print(f\"Prompt Used: {row['prompt_used']}\")\n",
    "        response = row['extraction_response']\n",
    "        print(f\"Response ({len(response)} chars):\")\n",
    "        print(response[:500] + \"...\" if len(response) > 500 else response)\n",
    "        print(f\"Time: {row['extraction_time']:.2f}s\")\n",
    "    \n",
    "    if 'all' in stages or 'parsing' in stages:\n",
    "        print(f\"\\n[STAGE 3: Parsing]\")\n",
    "        parsed = row['parsed_fields']\n",
    "        found_fields = [k for k, v in parsed.items() if v != 'NOT_FOUND']\n",
    "        print(f\"Found {len(found_fields)}/{len(parsed)} fields:\")\n",
    "        for field in found_fields[:5]:\n",
    "            value = parsed[field]\n",
    "            print(f\"  {field}: {value[:50]}...\" if len(value) > 50 else f\"  {field}: {value}\")\n",
    "    \n",
    "    if 'all' in stages or 'cleaning' in stages:\n",
    "        print(f\"\\n[STAGE 4: Cleaning]\")\n",
    "        cleaned = row['cleaned_fields']\n",
    "        found_fields = [k for k, v in cleaned.items() if v != 'NOT_FOUND']\n",
    "        print(f\"Cleaned {len(found_fields)}/{len(cleaned)} fields:\")\n",
    "        \n",
    "        # Show before/after for changed fields\n",
    "        changes_shown = 0\n",
    "        for field in found_fields:\n",
    "            parsed_val = row['parsed_fields'][field]\n",
    "            cleaned_val = cleaned[field]\n",
    "            if parsed_val != cleaned_val:\n",
    "                print(f\"  {field}:\")\n",
    "                print(f\"    Before: {parsed_val[:50]}...\" if len(parsed_val) > 50 else f\"    Before: {parsed_val}\")\n",
    "                print(f\"    After:  {cleaned_val[:50]}...\" if len(cleaned_val) > 50 else f\"    After:  {cleaned_val}\")\n",
    "                changes_shown += 1\n",
    "                if changes_shown >= 5:\n",
    "                    break\n",
    "    \n",
    "    if 'all' in stages or 'evaluation' in stages:\n",
    "        if row['evaluation'] is not None:\n",
    "            print(f\"\\n[STAGE 5: Evaluation]\")\n",
    "            print(f\"Overall Accuracy: {row['overall_accuracy']:.2f}%\")\n",
    "            print(f\"Fields Matched: {row['fields_matched']}/{row['fields_extracted']}\")\n",
    "    \n",
    "    print(f\"\\n{'='*80}\\n\")\n",
    "\n",
    "\n",
    "def compare_parsing_cleaning(df, image_name):\n",
    "    \"\"\"Show side-by-side comparison of parsed vs cleaned fields.\"\"\"\n",
    "    row = df[df['image_name'] == image_name].iloc[0]\n",
    "    \n",
    "    parsed = row['parsed_fields']\n",
    "    cleaned = row['cleaned_fields']\n",
    "    \n",
    "    print(f\"\\n📊 Parsing vs Cleaning Comparison: {image_name}\")\n",
    "    print(f\"{'Field':<30} {'Parsed':<40} {'Cleaned':<40}\")\n",
    "    print(\"=\"*110)\n",
    "    \n",
    "    for field in FIELD_COLUMNS:\n",
    "        parsed_val = parsed.get(field, 'NOT_FOUND')\n",
    "        cleaned_val = cleaned.get(field, 'NOT_FOUND')\n",
    "        \n",
    "        if parsed_val != cleaned_val:\n",
    "            p_display = parsed_val[:37] + \"...\" if len(parsed_val) > 40 else parsed_val\n",
    "            c_display = cleaned_val[:37] + \"...\" if len(cleaned_val) > 40 else cleaned_val\n",
    "            \n",
    "            print(f\"{field:<30} {p_display:<40} {c_display:<40}\")\n",
    "\n",
    "\n",
    "def field_coverage_report(df):\n",
    "    \"\"\"Generate field coverage statistics across all images.\"\"\"\n",
    "    print(\"\\n\" + \"=\"*80)\n",
    "    print(\"📈 FIELD COVERAGE REPORT\")\n",
    "    print(\"=\"*80)\n",
    "    \n",
    "    coverage_data = []\n",
    "    \n",
    "    for field in FIELD_COLUMNS:\n",
    "        parsed_count = sum(\n",
    "            1 for idx, row in df.iterrows()\n",
    "            if row['parsed_fields'].get(field, 'NOT_FOUND') != 'NOT_FOUND'\n",
    "        )\n",
    "        cleaned_count = sum(\n",
    "            1 for idx, row in df.iterrows()\n",
    "            if row['cleaned_fields'].get(field, 'NOT_FOUND') != 'NOT_FOUND'\n",
    "        )\n",
    "        \n",
    "        parsed_pct = (parsed_count / len(df)) * 100\n",
    "        cleaned_pct = (cleaned_count / len(df)) * 100\n",
    "        \n",
    "        coverage_data.append({\n",
    "            'Field': field,\n",
    "            'Parsed': f\"{parsed_count}/{len(df)} ({parsed_pct:.1f}%)\",\n",
    "            'Cleaned': f\"{cleaned_count}/{len(df)} ({cleaned_pct:.1f}%)\",\n",
    "            'Change': cleaned_count - parsed_count\n",
    "        })\n",
    "    \n",
    "    coverage_df = pd.DataFrame(coverage_data)\n",
    "    print(coverage_df.to_string(index=False))\n",
    "    print(\"=\"*80 + \"\\n\")\n",
    "\n",
    "\n",
    "rprint(\"[green]✅ Debugging utilities defined[/green]\")"
   ]
  },
  {
   "cell_type": "markdown",
   "id": "e6e8d89c-9771-4b5e-950b-825e1c8ba0ec",
   "metadata": {},
   "source": [
    "## Pipeline Summary and Next Steps\n",
    "\n",
    "Final summary of pipeline execution and tips for working with large batches"
   ]
  },
  {
   "cell_type": "code",
   "execution_count": 13,
   "id": "1fbdf0cd-68fc-44db-aeb0-d9936ca5180d",
   "metadata": {},
   "outputs": [
    {
     "data": {
      "text/html": [
       "<pre style=\"white-space:pre;overflow-x:auto;line-height:normal;font-family:Menlo,'DejaVu Sans Mono',consolas,'Courier New',monospace\"><span style=\"color: #00ff00; text-decoration-color: #00ff00\">─────────────────────────────────────────── </span><span style=\"color: #008000; text-decoration-color: #008000; font-weight: bold\">Pipeline Execution Summary</span><span style=\"color: #00ff00; text-decoration-color: #00ff00\"> ────────────────────────────────────────────</span>\n",
       "</pre>\n"
      ],
      "text/plain": [
       "\u001b[92m─────────────────────────────────────────── \u001b[0m\u001b[1;32mPipeline Execution Summary\u001b[0m\u001b[92m ────────────────────────────────────────────\u001b[0m\n"
      ]
     },
     "metadata": {},
     "output_type": "display_data"
    },
    {
     "name": "stdout",
     "output_type": "stream",
     "text": [
      "\n",
      "📊 LLAMA PIPELINE PROCESSING SUMMARY\n",
      "================================================================================\n",
      "Total images processed: 9\n",
      "Mode: Evaluation mode\n",
      "\n",
      "Document Type Distribution:\n",
      "  RECEIPT: 3\n",
      "  BANK_STATEMENT: 3\n",
      "  INVOICE: 3\n",
      "\n",
      "Bank Statement Structure Distribution:\n",
      "  date_grouped: 2\n",
      "  flat: 1\n",
      "\n",
      "Processing Time Statistics:\n",
      "  Total time: 90.87s\n",
      "  Average per image: 10.10s\n",
      "  Min: 6.32s\n",
      "  Max: 28.35s\n",
      "\n",
      "Field Extraction Statistics:\n",
      "  Average fields parsed: 11.0/17\n",
      "  Average fields cleaned: 11.0/17\n",
      "\n",
      "Accuracy Statistics:\n",
      "  Average accuracy: 72.22%\n",
      "  Median accuracy: 85.71%\n",
      "  Min accuracy: 28.57%\n",
      "  Max accuracy: 100.00%\n",
      "\n",
      "================================================================================\n",
      "\n",
      "💡 TIPS FOR PROCESSING LARGE BATCHES (10,000+ images)\n",
      "================================================================================\n",
      "\n",
      "1. CHECKPOINTING:\n",
      "   - Checkpoints are automatically saved after stages 2, 3, and 4\n",
      "   - Resume from checkpoint:\n",
      "     df = pd.read_pickle('checkpoints/stage3_parsed_TIMESTAMP.pkl')\n",
      "     df['cleaned_fields'] = df['parsed_fields'].apply(\n",
      "    lambda x: stage_4_cleaning(x, cleaner=cleaner)\n",
      ")\n",
      "\n",
      "2. BATCH PROCESSING:\n",
      "   - Process in batches of 1000 images to manage memory\n",
      "   - Use df.iloc[start:end] to process subsets\n",
      "\n",
      "3. PARALLEL PROCESSING:\n",
      "   - Install pandarallel: pip install pandarallel\n",
      "   - Use parallel_apply for stages 3 and 4 (CPU-bound)\n",
      "   - Stages 0-2 (GPU-bound) must remain sequential\n",
      "\n",
      "4. MEMORY MANAGEMENT:\n",
      "   - Periodic garbage collection already enabled (every 3 images)\n",
      "   - GPU cache clearing after each image\n",
      "   - Monitor with: nvidia-smi\n",
      "\n",
      "5. INSPECTION AND DEBUGGING:\n",
      "   - Use inspect_pipeline(df, 'image_name') to debug specific images\n",
      "   - Use compare_parsing_cleaning(df, 'image_name') to see cleaning effects\n",
      "   - Use field_coverage_report(df) for overall statistics\n",
      "\n",
      "6. OUTPUT FILES:\n",
      "   - CSV: {csv_output}\n",
      "   - JSON: {json_output}\n",
      "   - Checkpoints: {checkpoint_dir}/\n",
      "\n",
      "================================================================================\n",
      "\n",
      "📋 DATAFRAME COLUMN REFERENCE\n",
      "================================================================================\n",
      "\n",
      "PIPELINE STAGES (dict objects):\n",
      "  - doctype_raw: {'raw_response', 'processing_time', 'messages'}\n",
      "  - structure_raw: {'raw_response', 'processing_time', 'messages'} or None\n",
      "  - extraction_raw: {'raw_response', 'processing_time', 'prompt_used'}\n",
      "  - parsed_fields: {field_name: value} - 17 fields\n",
      "  - cleaned_fields: {field_name: cleaned_value} - 17 fields\n",
      "  - evaluation: {metrics} or None\n",
      "\n",
      "EXTRACTED COMPONENTS (primitives):\n",
      "  - image_path, image_name: str\n",
      "  - document_type: 'INVOICE' | 'RECEIPT' | 'BANK_STATEMENT'\n",
      "  - structure_type: 'flat' | 'date_grouped' | 'N/A'\n",
      "  - doctype_response, extraction_response: str (raw VLM output)\n",
      "  - doctype_time, structure_time, extraction_time, total_time: float (seconds)\n",
      "  - fields_found, fields_cleaned: int (count of non-NOT_FOUND fields)\n",
      "  - overall_accuracy, fields_matched, fields_extracted: float/int (if evaluation)\n",
      "\n",
      "ACCESSING DATA:\n",
      "  - Full extraction: df.loc[0, 'cleaned_fields']\n",
      "  - Single field: df.loc[0, 'cleaned_fields']['SUPPLIER_NAME']\n",
      "  - List field as array: df.loc[0, 'cleaned_fields']['LINE_ITEM_DESCRIPTIONS'].split(' | ')\n",
      "\n",
      "================================================================================\n"
     ]
    },
    {
     "data": {
      "text/html": [
       "<pre style=\"white-space:pre;overflow-x:auto;line-height:normal;font-family:Menlo,'DejaVu Sans Mono',consolas,'Courier New',monospace\">\n",
       "<span style=\"color: #008000; text-decoration-color: #008000; font-weight: bold\">🎉 Pipeline processing complete! Use the debugging utilities above to inspect results.</span>\n",
       "</pre>\n"
      ],
      "text/plain": [
       "\n",
       "\u001b[1;32m🎉 Pipeline processing complete! Use the debugging utilities above to inspect results.\u001b[0m\n"
      ]
     },
     "metadata": {},
     "output_type": "display_data"
    }
   ],
   "source": [
    "#Cell 13\n",
    "# ============================================================================\n",
    "# PIPELINE SUMMARY\n",
    "# ============================================================================\n",
    "console.rule(\"[bold green]Pipeline Execution Summary[/bold green]\")\n",
    "\n",
    "print(\"\\n📊 LLAMA PIPELINE PROCESSING SUMMARY\")\n",
    "print(\"=\"*80)\n",
    "print(f\"Total images processed: {len(df)}\")\n",
    "print(f\"Mode: {'Inference-only' if CONFIG['INFERENCE_ONLY'] else 'Evaluation mode'}\")\n",
    "print()\n",
    "\n",
    "# Document type distribution\n",
    "print(\"Document Type Distribution:\")\n",
    "for doc_type, count in df['document_type'].value_counts().items():\n",
    "    print(f\"  {doc_type}: {count}\")\n",
    "print()\n",
    "\n",
    "# Bank statement structure distribution\n",
    "bank_count = (df['document_type'] == 'BANK_STATEMENT').sum()\n",
    "if bank_count > 0:\n",
    "    print(\"Bank Statement Structure Distribution:\")\n",
    "    for struct_type, count in df[df['document_type'] == 'BANK_STATEMENT']['structure_type'].value_counts().items():\n",
    "        print(f\"  {struct_type}: {count}\")\n",
    "    print()\n",
    "\n",
    "# Processing time statistics\n",
    "print(\"Processing Time Statistics:\")\n",
    "print(f\"  Total time: {df['total_time'].sum():.2f}s\")\n",
    "print(f\"  Average per image: {df['total_time'].mean():.2f}s\")\n",
    "print(f\"  Min: {df['total_time'].min():.2f}s\")\n",
    "print(f\"  Max: {df['total_time'].max():.2f}s\")\n",
    "print()\n",
    "\n",
    "# Field extraction statistics\n",
    "print(\"Field Extraction Statistics:\")\n",
    "print(f\"  Average fields parsed: {df['fields_found'].mean():.1f}/{len(FIELD_COLUMNS)}\")\n",
    "print(f\"  Average fields cleaned: {df['fields_cleaned'].mean():.1f}/{len(FIELD_COLUMNS)}\")\n",
    "print()\n",
    "\n",
    "# Accuracy statistics (if available)\n",
    "if not CONFIG['INFERENCE_ONLY']:\n",
    "    print(\"Accuracy Statistics:\")\n",
    "    print(f\"  Average accuracy: {df['overall_accuracy'].mean():.2f}%\")\n",
    "    print(f\"  Median accuracy: {df['overall_accuracy'].median():.2f}%\")\n",
    "    print(f\"  Min accuracy: {df['overall_accuracy'].min():.2f}%\")\n",
    "    print(f\"  Max accuracy: {df['overall_accuracy'].max():.2f}%\")\n",
    "    print()\n",
    "\n",
    "print(\"=\"*80)\n",
    "\n",
    "# ============================================================================\n",
    "# TIPS FOR LARGE BATCHES (10,000+ images)\n",
    "# ============================================================================\n",
    "print(\"\\n💡 TIPS FOR PROCESSING LARGE BATCHES (10,000+ images)\")\n",
    "print(\"=\"*80)\n",
    "print(\"\"\"\n",
    "1. CHECKPOINTING:\n",
    "   - Checkpoints are automatically saved after stages 2, 3, and 4\n",
    "   - Resume from checkpoint:\n",
    "     df = pd.read_pickle('checkpoints/stage3_parsed_TIMESTAMP.pkl')\n",
    "     df['cleaned_fields'] = df['parsed_fields'].apply(\n",
    "    lambda x: stage_4_cleaning(x, cleaner=cleaner)\n",
    ")\n",
    "\n",
    "2. BATCH PROCESSING:\n",
    "   - Process in batches of 1000 images to manage memory\n",
    "   - Use df.iloc[start:end] to process subsets\n",
    "   \n",
    "3. PARALLEL PROCESSING:\n",
    "   - Install pandarallel: pip install pandarallel\n",
    "   - Use parallel_apply for stages 3 and 4 (CPU-bound)\n",
    "   - Stages 0-2 (GPU-bound) must remain sequential\n",
    "\n",
    "4. MEMORY MANAGEMENT:\n",
    "   - Periodic garbage collection already enabled (every 3 images)\n",
    "   - GPU cache clearing after each image\n",
    "   - Monitor with: nvidia-smi\n",
    "\n",
    "5. INSPECTION AND DEBUGGING:\n",
    "   - Use inspect_pipeline(df, 'image_name') to debug specific images\n",
    "   - Use compare_parsing_cleaning(df, 'image_name') to see cleaning effects\n",
    "   - Use field_coverage_report(df) for overall statistics\n",
    "\n",
    "6. OUTPUT FILES:\n",
    "   - CSV: {csv_output}\n",
    "   - JSON: {json_output}\n",
    "   - Checkpoints: {checkpoint_dir}/\n",
    "\"\"\")\n",
    "print(\"=\"*80)\n",
    "\n",
    "# ============================================================================\n",
    "# DATAFRAME COLUMN REFERENCE\n",
    "# ============================================================================\n",
    "print(\"\\n📋 DATAFRAME COLUMN REFERENCE\")\n",
    "print(\"=\"*80)\n",
    "print(\"\"\"\n",
    "PIPELINE STAGES (dict objects):\n",
    "  - doctype_raw: {'raw_response', 'processing_time', 'messages'}\n",
    "  - structure_raw: {'raw_response', 'processing_time', 'messages'} or None\n",
    "  - extraction_raw: {'raw_response', 'processing_time', 'prompt_used'}\n",
    "  - parsed_fields: {field_name: value} - 17 fields\n",
    "  - cleaned_fields: {field_name: cleaned_value} - 17 fields\n",
    "  - evaluation: {metrics} or None\n",
    "\n",
    "EXTRACTED COMPONENTS (primitives):\n",
    "  - image_path, image_name: str\n",
    "  - document_type: 'INVOICE' | 'RECEIPT' | 'BANK_STATEMENT'\n",
    "  - structure_type: 'flat' | 'date_grouped' | 'N/A'\n",
    "  - doctype_response, extraction_response: str (raw VLM output)\n",
    "  - doctype_time, structure_time, extraction_time, total_time: float (seconds)\n",
    "  - fields_found, fields_cleaned: int (count of non-NOT_FOUND fields)\n",
    "  - overall_accuracy, fields_matched, fields_extracted: float/int (if evaluation)\n",
    "\n",
    "ACCESSING DATA:\n",
    "  - Full extraction: df.loc[0, 'cleaned_fields']\n",
    "  - Single field: df.loc[0, 'cleaned_fields']['SUPPLIER_NAME']\n",
    "  - List field as array: df.loc[0, 'cleaned_fields']['LINE_ITEM_DESCRIPTIONS'].split(' | ')\n",
    "\"\"\")\n",
    "print(\"=\"*80)\n",
    "\n",
    "rprint(\"\\n[bold green]🎉 Pipeline processing complete! Use the debugging utilities above to inspect results.[/bold green]\")"
   ]
  },
  {
   "cell_type": "markdown",
   "id": "cell-22",
   "metadata": {},
   "source": [
    "## View Individual Extraction\n",
    "\n",
    "Uncomment and run to view detailed extraction for a specific image:"
   ]
  },
  {
   "cell_type": "code",
   "execution_count": 14,
   "id": "cell-23",
   "metadata": {},
   "outputs": [
    {
     "name": "stdout",
     "output_type": "stream",
     "text": [
      "\n",
      "🔍 Detailed Extraction: image_003.png\n",
      "================================================================================\n",
      "Document Type: BANK_STATEMENT\n",
      "Structure Type: flat\n",
      "Prompt Used: bank_statement_flat\n",
      "\n",
      "Document Type Classification Response:\n",
      "This is a bank statement.\n",
      "\n",
      "Structure Classification Response:\n",
      "FLAT\n",
      "\n",
      "Extraction Result:\n",
      "DOCUMENT_TYPE: BANK_STATEMENT\n",
      "STATEMENT_DATE_RANGE: 03/05/2025 to 10/05/2025\n",
      "TRANSACTION_DATES: 03/05/2025 | 04/05/2025 | 05/05/2025 | 06/05/2025 | 07/05/2025 | 08/05/2025 | 09/05/2025 | 10/05/2025\n",
      "LINE_ITEM_DESCRIPTIONS: ONLINE PURCHASE AMAZON AU | EFTPOS PURCHASE COLES EXP | EFTPOS PURCHASE COLES EXP | DIRECT CREDIT SALARY | ATM WITHDRAWAL ANZ ATM | EFTPOS PURCHASE COLES EXP | INTEREST PAYMENT | ATM WITHDRAWAL ANZ ATM\n",
      "TRANSACTION_AMOUNTS_PAID: $288.03 | $22.50 | $114.66 | $187.59 | $112.50 | $5.16 | $146.72\n",
      "================================================================================\n"
     ]
    }
   ],
   "source": [
    "#Cell 14\n",
    "# View detailed extraction for specific image (using pandas DataFrame)\n",
    "image_to_view = \"image_003.png\"  # Change this\n",
    "\n",
    "if 'df' in dir() and len(df) > 0:\n",
    "    row = df[df['image_name'] == image_to_view]\n",
    "\n",
    "    if len(row) > 0:\n",
    "        row = row.iloc[0]\n",
    "        print(f\"\\n🔍 Detailed Extraction: {image_to_view}\")\n",
    "        print(\"=\"*80)\n",
    "        print(f\"Document Type: {row['document_type']}\")\n",
    "        print(f\"Structure Type: {row['structure_type']}\")\n",
    "        print(f\"Prompt Used: {row['prompt_used']}\")\n",
    "        print(f\"\\nDocument Type Classification Response:\")\n",
    "        print(row['doctype_response'])\n",
    "        print(f\"\\nStructure Classification Response:\")\n",
    "        print(row['structure_response'])\n",
    "        print(f\"\\nExtraction Result:\")\n",
    "        print(row['extraction_response'])\n",
    "        print(\"=\"*80)\n",
    "    else:\n",
    "        print(f\"Image {image_to_view} not found in DataFrame\")\n",
    "else:\n",
    "    print(\"⚠️ DataFrame 'df' not found - run Cell 10 (main pipeline) first\")"
   ]
  }
 ],
 "metadata": {
  "kernelspec": {
   "display_name": "Python (unified_vision_processor)",
   "language": "python",
   "name": "unified_vision_processor"
  },
  "language_info": {
   "codemirror_mode": {
    "name": "ipython",
    "version": 3
   },
   "file_extension": ".py",
   "mimetype": "text/x-python",
   "name": "python",
   "nbconvert_exporter": "python",
   "pygments_lexer": "ipython3",
   "version": "3.11.13"
  }
 },
 "nbformat": 4,
 "nbformat_minor": 5
}
