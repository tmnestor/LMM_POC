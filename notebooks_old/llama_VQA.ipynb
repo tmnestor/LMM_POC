{
 "cells": [
  {
   "cell_type": "code",
   "execution_count": 1,
   "metadata": {},
   "outputs": [],
   "source": [
    "from pathlib import Path\n",
    "\n",
    "import torch\n",
    "from PIL import Image\n",
    "from transformers import AutoProcessor, MllamaForConditionalGeneration"
   ]
  },
  {
   "cell_type": "code",
   "execution_count": 12,
   "metadata": {},
   "outputs": [
    {
     "name": "stdout",
     "output_type": "stream",
     "text": [
      "🔧 Loading Llama-3.2-Vision model...\n"
     ]
    },
    {
     "data": {
      "application/vnd.jupyter.widget-view+json": {
       "model_id": "e7dd520216a447cebe863a9ff84acdab",
       "version_major": 2,
       "version_minor": 0
      },
      "text/plain": [
       "Loading checkpoint shards:   0%|          | 0/5 [00:00<?, ?it/s]"
      ]
     },
     "metadata": {},
     "output_type": "display_data"
    },
    {
     "name": "stdout",
     "output_type": "stream",
     "text": [
      "📷 Loading image...\n",
      "✅ Image loaded: (900, 1320)\n"
     ]
    }
   ],
   "source": [
    "# Update this path to your local Llama model\n",
    "model_id = \"/home/jovyan/nfs_share/models/Llama-3.2-11B-Vision-Instruct\"\n",
    "\n",
    "print(\"🔧 Loading Llama-3.2-Vision model...\")\n",
    "model = MllamaForConditionalGeneration.from_pretrained(\n",
    "    model_id,\n",
    "    torch_dtype=torch.bfloat16,\n",
    "    device_map=\"auto\",\n",
    ")\n",
    "processor = AutoProcessor.from_pretrained(model_id)\n",
    "\n",
    "print(\"📷 Loading image...\")\n",
    "image = Image.open(imageName)\n",
    "print(f\"✅ Image loaded: {image.size}\")"
   ]
  },
  {
   "cell_type": "code",
   "execution_count": 22,
   "metadata": {},
   "outputs": [],
   "source": [
    "# Update this path to your test image\n",
    "imageName = \"/home/jovyan/nfs_share/tod/LMM_POC/evaluation_data/image_009.png\""
   ]
  },
  {
   "cell_type": "code",
   "execution_count": 39,
   "metadata": {},
   "outputs": [
    {
     "name": "stdout",
     "output_type": "stream",
     "text": [
      "\n",
      "1. Extract the \"Transaction Table\" only. \n",
      "2. YOU MUST NOT GUESS values you unsure of. \n",
      "3. Rows may have missing values\n",
      "4. Rows NEVER HAVE REPEATED AMOUNTS, SO YOU MUST NOT REPEAT VALUES THAT YOU ARE UNSURE OF.\n",
      "5. Format the answer as a markdown table.\n",
      "\n"
     ]
    }
   ],
   "source": [
    "question = \"\"\"\n",
    "1. Extract the \"Transaction Table\" only. \n",
    "2. YOU MUST NOT GUESS values you unsure of. \n",
    "3. Rows may have missing values\n",
    "4. Rows NEVER HAVE REPEATED AMOUNTS, SO YOU MUST NOT REPEAT VALUES THAT YOU ARE UNSURE OF.\n",
    "5. Format the answer as a markdown table.\n",
    "\"\"\"\n",
    "print(question)"
   ]
  },
  {
   "cell_type": "code",
   "execution_count": 40,
   "metadata": {},
   "outputs": [
    {
     "name": "stdout",
     "output_type": "stream",
     "text": [
      "❓ Question: \n",
      "1. Extract the \"Transaction Table\" only. \n",
      "2. YOU MUST NOT GUESS values you unsure of. \n",
      "3. Rows may have missing values\n",
      "4. Rows NEVER HAVE REPEATED AMOUNTS, SO YOU MUST NOT REPEAT VALUES THAT YOU ARE UNSURE OF.\n",
      "5. Format the answer as a markdown table.\n",
      "\n",
      "🤖 Generating response with Llama-3.2-Vision...\n"
     ]
    }
   ],
   "source": [
    "# Visual Question Answering - ask a simple question about the image\n",
    "# question = \"Explain the structure of the transaction table\"\n",
    "\n",
    "# Create message structure for Llama\n",
    "messageDataStructure = [\n",
    "    {\n",
    "        \"role\": \"user\",\n",
    "        \"content\": [\n",
    "            {\"type\": \"image\"},\n",
    "            {\n",
    "                \"type\": \"text\",\n",
    "                \"text\": question,\n",
    "            },\n",
    "        ],\n",
    "    }\n",
    "]\n",
    "\n",
    "print(f\"❓ Question: {question}\")\n",
    "print(\"🤖 Generating response with Llama-3.2-Vision...\")"
   ]
  },
  {
   "cell_type": "code",
   "execution_count": 41,
   "metadata": {},
   "outputs": [
    {
     "name": "stdout",
     "output_type": "stream",
     "text": [
      "✅ Response generated successfully!\n",
      "\n",
      "============================================================\n",
      "LLAMA-3.2-VISION RESPONSE:\n",
      "============================================================\n",
      "<|begin_of_text|><|begin_of_text|><|start_header_id|>user<|end_header_id|>\n",
      "\n",
      "<|image|>\n",
      "1. Extract the \"Transaction Table\" only. \n",
      "2. YOU MUST NOT GUESS values you unsure of. \n",
      "3. Rows may have missing values\n",
      "4. Rows NEVER HAVE REPEATED AMOUNTS, SO YOU MUST NOT REPEAT VALUES THAT YOU ARE UNSURE OF.\n",
      "5. Format the answer as a markdown table.\n",
      "<|eot_id|><|start_header_id|>assistant<|end_header_id|>\n",
      "\n",
      "| Date | Description | Withdrawal | Deposit | Balance |\n",
      "| --- | --- | --- | --- | --- |\n",
      "| 07/09/2025 | EFTPOS Cash Out PRICELINE PHARMACY MACKAY QLD | $322.18 |  | $48890.58 |\n",
      "| 08/09/2025 | EFTPOS Purchase OFFICEWORKS BUSINESS ROCKHAMPTO... | $64.33 |  | $49212.76 |\n",
      "| 04/09/2025 | Mortgage Repayment MORT 6103P16754533 NAB | $649.79 |  | $49277.09 |\n",
      "| 03/09/2025 | OSKO Payment to MIKE CHEN 809845773133 | $1385.43 |  | $49226.68 |\n",
      "| 03/09/2025 | Direct Debit 15395P41608293 MWF 42730 | $199.17 |  | $51312.57 |\n",
      "| 02/09/2025 | Salary Payment ATO 28782P80782109 |  | $6105.71 | $51511.48 |\n",
      "| 01/09/2025 | DD INSURANCE ACME CORP PTY LTD 82321942151853 |  |  | $43405.77 |\n",
      "| 01/09/2025 | Auto Payment UTILITIES AGL 7394 0P85943944 |  | $257.50 | $43440.81 |\n",
      "| 01/09/2025 | DIRECT CREDIT SALARY 6080P87012986 |  |  | $43408.31 |\n",
      "| 01/09/2025 | BPAY Payment BILLER60279 CRN 9813018480 |  | $4449.44 | $43758.87 |\n",
      "| 31/08/2025 | Professional Services Red Energy 98073P31959417 |  |  | $39296.85 |\n",
      "| 29/08/2025 | Card Purchase RED ROOSTER Paramatta SA |  | $270.31 | $41754.72 |\n",
      "| 29/08/2025 | Credit Card Payment CC 72599P33283283298 |  | $1957.09 | $42025.03 |\n",
      "| 27/08/2025 | EFTPOS Cash Out PRICELINE PHARMACY BRISBANE QLD |  | $221.60 | $43882.12 |\n",
      "| 27/08/2025 | Card Purchase CHEMIST WAREHOUSE DISCOUNT Richmo... |  | $222.56 | $44203.72 |\n",
      "| 26/08/2025 | Fortnightly Pay ATO PAYROLL 91032P35687918 |  | $5679.21 | $44426.28 |\n",
      "| 24/08/2025 | PAY RUN ACME CORP PTY LTD 99584P07785218 |  | $4455.46 | $38747.07 |\n",
      "| 24/08/2025 | Salary Payment ATO 30175P32361415 |  | $7951.93 | $34291.61 |\n",
      "| 23/08/2025 | Online Purchase amazon.com.au AUS |  | $83.78 | $26339.68 |\n",
      "| 22/08/2025 | Salary Payment ATO 28773P16041610 |  | $6013.70 | $20423.46 |\n",
      "| 20/08/2025 | Transfer To Vicks Account NetBank 54381P90841102 |  | $2345.10 | $20409.76 |\n",
      "| 20/08/2025 | Salary Payment ATO 94514P80490207 |  | $3541.27 | $22754.86 |\n",
      "| 20/08/2025 | Transfer To Western Port Marina NetBank From Tod |  | $728.48 | $19213.59 |\n",
      "| 19/08/2025 | Subscription Netflix 33586P77385123 |  | $201.14 | $19940.07 |\n",
      "| 18/08/2025 | Contactless Payment Cinema CAINZ QLD |  | $211.28 | $20141.21 |\n",
      "| 18/08/2025 | Auto Payment UTILITIES Red Energy 15107P21771855 |  | $33.24 | $20352.49 |\n",
      "| 18/08/2025 | Contactless Payment Restaurant MACKAY QLD |  | $145.70 | $20385.73 |\n",
      "| 17/08/2025 | Fortnightly Pay ATO PAYROLL 36358P70254998 |  | $7201.19 | $20531.43 |\n",
      "| 14/08/2025 | Centrelink Payment JobSeeker 59392P56090878 |  | $2241.39 | $13330.24 |\n",
      "| 14/08/2025 | International Transaction Fee |  | $27.06 | $11088.85 |\n",
      "| 13/08/2025 | Equipment Purchase Officemax Australia 13554P45... |  | $478.86 | $11115.91 |\n",
      "| 13/08/2025 | International ATM USA USD |  | $260.71 | $11594.77 |\n",
      "| 11/08/2025 | Dividend Payment PREMIUM CORP PTY LTD 7353SP419... |  | $6395.09 | $11855.48 |\n",
      "| 11/08/2025 | Invoice Payment HARVEY NORMAN FLAGSHIP PTY LTD... |  |  | $5460.39 |\n",
      "| 10/08/2025 | Online Purchase ebay.com.au AUS |  | $257.95 | $5889.78 |\n",
      "| 10/08/2025 | Subscription Spotify Monthly 15369P56427775 |  | $166.22 | $5949.73 |\n",
      "| 09/08/2025 | International Transaction Fee |  | $33.83 | $6133.88 |\n",
      "| 09/08/2025 | Business Expense IT Equipment 86968P86141679 |  | $63.63 | $6157.78 |\n",
      "| 09/08/2025 | Auto Payment UTILITIES Energy Australia 47683P7... |  | $91.04 | $6792.96 |\n",
      "| 08/08/2025 | Auto Payment UTILITIES Red Energy 81338P61572286 |  | $389.57 | $6884.90 |<|eot_id|>\n",
      "============================================================\n"
     ]
    }
   ],
   "source": [
    "# Process the input\n",
    "textInput = processor.apply_chat_template(\n",
    "    messageDataStructure, add_generation_prompt=True\n",
    ")\n",
    "inputs = processor(image, textInput, return_tensors=\"pt\").to(model.device)\n",
    "\n",
    "# Generate response\n",
    "output = model.generate(**inputs, max_new_tokens=2000)\n",
    "generatedOutput = processor.decode(output[0])\n",
    "\n",
    "print(\"✅ Response generated successfully!\")\n",
    "print(\"\\n\" + \"=\" * 60)\n",
    "print(\"LLAMA-3.2-VISION RESPONSE:\")\n",
    "print(\"=\" * 60)\n",
    "print(generatedOutput)\n",
    "print(\"=\" * 60)"
   ]
  },
  {
   "cell_type": "code",
   "execution_count": 5,
   "metadata": {},
   "outputs": [
    {
     "name": "stdout",
     "output_type": "stream",
     "text": [
      "✅ Response saved to: llama_vqa_output.txt\n",
      "📄 File size: 1804 bytes\n"
     ]
    }
   ],
   "source": [
    "# Optional: Save the response to a file\n",
    "output_path = Path(\"llama_vqa_output.txt\")\n",
    "\n",
    "with output_path.open(\"w\", encoding=\"utf-8\") as text_file:\n",
    "    text_file.write(generatedOutput)\n",
    "\n",
    "print(f\"✅ Response saved to: {output_path}\")\n",
    "print(f\"📄 File size: {output_path.stat().st_size} bytes\")"
   ]
  }
 ],
 "metadata": {
  "kernelspec": {
   "display_name": "Python (unified_vision_processor)",
   "language": "python",
   "name": "unified_vision_processor"
  },
  "language_info": {
   "codemirror_mode": {
    "name": "ipython",
    "version": 3
   },
   "file_extension": ".py",
   "mimetype": "text/x-python",
   "name": "python",
   "nbconvert_exporter": "python",
   "pygments_lexer": "ipython3",
   "version": "3.11.13"
  }
 },
 "nbformat": 4,
 "nbformat_minor": 4
}
