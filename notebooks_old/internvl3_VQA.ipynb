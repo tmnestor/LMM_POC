{
 "cells": [
  {
   "cell_type": "code",
   "execution_count": 1,
   "metadata": {},
   "outputs": [
    {
     "name": "stdout",
     "output_type": "stream",
     "text": [
      "✅ Random seed set to 42 for reproducibility\n"
     ]
    }
   ],
   "source": [
    "from pathlib import Path\n",
    "import random\n",
    "import math\n",
    "\n",
    "import numpy as np\n",
    "import torch\n",
    "from PIL import Image\n",
    "from transformers import AutoModel, AutoTokenizer\n",
    "import torchvision.transforms as T\n",
    "from torchvision.transforms.functional import InterpolationMode\n",
    "\n",
    "# Set random seed for reproducibility\n",
    "def set_seed(seed=42):\n",
    "    random.seed(seed)\n",
    "    np.random.seed(seed)\n",
    "    torch.manual_seed(seed)\n",
    "    if torch.cuda.is_available():\n",
    "        torch.cuda.manual_seed_all(seed)\n",
    "\n",
    "set_seed(42)\n",
    "print(\"✅ Random seed set to 42 for reproducibility\")"
   ]
  },
  {
   "cell_type": "code",
   "execution_count": 2,
   "metadata": {},
   "outputs": [
    {
     "name": "stdout",
     "output_type": "stream",
     "text": [
      "🔧 Loading InternVL3-8B model for 4x V100 GPUs...\n",
      "FlashAttention2 is not installed.\n"
     ]
    },
    {
     "data": {
      "application/vnd.jupyter.widget-view+json": {
       "model_id": "52cc03c55d7e49d39ff1d12a06a4ecf5",
       "version_major": 2,
       "version_minor": 0
      },
      "text/plain": [
       "Loading checkpoint shards:   0%|          | 0/4 [00:00<?, ?it/s]"
      ]
     },
     "metadata": {},
     "output_type": "display_data"
    },
    {
     "name": "stdout",
     "output_type": "stream",
     "text": [
      "✅ Model and tokenizer loaded successfully\n"
     ]
    }
   ],
   "source": [
    "# Update this path to your local InternVL3 model\n",
    "model_id = \"/home/jovyan/nfs_share/models/InternVL3-8B\"\n",
    "print(\"🔧 Loading InternVL3-8B model for 4x V100 GPUs...\")\n",
    "\n",
    "# Load model\n",
    "model = AutoModel.from_pretrained(\n",
    "    model_id,\n",
    "    torch_dtype=torch.bfloat16,\n",
    "    low_cpu_mem_usage=True,\n",
    "    trust_remote_code=True\n",
    ").eval().cuda()\n",
    "\n",
    "# Use DataParallel for 4x V100 multi-GPU utilization\n",
    "# if torch.cuda.device_count() > 1:\n",
    "#     model = torch.nn.DataParallel(model, device_ids=[0, 1, 2, 3])\n",
    "#     model = model.cuda()\n",
    "#     print(f\"✅ Using {torch.cuda.device_count()} V100 GPUs with DataParallel\")\n",
    "# else:\n",
    "#     model = model.cuda()\n",
    "#     print(\"✅ Using single GPU\")\n",
    "\n",
    "# Load tokenizer\n",
    "tokenizer = AutoTokenizer.from_pretrained(\n",
    "    model_id, \n",
    "    trust_remote_code=True, \n",
    "    use_fast=False\n",
    ")\n",
    "\n",
    "print(\"✅ Model and tokenizer loaded successfully\")\n",
    "if hasattr(model, 'module'):\n",
    "    print(f\"✅ Model replicated across {torch.cuda.device_count()} GPUs\")"
   ]
  },
  {
   "cell_type": "code",
   "execution_count": 3,
   "metadata": {},
   "outputs": [],
   "source": [
    "# Update this path to your test image\n",
    "imageName = \"/home/jovyan/nfs_share/tod/LMM_POC/evaluation_data/image_008.png\""
   ]
  },
  {
   "cell_type": "code",
   "execution_count": 4,
   "metadata": {},
   "outputs": [
    {
     "name": "stdout",
     "output_type": "stream",
     "text": [
      "🖼️  Processing image...\n",
      "✅ Image processed: torch.Size([7, 3, 448, 448])\n",
      "✅ Number of image tiles: 7\n"
     ]
    }
   ],
   "source": [
    "# Official InternVL3 image preprocessing (from docs)\n",
    "IMAGENET_MEAN = (0.485, 0.456, 0.406)\n",
    "IMAGENET_STD = (0.229, 0.224, 0.225)\n",
    "\n",
    "def build_transform(input_size):\n",
    "    transform = T.Compose([\n",
    "        T.Lambda(lambda img: img.convert('RGB') if img.mode != 'RGB' else img),\n",
    "        T.Resize((input_size, input_size), interpolation=InterpolationMode.BICUBIC),\n",
    "        T.ToTensor(),\n",
    "        T.Normalize(mean=IMAGENET_MEAN, std=IMAGENET_STD)\n",
    "    ])\n",
    "    return transform\n",
    "\n",
    "def find_closest_aspect_ratio(aspect_ratio, target_ratios, width, height, image_size):\n",
    "    best_ratio_diff = float('inf')\n",
    "    best_ratio = (1, 1)\n",
    "    area = width * height\n",
    "    for ratio in target_ratios:\n",
    "        target_aspect_ratio = ratio[0] / ratio[1]\n",
    "        ratio_diff = abs(aspect_ratio - target_aspect_ratio)\n",
    "        if ratio_diff < best_ratio_diff:\n",
    "            best_ratio_diff = ratio_diff\n",
    "            best_ratio = ratio\n",
    "        elif ratio_diff == best_ratio_diff:\n",
    "            if area > 0.5 * image_size * image_size * ratio[0] * ratio[1]:\n",
    "                best_ratio = ratio\n",
    "    return best_ratio\n",
    "\n",
    "def dynamic_preprocess(image, min_num=1, max_num=12, image_size=448, use_thumbnail=False):\n",
    "    orig_width, orig_height = image.size\n",
    "    aspect_ratio = orig_width / orig_height\n",
    "\n",
    "    target_ratios = set(\n",
    "        (i, j) for n in range(min_num, max_num + 1) for i in range(1, n + 1) for j in range(1, n + 1) if\n",
    "        i * j <= max_num and i * j >= min_num)\n",
    "    target_ratios = sorted(target_ratios, key=lambda x: x[0] * x[1])\n",
    "\n",
    "    target_aspect_ratio = find_closest_aspect_ratio(\n",
    "        aspect_ratio, target_ratios, orig_width, orig_height, image_size)\n",
    "\n",
    "    target_width = image_size * target_aspect_ratio[0]\n",
    "    target_height = image_size * target_aspect_ratio[1]\n",
    "    blocks = target_aspect_ratio[0] * target_aspect_ratio[1]\n",
    "\n",
    "    resized_img = image.resize((target_width, target_height))\n",
    "    processed_images = []\n",
    "    for i in range(blocks):\n",
    "        box = (\n",
    "            (i % (target_width // image_size)) * image_size,\n",
    "            (i // (target_width // image_size)) * image_size,\n",
    "            ((i % (target_width // image_size)) + 1) * image_size,\n",
    "            ((i // (target_width // image_size)) + 1) * image_size\n",
    "        )\n",
    "        split_img = resized_img.crop(box)\n",
    "        processed_images.append(split_img)\n",
    "    assert len(processed_images) == blocks\n",
    "    if use_thumbnail and len(processed_images) != 1:\n",
    "        thumbnail_img = image.resize((image_size, image_size))\n",
    "        processed_images.append(thumbnail_img)\n",
    "    return processed_images\n",
    "\n",
    "def load_image(image_file, input_size=448, max_num=12):\n",
    "    image = Image.open(image_file).convert('RGB')\n",
    "    transform = build_transform(input_size=input_size)\n",
    "    images = dynamic_preprocess(image, image_size=input_size, use_thumbnail=True, max_num=max_num)\n",
    "    pixel_values = [transform(image) for image in images]\n",
    "    pixel_values = torch.stack(pixel_values)\n",
    "    return pixel_values\n",
    "\n",
    "# Process image and move to GPU\n",
    "print(\"🖼️  Processing image...\")\n",
    "pixel_values = load_image(imageName, max_num=12).to(torch.bfloat16).cuda()\n",
    "print(f\"✅ Image processed: {pixel_values.shape}\")\n",
    "print(f\"✅ Number of image tiles: {pixel_values.shape[0]}\")\n",
    "\n"
   ]
  },
  {
   "cell_type": "code",
   "execution_count": 5,
   "metadata": {},
   "outputs": [
    {
     "name": "stdout",
     "output_type": "stream",
     "text": [
      "❓ Question: \n",
      "1. Extract the \"Transaction Table\" only. \n",
      "2. YOU MUST NOT GUESS values you unsure of. \n",
      "3. Rows may have missing values\n",
      "4. Rows NEVER HAVE REPEATED AMOUNTS, SO YOU MUST NOT REPEAT VALUES THAT YOU ARE UNSURE OF.\n",
      "5. Format the answer as a markdown table.\n",
      "\n"
     ]
    }
   ],
   "source": [
    "# Visual Question Answering - ask a simple question about the image\n",
    "question = \"\"\"\n",
    "1. Extract the \"Transaction Table\" only. \n",
    "2. YOU MUST NOT GUESS values you unsure of. \n",
    "3. Rows may have missing values\n",
    "4. Rows NEVER HAVE REPEATED AMOUNTS, SO YOU MUST NOT REPEAT VALUES THAT YOU ARE UNSURE OF.\n",
    "5. Format the answer as a markdown table.\n",
    "\"\"\"\n",
    "# InternVL3 format: <image>\\n + question\n",
    "formatted_question = f'<image>\\n{question}'\n",
    "print(f\"❓ Question: {question}\")"
   ]
  },
  {
   "cell_type": "code",
   "execution_count": 6,
   "metadata": {},
   "outputs": [
    {
     "name": "stdout",
     "output_type": "stream",
     "text": [
      "🤖 Generating response with InternVL3...\n",
      "💾 GPU Memory before generation:\n",
      "   GPU 0: 15.95GB allocated, 16.07GB reserved\n",
      "   GPU 1: 0.00GB allocated, 0.00GB reserved\n"
     ]
    },
    {
     "name": "stderr",
     "output_type": "stream",
     "text": [
      "Setting `pad_token_id` to `eos_token_id`:151645 for open-end generation.\n"
     ]
    },
    {
     "name": "stdout",
     "output_type": "stream",
     "text": [
      "✅ Response generated successfully!\n",
      "\n",
      "============================================================\n",
      "INTERNVL3 RESPONSE:\n",
      "============================================================\n",
      "```markdown\n",
      "| Date       | Description                                      | Withdrawal | Deposit  | Balance   |\n",
      "|---------|---------------------------------------------------|------------|----------|-----------|\n",
      "| 0709/2025 | EFTPOS Cash Out PRICELINE PHARMACY MACKAY QLD     | $322.18    |          | $4880.58  |\n",
      "| 08/09/2025 | EFTPOS Purchase OFFICEWORKS BUSINESS ROCKHAMPTO... | $64.33     |          | $4992.76  |\n",
      "| 09/09/2025 | Mortgage Repayment MORT 61399999533 NAB          | $849.79    |          | $4927.79  |\n",
      "| 03/09/2025 | OSKO Payment to MIKE CHEN 80884985777331         | $1385.43   |          | $4992.88  |\n",
      "| 03/09/2025 | Direct Debit 155995418028033 MHR 42770          | $199.17    |          | $5113.31  |\n",
      "| 02/09/2025 | Salary Payment AGL 2877886777081299             |           | $8105.71 | $51511.48 |\n",
      "| 02/09/2025 | DD INSURANCE ACME CORP PTY LTD 6233124151853     | $45.04     |          | $43305.77 |\n",
      "| 01/09/2025 | Auto Payment UTILITIES AGL 6774085943344          | $257.50    |          | $43440.81 |\n",
      "| 01/09/2025 | DIRECT CREDIT SALARY 6008086712988               |           | $4449.44 | $43708.31 |\n",
      "| 01/09/2025 | BPAY Payment BILLER 6008267779 CRN 9031018480   | $337.98    |          | $33925.87 |\n",
      "| 11/08/2025 | Professional Services Red Energy 680773391594417 | $2457.87   |          | $34175.72 |\n",
      "| 20/08/2025 | Card Purchase RED ROOSTER Paramatta SA            | $270.31    |          | $44205.03 |\n",
      "| 20/08/2025 | Credit Card Payment 725993328288                | $1957.09   |          | $43828.12 |\n",
      "| 27/08/2025 | EFTPOS Cash Out PRICELINE PHARMACY BRISBANE QLD  | $221.60    |          | $44203.72 |\n",
      "| 28/08/2025 | Card Purchase CHEMIST WAREHOUSE DISCOUNT         | $222.56    |          | $44262.28 |\n",
      "| 24/08/2025 | Fortnightly Pay ATO PAYROLL 10133335887181          |           | $5679.21 | $33874.07 |\n",
      "| 24/08/2025 | PAY RRUN ACME CORP PTY LTD 0954892756381         |           | $4455.46 | $33429.13 |\n",
      "| 24/08/2025 | Salary Payment 317115333333111                 |           | $7951.93 | $26339.68 |\n",
      "| 23/08/2025 | Online Purchase amazon.com.au                    | $833.78    |          | $26013.70 |\n",
      "| 22/08/2025 | Salary Payment ATO 9451448040207                |           | $8011.30 | $26423.46 |\n",
      "| 20/08/2025 | Transfer To Vicks Account NatBank 5433819941102 | $2335.10   |          | $24049.76 |\n",
      "| 20/08/2025 | Salary Payment ATO 9451448040207                |           | $3541.27 | $22754.86 |\n",
      "| 19/08/2025 | Transfer To Westem Port Marina NatBank From Tod   | $726.48    |          | $19213.59 |\n",
      "| 18/08/2025 | Subscription Netflix 333386773385123            | $201.14    |          | $19940.07 |\n",
      "| 18/08/2025 | Contactless Payment CINEMA CARINS QLD            | $211.28    |          | $20144.21 |\n",
      "| 18/08/2025 | AutoPay Payment UTILITIES Red Energy 1510722171665   | $33.24     |          | $20352.40 |\n",
      "| 18/08/2025 | Contactless Payment MACKAY OLD                  | $145.70    |          | $20385.73 |\n",
      "| 17/08/2025 | Fortnightly Pay ATO PAYROLL 36358792549988        |           | $7201.19 | $20531.43 |\n",
      "| 14/08/2025 | Centrlink Payment JobSeeker 59032950008784       | $27.06     | $2241.39 | $13330.24 |\n",
      "| 14/08/2025 | International Transaction Fee                    | $27.06     |          | $11088.85 |\n",
      "| 13/08/2025 | Equipment Purchase OfficeMax Australia 135544153 | $478.86    |          | $11115.91 |\n",
      "| 11/08/2025 | International ATM USA                         | $280.71    |          | $11594.77 |\n",
      "| 10/08/2025 | Dividend Payment PREMIUM CORP PTY LTD 73535418   |           | $6395.00 | $11855.48 |\n",
      "| 10/08/2025 | Invoice Payment HARVEY NORMAN FLAGSHIP PTY LTD   | $229.39    |          | $5460.39  |\n",
      "| 10/08/2025 | Online Purchase ebay.com.au                    | $257.95    |          | $5689.78  |\n",
      "| 09/08/2025 | Subscription Spotify Monthly 1530956427775     | $180.22    |          | $5947.73  |\n",
      "| 08/08/2025 | International Transaction 6868986114679           | $33.83     |          | $61333.95 |\n",
      "| 08/08/2025 | Business Expense IT Equipment 686\n",
      "============================================================\n"
     ]
    }
   ],
   "source": [
    "# Deterministic generation config with multi-turn support\n",
    "generation_config = dict(\n",
    "    max_new_tokens=2000,\n",
    "    do_sample=False  # Pure greedy decoding for deterministic output\n",
    ")\n",
    "\n",
    "# Clear CUDA cache before generation\n",
    "torch.cuda.empty_cache()\n",
    "\n",
    "# Generate response using InternVL3 API\n",
    "print(\"🤖 Generating response with InternVL3...\")\n",
    "print(f\"💾 GPU Memory before generation:\")\n",
    "for i in range(torch.cuda.device_count()):\n",
    "    allocated = torch.cuda.memory_allocated(i) / 1e9\n",
    "    reserved = torch.cuda.memory_reserved(i) / 1e9\n",
    "    print(f\"   GPU {i}: {allocated:.2f}GB allocated, {reserved:.2f}GB reserved\")\n",
    "\n",
    "try:\n",
    "    # Access chat() via .module when using DataParallel\n",
    "    chat_method = model.module.chat if hasattr(model, 'module') else model.chat\n",
    "    \n",
    "    response, history = chat_method(\n",
    "        tokenizer, \n",
    "        pixel_values, \n",
    "        formatted_question, \n",
    "        generation_config,\n",
    "        history=None,\n",
    "        return_history=True\n",
    "    )\n",
    "    \n",
    "    print(\"✅ Response generated successfully!\")\n",
    "    print(\"\\n\" + \"=\"*60)\n",
    "    print(\"INTERNVL3 RESPONSE:\")\n",
    "    print(\"=\"*60)\n",
    "    print(response)\n",
    "    print(\"=\"*60)\n",
    "    \n",
    "except Exception as e:\n",
    "    print(f\"❌ Error during inference: {e}\")\n",
    "    print(f\"Error type: {type(e).__name__}\")\n",
    "    import traceback\n",
    "    traceback.print_exc()\n",
    "finally:\n",
    "    # Clean up GPU memory\n",
    "    torch.cuda.empty_cache()"
   ]
  },
  {
   "cell_type": "code",
   "execution_count": null,
   "metadata": {},
   "outputs": [],
   "source": [
    "# Optional: Save response to file\n",
    "try:\n",
    "    output_path = Path(\"internvl3_vqa_output.txt\")\n",
    "    \n",
    "    with output_path.open(\"w\", encoding=\"utf-8\") as text_file:\n",
    "        text_file.write(response)\n",
    "    \n",
    "    print(f\"✅ Response saved to: {output_path}\")\n",
    "    print(f\"📄 File size: {output_path.stat().st_size} bytes\")\n",
    "    \n",
    "except NameError:\n",
    "    print(\"❌ Error: 'response' variable not defined.\")\n",
    "    print(\"💡 Please run the previous cell first to generate the response.\")\n",
    "    \n",
    "except Exception as e:\n",
    "    print(f\"❌ Error saving file: {e}\")"
   ]
  }
 ],
 "metadata": {
  "kernelspec": {
   "display_name": "Python (unified_vision_processor)",
   "language": "python",
   "name": "unified_vision_processor"
  },
  "language_info": {
   "codemirror_mode": {
    "name": "ipython",
    "version": 3
   },
   "file_extension": ".py",
   "mimetype": "text/x-python",
   "name": "python",
   "nbconvert_exporter": "python",
   "pygments_lexer": "ipython3",
   "version": "3.11.13"
  }
 },
 "nbformat": 4,
 "nbformat_minor": 4
}
