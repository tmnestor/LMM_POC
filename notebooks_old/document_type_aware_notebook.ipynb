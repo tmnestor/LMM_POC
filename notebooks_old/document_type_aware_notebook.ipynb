{
 "cells": [
  {
   "cell_type": "markdown",
   "execution_count": null,
   "metadata": {},
   "source": "# Document Type Aware Processing - Interactive Demo\n\nInteractive notebook for testing document-type-specific processing with Phase 3 vision-language models.\nFeatures automatic document detection, schema optimization, and performance comparison."
  },
  {
   "cell_type": "code",
   "execution_count": null,
   "metadata": {},
   "outputs": [],
   "source": "#!/usr/bin/env python3\n\"\"\"\nDocument Type Aware Processing Notebook - Interactive Phase 3 Demo\n\nInteractive notebook for testing document-type-specific processing with advanced features:\n- Automatic document type detection (invoice, bank_statement, receipt)\n- Schema-driven field reduction (19-15 fields vs 25 unified)\n- Performance comparison and efficiency metrics\n- V100-optimized memory management\n\"\"\"\n\nimport sys\nfrom pathlib import Path\nfrom PIL import Image\nfrom IPython.display import display, Markdown, HTML\nimport time\n\n# Add project root to path (parent directory since we're in notebooks/)\nproject_root = Path('..').absolute()\nif str(project_root) not in sys.path:\n    sys.path.insert(0, str(project_root))\n\nprint(f\"📂 Project root: {project_root}\")\nprint(\"✅ Document-aware processing environment configured\")\nprint(\"🎯 Phase 3 capabilities: Document detection + Schema optimization + Performance tracking\")"
  },
  {
   "cell_type": "code",
   "execution_count": null,
   "metadata": {},
   "outputs": [],
   "source": "# Import the document-aware processors (Phase 3)\ntry:\n    from models.llama_processor_v2 import DocumentAwareLlamaProcessor\n    from models.internvl3_processor_v2 import DocumentAwareInternVL3Processor\n    from common.extraction_parser import discover_images\n    print(\"✅ Document-aware processors imported successfully\")\n    print(\"🎯 Using Phase 3 document-type-specific schema system\")\nexcept ImportError as e:\n    print(f\"❌ Import error: {e}\")\n    print(\"💡 Make sure Phase 3 processors exist: models/*_processor_v2.py\")"
  },
  {
   "cell_type": "markdown",
   "execution_count": null,
   "metadata": {},
   "source": "## Configuration\n\nConfigure the document-aware processing settings below:"
  },
  {
   "cell_type": "code",
   "execution_count": null,
   "metadata": {},
   "outputs": [],
   "source": "# ============================================================================\n# DOCUMENT-AWARE PROCESSING CONFIGURATION\n# ============================================================================\n\n# Choose model: \"llama\" or \"internvl3\"\nMODEL = \"llama\"\n\n# Document awareness enabled (Phase 3 feature)\nENABLE_DOCUMENT_AWARENESS = True\n\n# Test image (or None to use first available)\nTEST_IMAGE = \"../evaluation_data/synthetic_invoice_001.png\"\n\n# Show document detection details? (True/False)\nSHOW_DOCUMENT_ANALYSIS = True\n\n# Maximum tokens for generation (increase for longer outputs)\nMAX_TOKENS = 2048\n\nprint(f\"🚀 Document-Aware Processing Configuration:\")\nprint(f\"   Model: {MODEL}\")\nprint(f\"   Document Awareness: {'✅ Enabled' if ENABLE_DOCUMENT_AWARENESS else '❌ Disabled'}\")\nprint(f\"   Max tokens: {MAX_TOKENS}\")\nprint(f\"   Image: {TEST_IMAGE or 'auto-select'}\")\nprint(f\"   Document analysis: {SHOW_DOCUMENT_ANALYSIS}\")\nprint()\nprint(\"🎯 Document-Aware Features:\")\nprint(\"   → Automatic document type detection (invoice/bank_statement/receipt)\")\nprint(\"   → Schema-optimized field extraction (20/15 fields vs 25 unified)\")\nprint(\"   → Document-specific prompt generation\")\nprint(\"   → V100-optimized memory management\")"
  },
  {
   "cell_type": "markdown",
   "execution_count": null,
   "metadata": {},
   "source": "## Document-Aware Processing\n\nThis notebook uses schema-driven document-aware processing. The system will automatically:\n\n1. **Detect document type** from the image\n2. **Load appropriate schema** (invoice: 20 fields, bank/receipt: 15 fields)  \n3. **Generate targeted prompts** optimized for the detected document type\n4. **Extract structured data** using the document-specific field set"
  },
  {
   "cell_type": "code",
   "execution_count": null,
   "metadata": {},
   "outputs": [],
   "source": "# Show the document-aware processing workflow\ndisplay(HTML(\"<h3>🔧 Document-Aware Processing Workflow:</h3>\"))\n\nworkflow_html = \"\"\"\n<div style=\"background-color: #f8f9fa; padding: 20px; border-radius: 8px; border-left: 4px solid #007bff;\">\n    <h4>📋 Processing Steps:</h4>\n    <ol style=\"margin: 10px 0;\">\n        <li><strong>Document Classification:</strong> Analyze image to detect document type</li>\n        <li><strong>Schema Loading:</strong> Load document-specific field schema</li>\n        <li><strong>Prompt Generation:</strong> Create targeted extraction prompt</li>\n        <li><strong>Field Extraction:</strong> Extract only relevant fields for document type</li>\n        <li><strong>Response Parsing:</strong> Parse and structure the extracted data</li>\n    </ol>\n    \n    <h4>🎯 Schema Optimization:</h4>\n    <ul style=\"margin: 10px 0;\">\n        <li><strong>Invoice:</strong> 20 fields (PAYER_ABN, INVOICE_NUMBER, GST_AMOUNT, etc.)</li>\n        <li><strong>Bank Statement:</strong> 15 fields (ACCOUNT_NUMBER, BALANCES, etc.)</li>\n        <li><strong>Receipt:</strong> 15 fields (PAYMENT_METHOD, TRANSACTION_DATE, etc.)</li>\n    </ul>\n    \n    <p><em>Note: The actual prompts are generated dynamically based on the detected document type and selected schema fields.</em></p>\n</div>\n\"\"\"\n\ndisplay(HTML(workflow_html))"
  },
  {
   "cell_type": "markdown",
   "execution_count": null,
   "metadata": {},
   "source": [
    "## Load and Display Image"
   ]
  },
  {
   "cell_type": "code",
   "execution_count": null,
   "metadata": {},
   "outputs": [],
   "source": "# Auto-select image if none specified\nimage_path = TEST_IMAGE\nif not image_path:\n    try:\n        from common.extraction_parser import discover_images\n        images = discover_images(\"../evaluation_data/\")\n        if images:\n            image_path = str(images[0])\n            print(f\"🎯 Auto-selected: {Path(image_path).name}\")\n        else:\n            print(\"❌ No test images found in ../evaluation_data/\")\n    except Exception as e:\n        print(f\"❌ Error finding images: {e}\")\n\n# Load and display the image\nif image_path and Path(image_path).exists():\n    img = Image.open(image_path)\n    \n    display(HTML(f\"<h3>🖼️ Test Image: {Path(image_path).name}</h3>\"))\n    \n    # Resize for display if too large\n    max_display_width = 800\n    if img.width > max_display_width:\n        ratio = max_display_width / img.width\n        new_height = int(img.height * ratio)\n        img_display = img.resize((max_display_width, new_height), Image.Resampling.LANCZOS)\n        display(img_display)\n        print(f\"📐 Original size: {img.width}x{img.height}\")\n        print(f\"📐 Display size: {img_display.width}x{img_display.height}\")\n    else:\n        display(img)\n        print(f\"📐 Image size: {img.width}x{img.height}\")\nelse:\n    print(f\"❌ Image not found: {image_path}\")"
  },
  {
   "cell_type": "markdown",
   "execution_count": null,
   "metadata": {},
   "source": [
    "## Run Model Processing"
   ]
  },
  {
   "cell_type": "code",
   "execution_count": null,
   "metadata": {},
   "outputs": [],
   "source": "# Initialize the document-aware processor\nprint(f\"🚀 Initializing {MODEL} document-aware processor...\")\nprint(f\"🎯 Document awareness: {'Enabled' if ENABLE_DOCUMENT_AWARENESS else 'Disabled'}\")\n\ntry:\n    if MODEL.lower() == \"llama\":\n        processor = DocumentAwareLlamaProcessor(\n            debug=True,\n            enable_document_awareness=ENABLE_DOCUMENT_AWARENESS\n        )\n    elif MODEL.lower() == \"internvl3\":\n        processor = DocumentAwareInternVL3Processor(\n            debug=True,\n            enable_document_awareness=ENABLE_DOCUMENT_AWARENESS\n        )\n    else:\n        raise ValueError(f\"Unsupported model: {MODEL}\")\n    \n    print(f\"✅ {MODEL} processor initialized successfully\")\n    if ENABLE_DOCUMENT_AWARENESS:\n        print(\"🎯 Document-type-specific schema system active\")\n        print(\"   → Automatic document classification\")\n        print(\"   → Targeted field extraction (19-15 fields vs 25)\")\n        print(\"   → Optimized prompts for each document type\")\n    else:\n        print(\"📋 Using unified schema (25 fields)\")\n        \nexcept Exception as e:\n    print(f\"❌ Error initializing processor: {e}\")\n    print(\"💡 Make sure you're running this on a machine with GPU and model access\")\n    raise"
  },
  {
   "cell_type": "code",
   "execution_count": null,
   "metadata": {},
   "outputs": [],
   "source": "# Run document-aware processing\ndisplay(HTML(\"<h3>🔬 Processing with Document-Aware Model...</h3>\"))\n\nstart_time = time.time()\nresult = None\n\ntry:\n    print(\"🧪 Running document-aware processing...\\n\")\n    \n    # Process image with document awareness\n    result = processor.process_single_image(image_path)\n    \n    processing_time = time.time() - start_time\n    \n    # Extract information from result\n    model_response = result.get('raw_response', 'No response available')\n    parsed_data = result.get('parsed_data', {})\n    \n    print(f\"\\n✅ Processing completed in {processing_time:.2f} seconds\")\n    print(f\"📏 Response length: {len(model_response)} characters\")\n    \n    # Display document awareness results if enabled\n    if ENABLE_DOCUMENT_AWARENESS and SHOW_DOCUMENT_ANALYSIS:\n        doc_awareness = result.get('document_awareness', {})\n        if doc_awareness:\n            print(\"\\n🎯 Document Analysis Results:\")\n            print(f\"   Detected type: {result.get('detected_document_type', 'unknown')}\")\n            print(f\"   Fields extracted: {result.get('fields_extracted', 'unknown')}\")\n            print(f\"   Field reduction: {result.get('field_reduction', 0)} fields\")\n            print(f\"   Efficiency gain: {result.get('efficiency_gain', '0%')}\")\n            print(f\"   Processing mode: {doc_awareness.get('processing_mode', 'unknown')}\")\n    \nexcept Exception as e:\n    print(f\"❌ Error during processing: {e}\")\n    import traceback\n    traceback.print_exc()\n    model_response = None\n    parsed_data = {}"
  },
  {
   "cell_type": "markdown",
   "execution_count": null,
   "metadata": {},
   "source": [
    "## Display Results"
   ]
  },
  {
   "cell_type": "code",
   "execution_count": null,
   "metadata": {},
   "outputs": [],
   "source": [
    "# Display raw model output\n",
    "if model_response:\n",
    "    display(HTML(\"<h3>🤖 Raw Model Output:</h3>\"))\n",
    "    display(HTML(f'<div style=\"background-color: #f0f0f0; padding: 10px; border-radius: 5px; font-family: monospace; white-space: pre-wrap; max-height: 400px; overflow-y: auto;\">{model_response}</div>'))\n",
    "else:\n",
    "    print(\"❌ No model response to display\")"
   ]
  },
  {
   "cell_type": "code",
   "execution_count": null,
   "metadata": {},
   "outputs": [],
   "source": "# Display document-aware prompt information\nif result and ENABLE_DOCUMENT_AWARENESS:\n    display(HTML(\"<h3>🎯 Document-Aware Processing Details:</h3>\"))\n    \n    detected_type = result.get('detected_document_type', 'unknown')\n    schema_info = result.get('document_awareness', {})\n    \n    details_html = f\"\"\"\n    <div style=\"background-color: #e8f4f8; padding: 15px; border-radius: 5px; margin: 10px 0;\">\n        <h4>📋 Document Analysis:</h4>\n        <ul>\n            <li><strong>Detected Type:</strong> {detected_type}</li>\n            <li><strong>Schema Fields:</strong> {result.get('fields_extracted', 'unknown')} fields</li>\n            <li><strong>Processing Mode:</strong> {schema_info.get('processing_mode', 'schema-driven')}</li>\n        </ul>\n        \n        <h4>🔧 Generated Prompt (Schema-Driven):</h4>\n        <div style=\"background-color: white; padding: 10px; border-radius: 3px; font-family: monospace; font-size: 12px; margin: 5px 0; max-height: 200px; overflow-y: auto;\">\n            {result.get('generated_prompt', 'Schema-driven prompt used for extraction')}\n        </div>\n    </div>\n    \"\"\"\n    \n    display(HTML(details_html))\nelse:\n    print(\"💡 Document awareness is disabled or no results available\")"
  },
  {
   "cell_type": "code",
   "source": "# Display parsed structured data\nif parsed_data:\n    display(HTML(\"<h3>📊 Structured Data Extraction:</h3>\"))\n    \n    # Count extracted fields\n    extracted_fields = {k: v for k, v in parsed_data.items() if v and str(v).strip()}\n    field_count = len(extracted_fields)\n    \n    print(f\"📋 Successfully extracted {field_count} fields:\")\n    \n    # Display in a formatted table\n    html_table = \"\"\"\n    <table style=\"border-collapse: collapse; width: 100%; margin: 10px 0;\">\n        <tr style=\"background-color: #f0f0f0;\">\n            <th style=\"border: 1px solid #ddd; padding: 8px; text-align: left;\">Field</th>\n            <th style=\"border: 1px solid #ddd; padding: 8px; text-align: left;\">Value</th>\n        </tr>\n    \"\"\"\n    \n    for field, value in extracted_fields.items():\n        html_table += f\"\"\"\n        <tr>\n            <td style=\"border: 1px solid #ddd; padding: 8px; font-weight: bold;\">{field}</td>\n            <td style=\"border: 1px solid #ddd; padding: 8px;\">{value}</td>\n        </tr>\n        \"\"\"\n    \n    html_table += \"</table>\"\n    display(HTML(html_table))\n    \n    # Show extraction efficiency\n    if ENABLE_DOCUMENT_AWARENESS and result:\n        total_possible = result.get('fields_extracted', 25)\n        extraction_rate = (field_count / total_possible) * 100 if total_possible > 0 else 0\n        print(f\"\\n📈 Extraction Efficiency:\")\n        print(f\"   Fields extracted: {field_count}/{total_possible}\")\n        print(f\"   Success rate: {extraction_rate:.1f}%\")\n        print(f\"   Document-specific schema: {result.get('detected_document_type', 'unknown')}\")\n        \nelse:\n    print(\"❌ No structured data extracted\")",
   "metadata": {},
   "execution_count": null,
   "outputs": []
  },
  {
   "cell_type": "markdown",
   "execution_count": null,
   "metadata": {},
   "source": [
    "## Comparison Results (if enabled)"
   ]
  },
  {
   "cell_type": "code",
   "source": "# Compare Phase 3 document-aware vs legacy unified processing\nif result and ENABLE_DOCUMENT_AWARENESS:\n    display(HTML(\"<h3>📊 Phase 3 vs Legacy Processing Comparison:</h3>\"))\n    \n    # Extract Phase 3 metrics\n    doc_type = result.get('detected_document_type', 'unknown')\n    fields_used = result.get('fields_extracted', 25)\n    efficiency_gain = result.get('efficiency_gain', '0%')\n    field_reduction = result.get('field_reduction', 0)\n    \n    # Create comparison table\n    html_comparison = f\"\"\"\n    <table style=\"border-collapse: collapse; width: 100%; margin: 10px 0;\">\n        <tr style=\"background-color: #f0f0f0;\">\n            <th style=\"border: 1px solid #ddd; padding: 8px; text-align: left;\">Aspect</th>\n            <th style=\"border: 1px solid #ddd; padding: 8px; text-align: left;\">Legacy (Phase 1)</th>\n            <th style=\"border: 1px solid #ddd; padding: 8px; text-align: left;\">Document-Aware (Phase 3)</th>\n            <th style=\"border: 1px solid #ddd; padding: 8px; text-align: left;\">Improvement</th>\n        </tr>\n        <tr>\n            <td style=\"border: 1px solid #ddd; padding: 8px; font-weight: bold;\">Document Detection</td>\n            <td style=\"border: 1px solid #ddd; padding: 8px;\">❌ None</td>\n            <td style=\"border: 1px solid #ddd; padding: 8px;\">✅ {doc_type}</td>\n            <td style=\"border: 1px solid #ddd; padding: 8px;\">Automatic classification</td>\n        </tr>\n        <tr>\n            <td style=\"border: 1px solid #ddd; padding: 8px; font-weight: bold;\">Schema Fields</td>\n            <td style=\"border: 1px solid #ddd; padding: 8px;\">25 (unified)</td>\n            <td style=\"border: 1px solid #ddd; padding: 8px;\">{fields_used} (targeted)</td>\n            <td style=\"border: 1px solid #ddd; padding: 8px;\">{field_reduction} fewer fields</td>\n        </tr>\n        <tr>\n            <td style=\"border: 1px solid #ddd; padding: 8px; font-weight: bold;\">Efficiency Gain</td>\n            <td style=\"border: 1px solid #ddd; padding: 8px;\">0% (baseline)</td>\n            <td style=\"border: 1px solid #ddd; padding: 8px;\">{efficiency_gain}</td>\n            <td style=\"border: 1px solid #ddd; padding: 8px;\">{'Significant' if efficiency_gain != '0%' else 'None'}</td>\n        </tr>\n        <tr>\n            <td style=\"border: 1px solid #ddd; padding: 8px; font-weight: bold;\">Prompt Optimization</td>\n            <td style=\"border: 1px solid #ddd; padding: 8px;\">❌ Generic</td>\n            <td style=\"border: 1px solid #ddd; padding: 8px;\">✅ Document-specific</td>\n            <td style=\"border: 1px solid #ddd; padding: 8px;\">Targeted extraction</td>\n        </tr>\n        <tr>\n            <td style=\"border: 1px solid #ddd; padding: 8px; font-weight: bold;\">Memory Usage</td>\n            <td style=\"border: 1px solid #ddd; padding: 8px;\">⚠️ Basic cleanup</td>\n            <td style=\"border: 1px solid #ddd; padding: 8px;\">✅ V100 optimized</td>\n            <td style=\"border: 1px solid #ddd; padding: 8px;\">Fragmentation prevention</td>\n        </tr>\n    </table>\n    \"\"\"\n    \n    display(HTML(html_comparison))\n    \n    # Summary\n    print(\"🎯 Key Improvements:\")\n    if efficiency_gain != '0%':\n        print(f\"   • {efficiency_gain} efficiency improvement through field reduction\")\n    print(f\"   • Automatic document type detection: {doc_type}\")\n    print(f\"   • {field_reduction} fewer fields to process (25 → {fields_used})\")\n    print(\"   • V100-safe memory management with fragmentation prevention\")\n    print(\"   • Document-specific prompt optimization\")\n    \nelse:\n    print(\"💡 Enable document awareness to see Phase 3 improvements\")",
   "metadata": {},
   "execution_count": null,
   "outputs": []
  },
  {
   "cell_type": "markdown",
   "source": "## Document-Aware Processing Results\n\nThe cells below show the document-aware processing results and analysis:",
   "metadata": {}
  },
  {
   "cell_type": "markdown",
   "execution_count": null,
   "metadata": {},
   "source": "# Display schema fields for the detected document type\nif result and ENABLE_DOCUMENT_AWARENESS:\n    display(HTML(\"<h3>📋 Schema Fields Used for This Document:</h3>\"))\n    \n    detected_type = result.get('detected_document_type', 'unknown')\n    schema_info = result.get('document_awareness', {})\n    fields_used = result.get('fields_extracted', 0)\n    \n    # Show the fields that were used for this document type\n    schema_html = f\"\"\"\n    <div style=\"background-color: #f0f8ff; padding: 15px; border-radius: 5px; margin: 10px 0;\">\n        <h4>🎯 Document Type: {detected_type.title()}</h4>\n        <p><strong>Fields in Schema:</strong> {fields_used} (optimized for {detected_type})</p>\n        <p><strong>Comparison:</strong> {25 - fields_used} fewer fields than unified schema (25 total)</p>\n        \n        <h4>🔧 Document-Aware Benefits:</h4>\n        <ul>\n            <li>✅ Focused extraction on relevant fields only</li>\n            <li>✅ Faster processing with targeted schema</li>\n            <li>✅ Higher accuracy for document-specific fields</li>\n            <li>✅ Reduced token usage and memory consumption</li>\n        </ul>\n    </div>\n    \"\"\"\n    \n    display(HTML(schema_html))\n    \n    print(f\"🎯 This {detected_type} used {fields_used} targeted fields instead of 25 generic fields\")\n    print(f\"📈 Schema optimization: {((25 - fields_used) / 25) * 100:.0f}% reduction in field processing\")\n    \nelse:\n    print(\"💡 Enable document awareness and run processing to see schema details\")"
  },
  {
   "cell_type": "code",
   "execution_count": null,
   "metadata": {},
   "outputs": [],
   "source": "# Test document-aware processing variations\nif processor and result:\n    display(HTML(\"<h3>🔬 Document-Aware Processing Analysis:</h3>\"))\n    \n    detected_type = result.get('detected_document_type', 'unknown')\n    \n    analysis_html = f\"\"\"\n    <div style=\"background-color: #f8f9fa; padding: 15px; border-radius: 5px; margin: 10px 0;\">\n        <h4>📊 Processing Results Summary:</h4>\n        <table style=\"width: 100%; border-collapse: collapse; margin: 10px 0;\">\n            <tr style=\"background-color: #e9ecef;\">\n                <th style=\"border: 1px solid #dee2e6; padding: 8px; text-align: left;\">Metric</th>\n                <th style=\"border: 1px solid #dee2e6; padding: 8px; text-align: left;\">Value</th>\n                <th style=\"border: 1px solid #dee2e6; padding: 8px; text-align: left;\">Benefit</th>\n            </tr>\n            <tr>\n                <td style=\"border: 1px solid #dee2e6; padding: 8px;\">Document Type</td>\n                <td style=\"border: 1px solid #dee2e6; padding: 8px;\">{detected_type}</td>\n                <td style=\"border: 1px solid #dee2e6; padding: 8px;\">Automatic detection</td>\n            </tr>\n            <tr>\n                <td style=\"border: 1px solid #dee2e6; padding: 8px;\">Schema Fields</td>\n                <td style=\"border: 1px solid #dee2e6; padding: 8px;\">{result.get('fields_extracted', 0)}</td>\n                <td style=\"border: 1px solid #dee2e6; padding: 8px;\">Targeted extraction</td>\n            </tr>\n            <tr>\n                <td style=\"border: 1px solid #dee2e6; padding: 8px;\">Processing Time</td>\n                <td style=\"border: 1px solid #dee2e6; padding: 8px;\">{result.get('total_processing_time', 0):.2f}s</td>\n                <td style=\"border: 1px solid #dee2e6; padding: 8px;\">Optimized performance</td>\n            </tr>\n            <tr>\n                <td style=\"border: 1px solid #dee2e6; padding: 8px;\">Response Length</td>\n                <td style=\"border: 1px solid #dee2e6; padding: 8px;\">{len(result.get('raw_response', ''))}</td>\n                <td style=\"border: 1px solid #dee2e6; padding: 8px;\">Focused output</td>\n            </tr>\n        </table>\n    </div>\n    \"\"\"\n    \n    display(HTML(analysis_html))\n    \n    print(\"🎯 Key Document-Aware Processing Advantages:\")\n    print(f\"   → Schema optimized for {detected_type} documents\")\n    print(f\"   → {25 - result.get('fields_extracted', 25)} fewer fields to process\")\n    print(\"   → Automatic document type detection and classification\")\n    print(\"   → V100-optimized memory management and GPU utilization\")\n    \nelse:\n    print(\"💡 Run the processing cell above first to see analysis results\")"
  },
  {
   "cell_type": "code",
   "execution_count": null,
   "metadata": {},
   "outputs": [],
   "source": "## Tips for Using This Document-Aware Notebook\n\n### Phase 3 Document-Aware Features\nThis notebook now uses **Phase 3 document-type-specific processors** with advanced capabilities:\n\n1. **Automatic Document Detection**: The system detects invoice, bank_statement, or receipt automatically\n2. **Schema Optimization**: Uses 19 fields for invoices, 15 for statements/receipts (vs 25 unified)\n3. **Targeted Extraction**: Prompts are optimized for each document type\n4. **Efficiency Tracking**: Shows field reduction and performance gains\n\n### Configuration Options\n- **`ENABLE_DOCUMENT_AWARENESS`**: Toggle document-specific processing on/off\n- **`SHOW_DOCUMENT_ANALYSIS`**: Display detection and efficiency metrics\n- **`MODEL`**: Choose between \"llama\" and \"internvl3\" processors\n\n### Usage Tips\n1. **Edit the Configuration**: Modify `EXPERIMENTAL_PROMPT` and settings in the configuration cell\n2. **Run All Cells**: Use Cell → Run All to execute the entire notebook\n3. **Monitor Document Detection**: Check the analysis section to see detected document type\n4. **Compare Efficiency**: Look for field reduction and efficiency gain percentages\n5. **Structured Data**: Review the extracted fields table for quality assessment\n6. **Quick Iteration**: Use the iteration cells for rapid testing\n\n### Expected Performance\n- **Document Detection**: 85%+ confidence for clear business documents\n- **Field Reduction**: 24% (invoices), 40% (statements/receipts)\n- **Processing Speed**: Faster due to fewer fields to extract\n- **Memory Usage**: Optimized with V100-safe fragmentation handling\n\n### Troubleshooting\n- **Low Confidence Detection**: Document may be unclear or unsupported type (falls back to unified schema)\n- **Memory Issues**: V100 optimizations are built-in, but reduce `MAX_TOKENS` if needed\n- **Import Errors**: Ensure Phase 3 processors exist: `models/*_processor_v2.py`\n\n### Keyboard Shortcuts\n- `Shift + Enter`: Run cell and move to next\n- `Ctrl + Enter`: Run cell and stay  \n- `Alt + Enter`: Run cell and insert new cell below"
  },
  {
   "cell_type": "markdown",
   "execution_count": null,
   "metadata": {},
   "source": [
    "## Tips for Using This Notebook\n",
    "\n",
    "1. **Edit the Configuration**: Modify the `EXPERIMENTAL_PROMPT` in the configuration cell\n",
    "2. **Run All Cells**: Use Cell → Run All to execute the entire notebook\n",
    "3. **Quick Iteration**: Use the \"Quick Iteration Zone\" cells for rapid testing\n",
    "4. **Compare Models**: Change `MODEL` between \"llama\" and \"internvl3\" to compare\n",
    "5. **Adjust Tokens**: Increase `MAX_TOKENS` if output is being cut off\n",
    "6. **Save Results**: The last cell exports your results to a markdown file\n",
    "\n",
    "### Keyboard Shortcuts\n",
    "- `Shift + Enter`: Run cell and move to next\n",
    "- `Ctrl + Enter`: Run cell and stay\n",
    "- `Alt + Enter`: Run cell and insert new cell below"
   ]
  }
 ],
 "metadata": {
  "kernelspec": {
   "display_name": "Python (Vision Notebooks)",
   "language": "python",
   "name": "vision_notebooks"
  },
  "language_info": {
   "codemirror_mode": {
    "name": "ipython",
    "version": 3
   },
   "file_extension": ".py",
   "mimetype": "text/x-python",
   "name": "python",
   "nbconvert_exporter": "python",
   "pygments_lexer": "ipython3",
   "version": "3.11.0"
  }
 },
 "nbformat": 4,
 "nbformat_minor": 4
}